{
 "cells": [
  {
   "cell_type": "code",
   "execution_count": 2,
   "metadata": {},
   "outputs": [],
   "source": [
    "import numpy as np\n",
    "import pandas as pd\n",
    "import seaborn as sns\n",
    "import matplotlib.pyplot as plt\n",
    "import warnings\n",
    "warnings.filterwarnings('ignore')"
   ]
  },
  {
   "cell_type": "code",
   "execution_count": 3,
   "metadata": {},
   "outputs": [],
   "source": [
    "df=pd.read_csv('avacoda.csv',parse_dates=['Date'])"
   ]
  },
  {
   "cell_type": "code",
   "execution_count": 4,
   "metadata": {},
   "outputs": [
    {
     "data": {
      "text/html": [
       "<div>\n",
       "<style scoped>\n",
       "    .dataframe tbody tr th:only-of-type {\n",
       "        vertical-align: middle;\n",
       "    }\n",
       "\n",
       "    .dataframe tbody tr th {\n",
       "        vertical-align: top;\n",
       "    }\n",
       "\n",
       "    .dataframe thead th {\n",
       "        text-align: right;\n",
       "    }\n",
       "</style>\n",
       "<table border=\"1\" class=\"dataframe\">\n",
       "  <thead>\n",
       "    <tr style=\"text-align: right;\">\n",
       "      <th></th>\n",
       "      <th>Date</th>\n",
       "      <th>AvgPrice</th>\n",
       "      <th>Total Volume</th>\n",
       "      <th>4046</th>\n",
       "      <th>4225</th>\n",
       "      <th>4770</th>\n",
       "      <th>Total Bags</th>\n",
       "      <th>Small Bags</th>\n",
       "      <th>Large Bags</th>\n",
       "      <th>XLarge Bags</th>\n",
       "      <th>type</th>\n",
       "      <th>year</th>\n",
       "      <th>region</th>\n",
       "    </tr>\n",
       "  </thead>\n",
       "  <tbody>\n",
       "    <tr>\n",
       "      <th>0</th>\n",
       "      <td>2015-12-27</td>\n",
       "      <td>1.33</td>\n",
       "      <td>64236.62</td>\n",
       "      <td>1036.74</td>\n",
       "      <td>54454.85</td>\n",
       "      <td>48.16</td>\n",
       "      <td>8696.87</td>\n",
       "      <td>8603.62</td>\n",
       "      <td>93.25</td>\n",
       "      <td>0.0</td>\n",
       "      <td>conventional</td>\n",
       "      <td>2015</td>\n",
       "      <td>Albany</td>\n",
       "    </tr>\n",
       "    <tr>\n",
       "      <th>1</th>\n",
       "      <td>2015-12-20</td>\n",
       "      <td>1.35</td>\n",
       "      <td>54876.98</td>\n",
       "      <td>674.28</td>\n",
       "      <td>44638.81</td>\n",
       "      <td>58.33</td>\n",
       "      <td>9505.56</td>\n",
       "      <td>9408.07</td>\n",
       "      <td>97.49</td>\n",
       "      <td>0.0</td>\n",
       "      <td>conventional</td>\n",
       "      <td>2015</td>\n",
       "      <td>Albany</td>\n",
       "    </tr>\n",
       "    <tr>\n",
       "      <th>2</th>\n",
       "      <td>2015-12-13</td>\n",
       "      <td>0.93</td>\n",
       "      <td>118220.22</td>\n",
       "      <td>794.70</td>\n",
       "      <td>109149.67</td>\n",
       "      <td>130.50</td>\n",
       "      <td>8145.35</td>\n",
       "      <td>8042.21</td>\n",
       "      <td>103.14</td>\n",
       "      <td>0.0</td>\n",
       "      <td>conventional</td>\n",
       "      <td>2015</td>\n",
       "      <td>Albany</td>\n",
       "    </tr>\n",
       "    <tr>\n",
       "      <th>3</th>\n",
       "      <td>2015-12-06</td>\n",
       "      <td>1.08</td>\n",
       "      <td>78992.15</td>\n",
       "      <td>1132.00</td>\n",
       "      <td>71976.41</td>\n",
       "      <td>72.58</td>\n",
       "      <td>5811.16</td>\n",
       "      <td>5677.40</td>\n",
       "      <td>133.76</td>\n",
       "      <td>0.0</td>\n",
       "      <td>conventional</td>\n",
       "      <td>2015</td>\n",
       "      <td>Albany</td>\n",
       "    </tr>\n",
       "    <tr>\n",
       "      <th>4</th>\n",
       "      <td>2015-11-29</td>\n",
       "      <td>1.28</td>\n",
       "      <td>51039.60</td>\n",
       "      <td>941.48</td>\n",
       "      <td>43838.39</td>\n",
       "      <td>75.78</td>\n",
       "      <td>6183.95</td>\n",
       "      <td>5986.26</td>\n",
       "      <td>197.69</td>\n",
       "      <td>0.0</td>\n",
       "      <td>conventional</td>\n",
       "      <td>2015</td>\n",
       "      <td>Albany</td>\n",
       "    </tr>\n",
       "    <tr>\n",
       "      <th>...</th>\n",
       "      <td>...</td>\n",
       "      <td>...</td>\n",
       "      <td>...</td>\n",
       "      <td>...</td>\n",
       "      <td>...</td>\n",
       "      <td>...</td>\n",
       "      <td>...</td>\n",
       "      <td>...</td>\n",
       "      <td>...</td>\n",
       "      <td>...</td>\n",
       "      <td>...</td>\n",
       "      <td>...</td>\n",
       "      <td>...</td>\n",
       "    </tr>\n",
       "    <tr>\n",
       "      <th>18244</th>\n",
       "      <td>2018-02-04</td>\n",
       "      <td>1.63</td>\n",
       "      <td>17074.83</td>\n",
       "      <td>2046.96</td>\n",
       "      <td>1529.20</td>\n",
       "      <td>0.00</td>\n",
       "      <td>13498.67</td>\n",
       "      <td>13066.82</td>\n",
       "      <td>431.85</td>\n",
       "      <td>0.0</td>\n",
       "      <td>organic</td>\n",
       "      <td>2018</td>\n",
       "      <td>WestTexNewMexico</td>\n",
       "    </tr>\n",
       "    <tr>\n",
       "      <th>18245</th>\n",
       "      <td>2018-01-28</td>\n",
       "      <td>1.71</td>\n",
       "      <td>13888.04</td>\n",
       "      <td>1191.70</td>\n",
       "      <td>3431.50</td>\n",
       "      <td>0.00</td>\n",
       "      <td>9264.84</td>\n",
       "      <td>8940.04</td>\n",
       "      <td>324.80</td>\n",
       "      <td>0.0</td>\n",
       "      <td>organic</td>\n",
       "      <td>2018</td>\n",
       "      <td>WestTexNewMexico</td>\n",
       "    </tr>\n",
       "    <tr>\n",
       "      <th>18246</th>\n",
       "      <td>2018-01-21</td>\n",
       "      <td>1.87</td>\n",
       "      <td>13766.76</td>\n",
       "      <td>1191.92</td>\n",
       "      <td>2452.79</td>\n",
       "      <td>727.94</td>\n",
       "      <td>9394.11</td>\n",
       "      <td>9351.80</td>\n",
       "      <td>42.31</td>\n",
       "      <td>0.0</td>\n",
       "      <td>organic</td>\n",
       "      <td>2018</td>\n",
       "      <td>WestTexNewMexico</td>\n",
       "    </tr>\n",
       "    <tr>\n",
       "      <th>18247</th>\n",
       "      <td>2018-01-14</td>\n",
       "      <td>1.93</td>\n",
       "      <td>16205.22</td>\n",
       "      <td>1527.63</td>\n",
       "      <td>2981.04</td>\n",
       "      <td>727.01</td>\n",
       "      <td>10969.54</td>\n",
       "      <td>10919.54</td>\n",
       "      <td>50.00</td>\n",
       "      <td>0.0</td>\n",
       "      <td>organic</td>\n",
       "      <td>2018</td>\n",
       "      <td>WestTexNewMexico</td>\n",
       "    </tr>\n",
       "    <tr>\n",
       "      <th>18248</th>\n",
       "      <td>2018-01-07</td>\n",
       "      <td>1.62</td>\n",
       "      <td>17489.58</td>\n",
       "      <td>2894.77</td>\n",
       "      <td>2356.13</td>\n",
       "      <td>224.53</td>\n",
       "      <td>12014.15</td>\n",
       "      <td>11988.14</td>\n",
       "      <td>26.01</td>\n",
       "      <td>0.0</td>\n",
       "      <td>organic</td>\n",
       "      <td>2018</td>\n",
       "      <td>WestTexNewMexico</td>\n",
       "    </tr>\n",
       "  </tbody>\n",
       "</table>\n",
       "<p>18249 rows × 13 columns</p>\n",
       "</div>"
      ],
      "text/plain": [
       "            Date  AvgPrice  Total Volume     4046       4225    4770  \\\n",
       "0     2015-12-27      1.33      64236.62  1036.74   54454.85   48.16   \n",
       "1     2015-12-20      1.35      54876.98   674.28   44638.81   58.33   \n",
       "2     2015-12-13      0.93     118220.22   794.70  109149.67  130.50   \n",
       "3     2015-12-06      1.08      78992.15  1132.00   71976.41   72.58   \n",
       "4     2015-11-29      1.28      51039.60   941.48   43838.39   75.78   \n",
       "...          ...       ...           ...      ...        ...     ...   \n",
       "18244 2018-02-04      1.63      17074.83  2046.96    1529.20    0.00   \n",
       "18245 2018-01-28      1.71      13888.04  1191.70    3431.50    0.00   \n",
       "18246 2018-01-21      1.87      13766.76  1191.92    2452.79  727.94   \n",
       "18247 2018-01-14      1.93      16205.22  1527.63    2981.04  727.01   \n",
       "18248 2018-01-07      1.62      17489.58  2894.77    2356.13  224.53   \n",
       "\n",
       "       Total Bags  Small Bags  Large Bags  XLarge Bags          type  year  \\\n",
       "0         8696.87     8603.62       93.25          0.0  conventional  2015   \n",
       "1         9505.56     9408.07       97.49          0.0  conventional  2015   \n",
       "2         8145.35     8042.21      103.14          0.0  conventional  2015   \n",
       "3         5811.16     5677.40      133.76          0.0  conventional  2015   \n",
       "4         6183.95     5986.26      197.69          0.0  conventional  2015   \n",
       "...           ...         ...         ...          ...           ...   ...   \n",
       "18244    13498.67    13066.82      431.85          0.0       organic  2018   \n",
       "18245     9264.84     8940.04      324.80          0.0       organic  2018   \n",
       "18246     9394.11     9351.80       42.31          0.0       organic  2018   \n",
       "18247    10969.54    10919.54       50.00          0.0       organic  2018   \n",
       "18248    12014.15    11988.14       26.01          0.0       organic  2018   \n",
       "\n",
       "                 region  \n",
       "0                Albany  \n",
       "1                Albany  \n",
       "2                Albany  \n",
       "3                Albany  \n",
       "4                Albany  \n",
       "...                 ...  \n",
       "18244  WestTexNewMexico  \n",
       "18245  WestTexNewMexico  \n",
       "18246  WestTexNewMexico  \n",
       "18247  WestTexNewMexico  \n",
       "18248  WestTexNewMexico  \n",
       "\n",
       "[18249 rows x 13 columns]"
      ]
     },
     "execution_count": 4,
     "metadata": {},
     "output_type": "execute_result"
    }
   ],
   "source": [
    "df"
   ]
  },
  {
   "cell_type": "code",
   "execution_count": 5,
   "metadata": {},
   "outputs": [
    {
     "data": {
      "text/plain": [
       "(18249, 13)"
      ]
     },
     "execution_count": 5,
     "metadata": {},
     "output_type": "execute_result"
    }
   ],
   "source": [
    "df.shape"
   ]
  },
  {
   "cell_type": "code",
   "execution_count": 6,
   "metadata": {},
   "outputs": [
    {
     "data": {
      "text/plain": [
       "Index(['Date', 'AvgPrice', 'Total Volume', '4046', '4225', '4770',\n",
       "       'Total Bags', 'Small Bags', 'Large Bags', 'XLarge Bags', 'type', 'year',\n",
       "       'region'],\n",
       "      dtype='object')"
      ]
     },
     "execution_count": 6,
     "metadata": {},
     "output_type": "execute_result"
    }
   ],
   "source": [
    "df.columns"
   ]
  },
  {
   "cell_type": "code",
   "execution_count": 7,
   "metadata": {},
   "outputs": [
    {
     "name": "stdout",
     "output_type": "stream",
     "text": [
      "<class 'pandas.core.frame.DataFrame'>\n",
      "RangeIndex: 18249 entries, 0 to 18248\n",
      "Data columns (total 13 columns):\n",
      " #   Column        Non-Null Count  Dtype         \n",
      "---  ------        --------------  -----         \n",
      " 0   Date          18249 non-null  datetime64[ns]\n",
      " 1   AvgPrice      18249 non-null  float64       \n",
      " 2   Total Volume  18249 non-null  float64       \n",
      " 3   4046          18249 non-null  float64       \n",
      " 4   4225          18249 non-null  float64       \n",
      " 5   4770          18249 non-null  float64       \n",
      " 6   Total Bags    18249 non-null  float64       \n",
      " 7   Small Bags    18249 non-null  float64       \n",
      " 8   Large Bags    18249 non-null  float64       \n",
      " 9   XLarge Bags   18249 non-null  float64       \n",
      " 10  type          18249 non-null  object        \n",
      " 11  year          18249 non-null  int64         \n",
      " 12  region        18249 non-null  object        \n",
      "dtypes: datetime64[ns](1), float64(9), int64(1), object(2)\n",
      "memory usage: 1.8+ MB\n"
     ]
    }
   ],
   "source": [
    "df.info()"
   ]
  },
  {
   "cell_type": "code",
   "execution_count": 8,
   "metadata": {},
   "outputs": [
    {
     "data": {
      "text/plain": [
       "array(['Albany', 'Atlanta', 'BaltimoreWashington', 'Boise', 'Boston',\n",
       "       'BuffaloRochester', 'California', 'Charlotte', 'Chicago',\n",
       "       'CincinnatiDayton', 'Columbus', 'DallasFtWorth', 'Denver',\n",
       "       'Detroit', 'GrandRapids', 'GreatLakes', 'HarrisburgScranton',\n",
       "       'HartfordSpringfield', 'Houston', 'Indianapolis', 'Jacksonville',\n",
       "       'LasVegas', 'LosAngeles', 'Louisville', 'MiamiFtLauderdale',\n",
       "       'Midsouth', 'Nashville', 'NewOrleansMobile', 'NewYork',\n",
       "       'Northeast', 'NorthernNewEngland', 'Orlando', 'Philadelphia',\n",
       "       'PhoenixTucson', 'Pittsburgh', 'Plains', 'Portland',\n",
       "       'RaleighGreensboro', 'RichmondNorfolk', 'Roanoke', 'Sacramento',\n",
       "       'SanDiego', 'SanFrancisco', 'Seattle', 'SouthCarolina',\n",
       "       'SouthCentral', 'Southeast', 'Spokane', 'StLouis', 'Syracuse',\n",
       "       'Tampa', 'TotalUS', 'West', 'WestTexNewMexico'], dtype=object)"
      ]
     },
     "execution_count": 8,
     "metadata": {},
     "output_type": "execute_result"
    }
   ],
   "source": [
    "df[\"region\"].unique()"
   ]
  },
  {
   "cell_type": "code",
   "execution_count": 9,
   "metadata": {},
   "outputs": [
    {
     "data": {
      "text/plain": [
       "Albany                 338\n",
       "Jacksonville           338\n",
       "Roanoke                338\n",
       "Columbus               338\n",
       "Boise                  338\n",
       "Pittsburgh             338\n",
       "NorthernNewEngland     338\n",
       "Syracuse               338\n",
       "Northeast              338\n",
       "NewYork                338\n",
       "Denver                 338\n",
       "SouthCarolina          338\n",
       "Southeast              338\n",
       "MiamiFtLauderdale      338\n",
       "LasVegas               338\n",
       "CincinnatiDayton       338\n",
       "Philadelphia           338\n",
       "Chicago                338\n",
       "Atlanta                338\n",
       "SanFrancisco           338\n",
       "California             338\n",
       "Detroit                338\n",
       "Sacramento             338\n",
       "GrandRapids            338\n",
       "PhoenixTucson          338\n",
       "Plains                 338\n",
       "HartfordSpringfield    338\n",
       "Boston                 338\n",
       "StLouis                338\n",
       "Midsouth               338\n",
       "Louisville             338\n",
       "Seattle                338\n",
       "HarrisburgScranton     338\n",
       "Spokane                338\n",
       "Portland               338\n",
       "SanDiego               338\n",
       "DallasFtWorth          338\n",
       "RaleighGreensboro      338\n",
       "BuffaloRochester       338\n",
       "NewOrleansMobile       338\n",
       "SouthCentral           338\n",
       "GreatLakes             338\n",
       "Nashville              338\n",
       "Indianapolis           338\n",
       "RichmondNorfolk        338\n",
       "BaltimoreWashington    338\n",
       "LosAngeles             338\n",
       "Orlando                338\n",
       "TotalUS                338\n",
       "Tampa                  338\n",
       "Charlotte              338\n",
       "Houston                338\n",
       "West                   338\n",
       "WestTexNewMexico       335\n",
       "Name: region, dtype: int64"
      ]
     },
     "execution_count": 9,
     "metadata": {},
     "output_type": "execute_result"
    }
   ],
   "source": [
    "df[\"region\"].value_counts()"
   ]
  },
  {
   "cell_type": "code",
   "execution_count": 10,
   "metadata": {},
   "outputs": [
    {
     "data": {
      "text/html": [
       "<div>\n",
       "<style scoped>\n",
       "    .dataframe tbody tr th:only-of-type {\n",
       "        vertical-align: middle;\n",
       "    }\n",
       "\n",
       "    .dataframe tbody tr th {\n",
       "        vertical-align: top;\n",
       "    }\n",
       "\n",
       "    .dataframe thead th {\n",
       "        text-align: right;\n",
       "    }\n",
       "</style>\n",
       "<table border=\"1\" class=\"dataframe\">\n",
       "  <thead>\n",
       "    <tr style=\"text-align: right;\">\n",
       "      <th></th>\n",
       "      <th>year</th>\n",
       "      <th>month</th>\n",
       "      <th>day</th>\n",
       "    </tr>\n",
       "  </thead>\n",
       "  <tbody>\n",
       "    <tr>\n",
       "      <th>0</th>\n",
       "      <td>2015</td>\n",
       "      <td>December</td>\n",
       "      <td>Sunday</td>\n",
       "    </tr>\n",
       "    <tr>\n",
       "      <th>1</th>\n",
       "      <td>2015</td>\n",
       "      <td>December</td>\n",
       "      <td>Sunday</td>\n",
       "    </tr>\n",
       "    <tr>\n",
       "      <th>2</th>\n",
       "      <td>2015</td>\n",
       "      <td>December</td>\n",
       "      <td>Sunday</td>\n",
       "    </tr>\n",
       "    <tr>\n",
       "      <th>3</th>\n",
       "      <td>2015</td>\n",
       "      <td>December</td>\n",
       "      <td>Sunday</td>\n",
       "    </tr>\n",
       "    <tr>\n",
       "      <th>4</th>\n",
       "      <td>2015</td>\n",
       "      <td>November</td>\n",
       "      <td>Sunday</td>\n",
       "    </tr>\n",
       "    <tr>\n",
       "      <th>...</th>\n",
       "      <td>...</td>\n",
       "      <td>...</td>\n",
       "      <td>...</td>\n",
       "    </tr>\n",
       "    <tr>\n",
       "      <th>18244</th>\n",
       "      <td>2018</td>\n",
       "      <td>February</td>\n",
       "      <td>Sunday</td>\n",
       "    </tr>\n",
       "    <tr>\n",
       "      <th>18245</th>\n",
       "      <td>2018</td>\n",
       "      <td>January</td>\n",
       "      <td>Sunday</td>\n",
       "    </tr>\n",
       "    <tr>\n",
       "      <th>18246</th>\n",
       "      <td>2018</td>\n",
       "      <td>January</td>\n",
       "      <td>Sunday</td>\n",
       "    </tr>\n",
       "    <tr>\n",
       "      <th>18247</th>\n",
       "      <td>2018</td>\n",
       "      <td>January</td>\n",
       "      <td>Sunday</td>\n",
       "    </tr>\n",
       "    <tr>\n",
       "      <th>18248</th>\n",
       "      <td>2018</td>\n",
       "      <td>January</td>\n",
       "      <td>Sunday</td>\n",
       "    </tr>\n",
       "  </tbody>\n",
       "</table>\n",
       "<p>18249 rows × 3 columns</p>\n",
       "</div>"
      ],
      "text/plain": [
       "       year     month     day\n",
       "0      2015  December  Sunday\n",
       "1      2015  December  Sunday\n",
       "2      2015  December  Sunday\n",
       "3      2015  December  Sunday\n",
       "4      2015  November  Sunday\n",
       "...     ...       ...     ...\n",
       "18244  2018  February  Sunday\n",
       "18245  2018   January  Sunday\n",
       "18246  2018   January  Sunday\n",
       "18247  2018   January  Sunday\n",
       "18248  2018   January  Sunday\n",
       "\n",
       "[18249 rows x 3 columns]"
      ]
     },
     "execution_count": 10,
     "metadata": {},
     "output_type": "execute_result"
    }
   ],
   "source": [
    "# year, month in separate dataframe\n",
    "df_ava_dates=pd.DataFrame()\n",
    "df_ava_dates[\"year\"]=df[\"Date\"].dt.year\n",
    "df_ava_dates[\"month\"]=df[\"Date\"].dt.month_name()\n",
    "df_ava_dates[\"day\"]=df[\"Date\"].dt.day_name()\n",
    "df_ava_dates"
   ]
  },
  {
   "cell_type": "code",
   "execution_count": 11,
   "metadata": {},
   "outputs": [
    {
     "data": {
      "text/html": [
       "<div>\n",
       "<style scoped>\n",
       "    .dataframe tbody tr th:only-of-type {\n",
       "        vertical-align: middle;\n",
       "    }\n",
       "\n",
       "    .dataframe tbody tr th {\n",
       "        vertical-align: top;\n",
       "    }\n",
       "\n",
       "    .dataframe thead th {\n",
       "        text-align: right;\n",
       "    }\n",
       "</style>\n",
       "<table border=\"1\" class=\"dataframe\">\n",
       "  <thead>\n",
       "    <tr style=\"text-align: right;\">\n",
       "      <th></th>\n",
       "      <th>AvgPrice</th>\n",
       "      <th>Total Volume</th>\n",
       "      <th>4046</th>\n",
       "      <th>4225</th>\n",
       "      <th>4770</th>\n",
       "      <th>Total Bags</th>\n",
       "      <th>Small Bags</th>\n",
       "      <th>Large Bags</th>\n",
       "      <th>XLarge Bags</th>\n",
       "      <th>year</th>\n",
       "    </tr>\n",
       "  </thead>\n",
       "  <tbody>\n",
       "    <tr>\n",
       "      <th>count</th>\n",
       "      <td>18249.000000</td>\n",
       "      <td>1.824900e+04</td>\n",
       "      <td>1.824900e+04</td>\n",
       "      <td>1.824900e+04</td>\n",
       "      <td>1.824900e+04</td>\n",
       "      <td>1.824900e+04</td>\n",
       "      <td>1.824900e+04</td>\n",
       "      <td>1.824900e+04</td>\n",
       "      <td>18249.000000</td>\n",
       "      <td>18249.000000</td>\n",
       "    </tr>\n",
       "    <tr>\n",
       "      <th>mean</th>\n",
       "      <td>1.405978</td>\n",
       "      <td>8.506440e+05</td>\n",
       "      <td>2.930084e+05</td>\n",
       "      <td>2.951546e+05</td>\n",
       "      <td>2.283974e+04</td>\n",
       "      <td>2.396392e+05</td>\n",
       "      <td>1.821947e+05</td>\n",
       "      <td>5.433809e+04</td>\n",
       "      <td>3106.426507</td>\n",
       "      <td>2016.147899</td>\n",
       "    </tr>\n",
       "    <tr>\n",
       "      <th>std</th>\n",
       "      <td>0.402677</td>\n",
       "      <td>3.453545e+06</td>\n",
       "      <td>1.264989e+06</td>\n",
       "      <td>1.204120e+06</td>\n",
       "      <td>1.074641e+05</td>\n",
       "      <td>9.862424e+05</td>\n",
       "      <td>7.461785e+05</td>\n",
       "      <td>2.439660e+05</td>\n",
       "      <td>17692.894652</td>\n",
       "      <td>0.939938</td>\n",
       "    </tr>\n",
       "    <tr>\n",
       "      <th>min</th>\n",
       "      <td>0.440000</td>\n",
       "      <td>8.456000e+01</td>\n",
       "      <td>0.000000e+00</td>\n",
       "      <td>0.000000e+00</td>\n",
       "      <td>0.000000e+00</td>\n",
       "      <td>0.000000e+00</td>\n",
       "      <td>0.000000e+00</td>\n",
       "      <td>0.000000e+00</td>\n",
       "      <td>0.000000</td>\n",
       "      <td>2015.000000</td>\n",
       "    </tr>\n",
       "    <tr>\n",
       "      <th>25%</th>\n",
       "      <td>1.100000</td>\n",
       "      <td>1.083858e+04</td>\n",
       "      <td>8.540700e+02</td>\n",
       "      <td>3.008780e+03</td>\n",
       "      <td>0.000000e+00</td>\n",
       "      <td>5.088640e+03</td>\n",
       "      <td>2.849420e+03</td>\n",
       "      <td>1.274700e+02</td>\n",
       "      <td>0.000000</td>\n",
       "      <td>2015.000000</td>\n",
       "    </tr>\n",
       "    <tr>\n",
       "      <th>50%</th>\n",
       "      <td>1.370000</td>\n",
       "      <td>1.073768e+05</td>\n",
       "      <td>8.645300e+03</td>\n",
       "      <td>2.906102e+04</td>\n",
       "      <td>1.849900e+02</td>\n",
       "      <td>3.974383e+04</td>\n",
       "      <td>2.636282e+04</td>\n",
       "      <td>2.647710e+03</td>\n",
       "      <td>0.000000</td>\n",
       "      <td>2016.000000</td>\n",
       "    </tr>\n",
       "    <tr>\n",
       "      <th>75%</th>\n",
       "      <td>1.660000</td>\n",
       "      <td>4.329623e+05</td>\n",
       "      <td>1.110202e+05</td>\n",
       "      <td>1.502069e+05</td>\n",
       "      <td>6.243420e+03</td>\n",
       "      <td>1.107834e+05</td>\n",
       "      <td>8.333767e+04</td>\n",
       "      <td>2.202925e+04</td>\n",
       "      <td>132.500000</td>\n",
       "      <td>2017.000000</td>\n",
       "    </tr>\n",
       "    <tr>\n",
       "      <th>max</th>\n",
       "      <td>3.250000</td>\n",
       "      <td>6.250565e+07</td>\n",
       "      <td>2.274362e+07</td>\n",
       "      <td>2.047057e+07</td>\n",
       "      <td>2.546439e+06</td>\n",
       "      <td>1.937313e+07</td>\n",
       "      <td>1.338459e+07</td>\n",
       "      <td>5.719097e+06</td>\n",
       "      <td>551693.650000</td>\n",
       "      <td>2018.000000</td>\n",
       "    </tr>\n",
       "  </tbody>\n",
       "</table>\n",
       "</div>"
      ],
      "text/plain": [
       "           AvgPrice  Total Volume          4046          4225          4770  \\\n",
       "count  18249.000000  1.824900e+04  1.824900e+04  1.824900e+04  1.824900e+04   \n",
       "mean       1.405978  8.506440e+05  2.930084e+05  2.951546e+05  2.283974e+04   \n",
       "std        0.402677  3.453545e+06  1.264989e+06  1.204120e+06  1.074641e+05   \n",
       "min        0.440000  8.456000e+01  0.000000e+00  0.000000e+00  0.000000e+00   \n",
       "25%        1.100000  1.083858e+04  8.540700e+02  3.008780e+03  0.000000e+00   \n",
       "50%        1.370000  1.073768e+05  8.645300e+03  2.906102e+04  1.849900e+02   \n",
       "75%        1.660000  4.329623e+05  1.110202e+05  1.502069e+05  6.243420e+03   \n",
       "max        3.250000  6.250565e+07  2.274362e+07  2.047057e+07  2.546439e+06   \n",
       "\n",
       "         Total Bags    Small Bags    Large Bags    XLarge Bags          year  \n",
       "count  1.824900e+04  1.824900e+04  1.824900e+04   18249.000000  18249.000000  \n",
       "mean   2.396392e+05  1.821947e+05  5.433809e+04    3106.426507   2016.147899  \n",
       "std    9.862424e+05  7.461785e+05  2.439660e+05   17692.894652      0.939938  \n",
       "min    0.000000e+00  0.000000e+00  0.000000e+00       0.000000   2015.000000  \n",
       "25%    5.088640e+03  2.849420e+03  1.274700e+02       0.000000   2015.000000  \n",
       "50%    3.974383e+04  2.636282e+04  2.647710e+03       0.000000   2016.000000  \n",
       "75%    1.107834e+05  8.333767e+04  2.202925e+04     132.500000   2017.000000  \n",
       "max    1.937313e+07  1.338459e+07  5.719097e+06  551693.650000   2018.000000  "
      ]
     },
     "execution_count": 11,
     "metadata": {},
     "output_type": "execute_result"
    }
   ],
   "source": [
    "#outlier may be present Xlarge Bags(gigh difference between 75% and max)\n",
    "#mean>SD data scan be skewed\n",
    "#Value is less below 10 for all comumns\n",
    "df.describe()"
   ]
  },
  {
   "cell_type": "code",
   "execution_count": 12,
   "metadata": {},
   "outputs": [
    {
     "data": {
      "text/plain": [
       "<matplotlib.axes._subplots.AxesSubplot at 0x28042f5bc70>"
      ]
     },
     "execution_count": 12,
     "metadata": {},
     "output_type": "execute_result"
    },
    {
     "data": {
      "image/png": "[encoded data removed]",
      "text/plain": [
       "<Figure size 432x288 with 2 Axes>"
      ]
     },
     "metadata": {
      "needs_background": "light"
     },
     "output_type": "display_data"
    }
   ],
   "source": [
    "#No null value present \n",
    "sns.heatmap(df.isnull())"
   ]
  },
  {
   "cell_type": "code",
   "execution_count": 13,
   "metadata": {},
   "outputs": [
    {
     "data": {
      "text/plain": [
       "<matplotlib.axes._subplots.AxesSubplot at 0x28043099a00>"
      ]
     },
     "execution_count": 13,
     "metadata": {},
     "output_type": "execute_result"
    },
    {
     "data": {
      "image/png": "[encoded data removed]",
      "text/plain": [
       "<Figure size 432x288 with 2 Axes>"
      ]
     },
     "metadata": {
      "needs_background": "light"
     },
     "output_type": "display_data"
    }
   ],
   "source": [
    "#highly negative correlated (Total Volume,4046,4225,4770,Total Bags,Small Bags,Large Bags,XLarge Bags) with avg price \n",
    "dfcor=df.corr()\n",
    "sns.heatmap(dfcor)"
   ]
  },
  {
   "cell_type": "code",
   "execution_count": 14,
   "metadata": {},
   "outputs": [
    {
     "data": {
      "text/plain": [
       "AvgPrice           AxesSubplot(0.125,0.536818;0.133621x0.343182)\n",
       "Total Volume    AxesSubplot(0.285345,0.536818;0.133621x0.343182)\n",
       "4046             AxesSubplot(0.44569,0.536818;0.133621x0.343182)\n",
       "4225            AxesSubplot(0.606034,0.536818;0.133621x0.343182)\n",
       "4770            AxesSubplot(0.766379,0.536818;0.133621x0.343182)\n",
       "Total Bags            AxesSubplot(0.125,0.125;0.133621x0.343182)\n",
       "Small Bags         AxesSubplot(0.285345,0.125;0.133621x0.343182)\n",
       "Large Bags          AxesSubplot(0.44569,0.125;0.133621x0.343182)\n",
       "XLarge Bags        AxesSubplot(0.606034,0.125;0.133621x0.343182)\n",
       "year               AxesSubplot(0.766379,0.125;0.133621x0.343182)\n",
       "dtype: object"
      ]
     },
     "execution_count": 14,
     "metadata": {},
     "output_type": "execute_result"
    },
    {
     "data": {
      "image/png": "[encoded data removed]",
      "text/plain": [
       "<Figure size 864x864 with 10 Axes>"
      ]
     },
     "metadata": {
      "needs_background": "light"
     },
     "output_type": "display_data"
    }
   ],
   "source": [
    "# Outliers are present \n",
    "df.plot(kind='box',subplots=True,layout=(2,5),figsize=(12,12))"
   ]
  },
  {
   "cell_type": "code",
   "execution_count": 15,
   "metadata": {},
   "outputs": [],
   "source": [
    "#Column can be droped(text and date to apply zscore)\n",
    "df3=df.drop([\"Date\"],axis=1)"
   ]
  },
  {
   "cell_type": "code",
   "execution_count": 16,
   "metadata": {},
   "outputs": [],
   "source": [
    "from sklearn import preprocessing\n",
    "le=preprocessing.LabelEncoder()\n",
    "list1=['type','region']\n",
    "for val in list1:\n",
    "    df3[val]=le.fit_transform(df3[val].astype(str))"
   ]
  },
  {
   "cell_type": "code",
   "execution_count": 17,
   "metadata": {},
   "outputs": [
    {
     "data": {
      "text/html": [
       "<div>\n",
       "<style scoped>\n",
       "    .dataframe tbody tr th:only-of-type {\n",
       "        vertical-align: middle;\n",
       "    }\n",
       "\n",
       "    .dataframe tbody tr th {\n",
       "        vertical-align: top;\n",
       "    }\n",
       "\n",
       "    .dataframe thead th {\n",
       "        text-align: right;\n",
       "    }\n",
       "</style>\n",
       "<table border=\"1\" class=\"dataframe\">\n",
       "  <thead>\n",
       "    <tr style=\"text-align: right;\">\n",
       "      <th></th>\n",
       "      <th>AvgPrice</th>\n",
       "      <th>Total Volume</th>\n",
       "      <th>4046</th>\n",
       "      <th>4225</th>\n",
       "      <th>4770</th>\n",
       "      <th>Total Bags</th>\n",
       "      <th>Small Bags</th>\n",
       "      <th>Large Bags</th>\n",
       "      <th>XLarge Bags</th>\n",
       "      <th>type</th>\n",
       "      <th>year</th>\n",
       "      <th>region</th>\n",
       "    </tr>\n",
       "  </thead>\n",
       "  <tbody>\n",
       "    <tr>\n",
       "      <th>0</th>\n",
       "      <td>1.33</td>\n",
       "      <td>64236.62</td>\n",
       "      <td>1036.74</td>\n",
       "      <td>54454.85</td>\n",
       "      <td>48.16</td>\n",
       "      <td>8696.87</td>\n",
       "      <td>8603.62</td>\n",
       "      <td>93.25</td>\n",
       "      <td>0.0</td>\n",
       "      <td>0</td>\n",
       "      <td>2015</td>\n",
       "      <td>0</td>\n",
       "    </tr>\n",
       "    <tr>\n",
       "      <th>1</th>\n",
       "      <td>1.35</td>\n",
       "      <td>54876.98</td>\n",
       "      <td>674.28</td>\n",
       "      <td>44638.81</td>\n",
       "      <td>58.33</td>\n",
       "      <td>9505.56</td>\n",
       "      <td>9408.07</td>\n",
       "      <td>97.49</td>\n",
       "      <td>0.0</td>\n",
       "      <td>0</td>\n",
       "      <td>2015</td>\n",
       "      <td>0</td>\n",
       "    </tr>\n",
       "    <tr>\n",
       "      <th>2</th>\n",
       "      <td>0.93</td>\n",
       "      <td>118220.22</td>\n",
       "      <td>794.70</td>\n",
       "      <td>109149.67</td>\n",
       "      <td>130.50</td>\n",
       "      <td>8145.35</td>\n",
       "      <td>8042.21</td>\n",
       "      <td>103.14</td>\n",
       "      <td>0.0</td>\n",
       "      <td>0</td>\n",
       "      <td>2015</td>\n",
       "      <td>0</td>\n",
       "    </tr>\n",
       "    <tr>\n",
       "      <th>3</th>\n",
       "      <td>1.08</td>\n",
       "      <td>78992.15</td>\n",
       "      <td>1132.00</td>\n",
       "      <td>71976.41</td>\n",
       "      <td>72.58</td>\n",
       "      <td>5811.16</td>\n",
       "      <td>5677.40</td>\n",
       "      <td>133.76</td>\n",
       "      <td>0.0</td>\n",
       "      <td>0</td>\n",
       "      <td>2015</td>\n",
       "      <td>0</td>\n",
       "    </tr>\n",
       "    <tr>\n",
       "      <th>4</th>\n",
       "      <td>1.28</td>\n",
       "      <td>51039.60</td>\n",
       "      <td>941.48</td>\n",
       "      <td>43838.39</td>\n",
       "      <td>75.78</td>\n",
       "      <td>6183.95</td>\n",
       "      <td>5986.26</td>\n",
       "      <td>197.69</td>\n",
       "      <td>0.0</td>\n",
       "      <td>0</td>\n",
       "      <td>2015</td>\n",
       "      <td>0</td>\n",
       "    </tr>\n",
       "    <tr>\n",
       "      <th>...</th>\n",
       "      <td>...</td>\n",
       "      <td>...</td>\n",
       "      <td>...</td>\n",
       "      <td>...</td>\n",
       "      <td>...</td>\n",
       "      <td>...</td>\n",
       "      <td>...</td>\n",
       "      <td>...</td>\n",
       "      <td>...</td>\n",
       "      <td>...</td>\n",
       "      <td>...</td>\n",
       "      <td>...</td>\n",
       "    </tr>\n",
       "    <tr>\n",
       "      <th>18244</th>\n",
       "      <td>1.63</td>\n",
       "      <td>17074.83</td>\n",
       "      <td>2046.96</td>\n",
       "      <td>1529.20</td>\n",
       "      <td>0.00</td>\n",
       "      <td>13498.67</td>\n",
       "      <td>13066.82</td>\n",
       "      <td>431.85</td>\n",
       "      <td>0.0</td>\n",
       "      <td>1</td>\n",
       "      <td>2018</td>\n",
       "      <td>53</td>\n",
       "    </tr>\n",
       "    <tr>\n",
       "      <th>18245</th>\n",
       "      <td>1.71</td>\n",
       "      <td>13888.04</td>\n",
       "      <td>1191.70</td>\n",
       "      <td>3431.50</td>\n",
       "      <td>0.00</td>\n",
       "      <td>9264.84</td>\n",
       "      <td>8940.04</td>\n",
       "      <td>324.80</td>\n",
       "      <td>0.0</td>\n",
       "      <td>1</td>\n",
       "      <td>2018</td>\n",
       "      <td>53</td>\n",
       "    </tr>\n",
       "    <tr>\n",
       "      <th>18246</th>\n",
       "      <td>1.87</td>\n",
       "      <td>13766.76</td>\n",
       "      <td>1191.92</td>\n",
       "      <td>2452.79</td>\n",
       "      <td>727.94</td>\n",
       "      <td>9394.11</td>\n",
       "      <td>9351.80</td>\n",
       "      <td>42.31</td>\n",
       "      <td>0.0</td>\n",
       "      <td>1</td>\n",
       "      <td>2018</td>\n",
       "      <td>53</td>\n",
       "    </tr>\n",
       "    <tr>\n",
       "      <th>18247</th>\n",
       "      <td>1.93</td>\n",
       "      <td>16205.22</td>\n",
       "      <td>1527.63</td>\n",
       "      <td>2981.04</td>\n",
       "      <td>727.01</td>\n",
       "      <td>10969.54</td>\n",
       "      <td>10919.54</td>\n",
       "      <td>50.00</td>\n",
       "      <td>0.0</td>\n",
       "      <td>1</td>\n",
       "      <td>2018</td>\n",
       "      <td>53</td>\n",
       "    </tr>\n",
       "    <tr>\n",
       "      <th>18248</th>\n",
       "      <td>1.62</td>\n",
       "      <td>17489.58</td>\n",
       "      <td>2894.77</td>\n",
       "      <td>2356.13</td>\n",
       "      <td>224.53</td>\n",
       "      <td>12014.15</td>\n",
       "      <td>11988.14</td>\n",
       "      <td>26.01</td>\n",
       "      <td>0.0</td>\n",
       "      <td>1</td>\n",
       "      <td>2018</td>\n",
       "      <td>53</td>\n",
       "    </tr>\n",
       "  </tbody>\n",
       "</table>\n",
       "<p>18249 rows × 12 columns</p>\n",
       "</div>"
      ],
      "text/plain": [
       "       AvgPrice  Total Volume     4046       4225    4770  Total Bags  \\\n",
       "0          1.33      64236.62  1036.74   54454.85   48.16     8696.87   \n",
       "1          1.35      54876.98   674.28   44638.81   58.33     9505.56   \n",
       "2          0.93     118220.22   794.70  109149.67  130.50     8145.35   \n",
       "3          1.08      78992.15  1132.00   71976.41   72.58     5811.16   \n",
       "4          1.28      51039.60   941.48   43838.39   75.78     6183.95   \n",
       "...         ...           ...      ...        ...     ...         ...   \n",
       "18244      1.63      17074.83  2046.96    1529.20    0.00    13498.67   \n",
       "18245      1.71      13888.04  1191.70    3431.50    0.00     9264.84   \n",
       "18246      1.87      13766.76  1191.92    2452.79  727.94     9394.11   \n",
       "18247      1.93      16205.22  1527.63    2981.04  727.01    10969.54   \n",
       "18248      1.62      17489.58  2894.77    2356.13  224.53    12014.15   \n",
       "\n",
       "       Small Bags  Large Bags  XLarge Bags  type  year  region  \n",
       "0         8603.62       93.25          0.0     0  2015       0  \n",
       "1         9408.07       97.49          0.0     0  2015       0  \n",
       "2         8042.21      103.14          0.0     0  2015       0  \n",
       "3         5677.40      133.76          0.0     0  2015       0  \n",
       "4         5986.26      197.69          0.0     0  2015       0  \n",
       "...           ...         ...          ...   ...   ...     ...  \n",
       "18244    13066.82      431.85          0.0     1  2018      53  \n",
       "18245     8940.04      324.80          0.0     1  2018      53  \n",
       "18246     9351.80       42.31          0.0     1  2018      53  \n",
       "18247    10919.54       50.00          0.0     1  2018      53  \n",
       "18248    11988.14       26.01          0.0     1  2018      53  \n",
       "\n",
       "[18249 rows x 12 columns]"
      ]
     },
     "execution_count": 17,
     "metadata": {},
     "output_type": "execute_result"
    }
   ],
   "source": [
    "df3"
   ]
  },
  {
   "cell_type": "code",
   "execution_count": 18,
   "metadata": {},
   "outputs": [
    {
     "name": "stdout",
     "output_type": "stream",
     "text": [
      "(array([  346,   359,   780, ..., 17304, 17402, 17428], dtype=int64), array([2, 2, 8, ..., 0, 0, 0], dtype=int64))\n"
     ]
    },
    {
     "data": {
      "text/html": [
       "<div>\n",
       "<style scoped>\n",
       "    .dataframe tbody tr th:only-of-type {\n",
       "        vertical-align: middle;\n",
       "    }\n",
       "\n",
       "    .dataframe tbody tr th {\n",
       "        vertical-align: top;\n",
       "    }\n",
       "\n",
       "    .dataframe thead th {\n",
       "        text-align: right;\n",
       "    }\n",
       "</style>\n",
       "<table border=\"1\" class=\"dataframe\">\n",
       "  <thead>\n",
       "    <tr style=\"text-align: right;\">\n",
       "      <th></th>\n",
       "      <th>AvgPrice</th>\n",
       "      <th>Total Volume</th>\n",
       "      <th>4046</th>\n",
       "      <th>4225</th>\n",
       "      <th>4770</th>\n",
       "      <th>Total Bags</th>\n",
       "      <th>Small Bags</th>\n",
       "      <th>Large Bags</th>\n",
       "      <th>XLarge Bags</th>\n",
       "      <th>type</th>\n",
       "      <th>year</th>\n",
       "      <th>region</th>\n",
       "    </tr>\n",
       "  </thead>\n",
       "  <tbody>\n",
       "    <tr>\n",
       "      <th>0</th>\n",
       "      <td>1.33</td>\n",
       "      <td>64236.62</td>\n",
       "      <td>1036.74</td>\n",
       "      <td>54454.85</td>\n",
       "      <td>48.16</td>\n",
       "      <td>8696.87</td>\n",
       "      <td>8603.62</td>\n",
       "      <td>93.25</td>\n",
       "      <td>0.0</td>\n",
       "      <td>0</td>\n",
       "      <td>2015</td>\n",
       "      <td>0</td>\n",
       "    </tr>\n",
       "    <tr>\n",
       "      <th>1</th>\n",
       "      <td>1.35</td>\n",
       "      <td>54876.98</td>\n",
       "      <td>674.28</td>\n",
       "      <td>44638.81</td>\n",
       "      <td>58.33</td>\n",
       "      <td>9505.56</td>\n",
       "      <td>9408.07</td>\n",
       "      <td>97.49</td>\n",
       "      <td>0.0</td>\n",
       "      <td>0</td>\n",
       "      <td>2015</td>\n",
       "      <td>0</td>\n",
       "    </tr>\n",
       "    <tr>\n",
       "      <th>2</th>\n",
       "      <td>0.93</td>\n",
       "      <td>118220.22</td>\n",
       "      <td>794.70</td>\n",
       "      <td>109149.67</td>\n",
       "      <td>130.50</td>\n",
       "      <td>8145.35</td>\n",
       "      <td>8042.21</td>\n",
       "      <td>103.14</td>\n",
       "      <td>0.0</td>\n",
       "      <td>0</td>\n",
       "      <td>2015</td>\n",
       "      <td>0</td>\n",
       "    </tr>\n",
       "    <tr>\n",
       "      <th>3</th>\n",
       "      <td>1.08</td>\n",
       "      <td>78992.15</td>\n",
       "      <td>1132.00</td>\n",
       "      <td>71976.41</td>\n",
       "      <td>72.58</td>\n",
       "      <td>5811.16</td>\n",
       "      <td>5677.40</td>\n",
       "      <td>133.76</td>\n",
       "      <td>0.0</td>\n",
       "      <td>0</td>\n",
       "      <td>2015</td>\n",
       "      <td>0</td>\n",
       "    </tr>\n",
       "    <tr>\n",
       "      <th>4</th>\n",
       "      <td>1.28</td>\n",
       "      <td>51039.60</td>\n",
       "      <td>941.48</td>\n",
       "      <td>43838.39</td>\n",
       "      <td>75.78</td>\n",
       "      <td>6183.95</td>\n",
       "      <td>5986.26</td>\n",
       "      <td>197.69</td>\n",
       "      <td>0.0</td>\n",
       "      <td>0</td>\n",
       "      <td>2015</td>\n",
       "      <td>0</td>\n",
       "    </tr>\n",
       "    <tr>\n",
       "      <th>...</th>\n",
       "      <td>...</td>\n",
       "      <td>...</td>\n",
       "      <td>...</td>\n",
       "      <td>...</td>\n",
       "      <td>...</td>\n",
       "      <td>...</td>\n",
       "      <td>...</td>\n",
       "      <td>...</td>\n",
       "      <td>...</td>\n",
       "      <td>...</td>\n",
       "      <td>...</td>\n",
       "      <td>...</td>\n",
       "    </tr>\n",
       "    <tr>\n",
       "      <th>18244</th>\n",
       "      <td>1.63</td>\n",
       "      <td>17074.83</td>\n",
       "      <td>2046.96</td>\n",
       "      <td>1529.20</td>\n",
       "      <td>0.00</td>\n",
       "      <td>13498.67</td>\n",
       "      <td>13066.82</td>\n",
       "      <td>431.85</td>\n",
       "      <td>0.0</td>\n",
       "      <td>1</td>\n",
       "      <td>2018</td>\n",
       "      <td>53</td>\n",
       "    </tr>\n",
       "    <tr>\n",
       "      <th>18245</th>\n",
       "      <td>1.71</td>\n",
       "      <td>13888.04</td>\n",
       "      <td>1191.70</td>\n",
       "      <td>3431.50</td>\n",
       "      <td>0.00</td>\n",
       "      <td>9264.84</td>\n",
       "      <td>8940.04</td>\n",
       "      <td>324.80</td>\n",
       "      <td>0.0</td>\n",
       "      <td>1</td>\n",
       "      <td>2018</td>\n",
       "      <td>53</td>\n",
       "    </tr>\n",
       "    <tr>\n",
       "      <th>18246</th>\n",
       "      <td>1.87</td>\n",
       "      <td>13766.76</td>\n",
       "      <td>1191.92</td>\n",
       "      <td>2452.79</td>\n",
       "      <td>727.94</td>\n",
       "      <td>9394.11</td>\n",
       "      <td>9351.80</td>\n",
       "      <td>42.31</td>\n",
       "      <td>0.0</td>\n",
       "      <td>1</td>\n",
       "      <td>2018</td>\n",
       "      <td>53</td>\n",
       "    </tr>\n",
       "    <tr>\n",
       "      <th>18247</th>\n",
       "      <td>1.93</td>\n",
       "      <td>16205.22</td>\n",
       "      <td>1527.63</td>\n",
       "      <td>2981.04</td>\n",
       "      <td>727.01</td>\n",
       "      <td>10969.54</td>\n",
       "      <td>10919.54</td>\n",
       "      <td>50.00</td>\n",
       "      <td>0.0</td>\n",
       "      <td>1</td>\n",
       "      <td>2018</td>\n",
       "      <td>53</td>\n",
       "    </tr>\n",
       "    <tr>\n",
       "      <th>18248</th>\n",
       "      <td>1.62</td>\n",
       "      <td>17489.58</td>\n",
       "      <td>2894.77</td>\n",
       "      <td>2356.13</td>\n",
       "      <td>224.53</td>\n",
       "      <td>12014.15</td>\n",
       "      <td>11988.14</td>\n",
       "      <td>26.01</td>\n",
       "      <td>0.0</td>\n",
       "      <td>1</td>\n",
       "      <td>2018</td>\n",
       "      <td>53</td>\n",
       "    </tr>\n",
       "  </tbody>\n",
       "</table>\n",
       "<p>17651 rows × 12 columns</p>\n",
       "</div>"
      ],
      "text/plain": [
       "       AvgPrice  Total Volume     4046       4225    4770  Total Bags  \\\n",
       "0          1.33      64236.62  1036.74   54454.85   48.16     8696.87   \n",
       "1          1.35      54876.98   674.28   44638.81   58.33     9505.56   \n",
       "2          0.93     118220.22   794.70  109149.67  130.50     8145.35   \n",
       "3          1.08      78992.15  1132.00   71976.41   72.58     5811.16   \n",
       "4          1.28      51039.60   941.48   43838.39   75.78     6183.95   \n",
       "...         ...           ...      ...        ...     ...         ...   \n",
       "18244      1.63      17074.83  2046.96    1529.20    0.00    13498.67   \n",
       "18245      1.71      13888.04  1191.70    3431.50    0.00     9264.84   \n",
       "18246      1.87      13766.76  1191.92    2452.79  727.94     9394.11   \n",
       "18247      1.93      16205.22  1527.63    2981.04  727.01    10969.54   \n",
       "18248      1.62      17489.58  2894.77    2356.13  224.53    12014.15   \n",
       "\n",
       "       Small Bags  Large Bags  XLarge Bags  type  year  region  \n",
       "0         8603.62       93.25          0.0     0  2015       0  \n",
       "1         9408.07       97.49          0.0     0  2015       0  \n",
       "2         8042.21      103.14          0.0     0  2015       0  \n",
       "3         5677.40      133.76          0.0     0  2015       0  \n",
       "4         5986.26      197.69          0.0     0  2015       0  \n",
       "...           ...         ...          ...   ...   ...     ...  \n",
       "18244    13066.82      431.85          0.0     1  2018      53  \n",
       "18245     8940.04      324.80          0.0     1  2018      53  \n",
       "18246     9351.80       42.31          0.0     1  2018      53  \n",
       "18247    10919.54       50.00          0.0     1  2018      53  \n",
       "18248    11988.14       26.01          0.0     1  2018      53  \n",
       "\n",
       "[17651 rows x 12 columns]"
      ]
     },
     "execution_count": 18,
     "metadata": {},
     "output_type": "execute_result"
    }
   ],
   "source": [
    "from scipy.stats import zscore\n",
    "z=np.abs(zscore(df3))\n",
    "threshold=3\n",
    "print(np.where(z>3))\n",
    "df_new=df3[(z<3).all(axis=1)]\n",
    "df_new"
   ]
  },
  {
   "cell_type": "code",
   "execution_count": 19,
   "metadata": {},
   "outputs": [
    {
     "name": "stdout",
     "output_type": "stream",
     "text": [
      "(18249, 13)\n",
      "(18249, 12)\n",
      "(17651, 12)\n"
     ]
    }
   ],
   "source": [
    "print(df.shape) #dataset\n",
    "print(df3.shape)\n",
    "print(df_new.shape) #Removed Outliers"
   ]
  },
  {
   "cell_type": "code",
   "execution_count": 20,
   "metadata": {},
   "outputs": [
    {
     "data": {
      "text/plain": [
       "AvgPrice        0.377432\n",
       "Total Volume    3.767138\n",
       "4046            4.909848\n",
       "4225            4.455745\n",
       "4770            5.117170\n",
       "Total Bags      4.066771\n",
       "Small Bags      4.222706\n",
       "Large Bags      5.053434\n",
       "XLarge Bags     6.135607\n",
       "type           -0.037741\n",
       "year            0.229976\n",
       "region          0.012798\n",
       "dtype: float64"
      ]
     },
     "execution_count": 20,
     "metadata": {},
     "output_type": "execute_result"
    }
   ],
   "source": [
    "df_new.skew()"
   ]
  },
  {
   "cell_type": "code",
   "execution_count": 21,
   "metadata": {},
   "outputs": [
    {
     "data": {
      "image/png": "[encoded data removed]",
      "text/plain": [
       "<Figure size 432x288 with 1 Axes>"
      ]
     },
     "metadata": {
      "needs_background": "light"
     },
     "output_type": "display_data"
    },
    {
     "data": {
      "image/png": "[encoded data removed]",
      "text/plain": [
       "<Figure size 432x288 with 1 Axes>"
      ]
     },
     "metadata": {
      "needs_background": "light"
     },
     "output_type": "display_data"
    },
    {
     "data": {
      "image/png": "[encoded data removed]",
      "text/plain": [
       "<Figure size 432x288 with 1 Axes>"
      ]
     },
     "metadata": {
      "needs_background": "light"
     },
     "output_type": "display_data"
    },
    {
     "data": {
      "image/png": "[encoded data removed]",
      "text/plain": [
       "<Figure size 432x288 with 1 Axes>"
      ]
     },
     "metadata": {
      "needs_background": "light"
     },
     "output_type": "display_data"
    },
    {
     "data": {
      "image/png": "[encoded data removed]",
      "text/plain": [
       "<Figure size 432x288 with 1 Axes>"
      ]
     },
     "metadata": {
      "needs_background": "light"
     },
     "output_type": "display_data"
    },
    {
     "data": {
      "image/png": "[encoded data removed]",
      "text/plain": [
       "<Figure size 432x288 with 1 Axes>"
      ]
     },
     "metadata": {
      "needs_background": "light"
     },
     "output_type": "display_data"
    },
    {
     "data": {
      "image/png": "[encoded data removed]",
      "text/plain": [
       "<Figure size 432x288 with 1 Axes>"
      ]
     },
     "metadata": {
      "needs_background": "light"
     },
     "output_type": "display_data"
    },
    {
     "data": {
      "image/png": "[encoded data removed]",
      "text/plain": [
       "<Figure size 432x288 with 1 Axes>"
      ]
     },
     "metadata": {
      "needs_background": "light"
     },
     "output_type": "display_data"
    },
    {
     "data": {
      "image/png": "[encoded data removed]",
      "text/plain": [
       "<Figure size 432x288 with 1 Axes>"
      ]
     },
     "metadata": {
      "needs_background": "light"
     },
     "output_type": "display_data"
    },
    {
     "data": {
      "image/png": "[encoded data removed]",
      "text/plain": [
       "<Figure size 432x288 with 1 Axes>"
      ]
     },
     "metadata": {
      "needs_background": "light"
     },
     "output_type": "display_data"
    },
    {
     "data": {
      "image/png": "[encoded data removed]",
      "text/plain": [
       "<Figure size 432x288 with 1 Axes>"
      ]
     },
     "metadata": {
      "needs_background": "light"
     },
     "output_type": "display_data"
    },
    {
     "data": {
      "image/png": "[encoded data removed]",
      "text/plain": [
       "<Figure size 432x288 with 1 Axes>"
      ]
     },
     "metadata": {
      "needs_background": "light"
     },
     "output_type": "display_data"
    }
   ],
   "source": [
    "collist=df_new.columns.values\n",
    "ncol=10\n",
    "nrow=20\n",
    "for i in df_new.columns:\n",
    "    sns.distplot(df_new[i])\n",
    "    plt.show()"
   ]
  },
  {
   "cell_type": "code",
   "execution_count": 22,
   "metadata": {},
   "outputs": [
    {
     "data": {
      "image/png": "[encoded data removed]",
      "text/plain": [
       "<Figure size 1152x1152 with 12 Axes>"
      ]
     },
     "metadata": {
      "needs_background": "light"
     },
     "output_type": "display_data"
    }
   ],
   "source": [
    "plt.figure(figsize=(16,16))\n",
    "for i in range (0,len(collist)):\n",
    "    plt.subplot(nrow,ncol,i+1)\n",
    "    sns.distplot(df_new[collist[i]])"
   ]
  },
  {
   "cell_type": "code",
   "execution_count": 23,
   "metadata": {},
   "outputs": [],
   "source": [
    "import numpy as np\n",
    "from sklearn.preprocessing import power_transform\n",
    "pt=power_transform(df_new,method='yeo-johnson')\n",
    "new=pd.DataFrame(pt,columns=df_new.columns)"
   ]
  },
  {
   "cell_type": "code",
   "execution_count": 24,
   "metadata": {},
   "outputs": [
    {
     "data": {
      "text/plain": [
       "AvgPrice        0.000464\n",
       "Total Volume   -0.008642\n",
       "4046           -0.039282\n",
       "4225           -0.044675\n",
       "4770            0.024168\n",
       "Total Bags     -0.022204\n",
       "Small Bags     -0.024405\n",
       "Large Bags     -0.110913\n",
       "XLarge Bags     0.853758\n",
       "type           -0.037741\n",
       "year            0.227731\n",
       "region         -0.257799\n",
       "dtype: float64"
      ]
     },
     "execution_count": 24,
     "metadata": {},
     "output_type": "execute_result"
    }
   ],
   "source": [
    "new.skew()"
   ]
  },
  {
   "cell_type": "code",
   "execution_count": 25,
   "metadata": {},
   "outputs": [
    {
     "data": {
      "text/plain": [
       "<matplotlib.axes._subplots.AxesSubplot at 0x28046632eb0>"
      ]
     },
     "execution_count": 25,
     "metadata": {},
     "output_type": "execute_result"
    },
    {
     "data": {
      "image/png": "[encoded data removed]",
      "text/plain": [
       "<Figure size 432x288 with 1 Axes>"
      ]
     },
     "metadata": {
      "needs_background": "light"
     },
     "output_type": "display_data"
    }
   ],
   "source": [
    "#Visualiztion\n",
    "#Organic is more expensive than conventional\n",
    "sns.barplot(x=\"type\",y=\"AvgPrice\",data=df)"
   ]
  },
  {
   "cell_type": "code",
   "execution_count": 26,
   "metadata": {},
   "outputs": [
    {
     "data": {
      "text/plain": [
       "<matplotlib.axes._subplots.AxesSubplot at 0x2804666b910>"
      ]
     },
     "execution_count": 26,
     "metadata": {},
     "output_type": "execute_result"
    },
    {
     "data": {
      "image/png": "[encoded data removed]",
      "text/plain": [
       "<Figure size 432x288 with 1 Axes>"
      ]
     },
     "metadata": {
      "needs_background": "light"
     },
     "output_type": "display_data"
    }
   ],
   "source": [
    "#more sales in 2018 \n",
    "sns.barplot(x=\"year\",y=\"Total Volume\",data=df)"
   ]
  },
  {
   "cell_type": "code",
   "execution_count": 27,
   "metadata": {},
   "outputs": [
    {
     "data": {
      "text/plain": [
       "<matplotlib.axes._subplots.AxesSubplot at 0x28045e7d730>"
      ]
     },
     "execution_count": 27,
     "metadata": {},
     "output_type": "execute_result"
    },
    {
     "data": {
      "image/png": "[encoded data removed]",
      "text/plain": [
       "<Figure size 432x288 with 1 Axes>"
      ]
     },
     "metadata": {
      "needs_background": "light"
     },
     "output_type": "display_data"
    }
   ],
   "source": [
    "#Price is higher in 2017\n",
    "sns.barplot(x=\"year\",y=\"AvgPrice\",data=df)"
   ]
  },
  {
   "cell_type": "code",
   "execution_count": 28,
   "metadata": {},
   "outputs": [
    {
     "data": {
      "image/png": "[encoded data removed]",
      "text/plain": [
       "<Figure size 1440x720 with 1 Axes>"
      ]
     },
     "metadata": {
      "needs_background": "light"
     },
     "output_type": "display_data"
    }
   ],
   "source": [
    "#Among all regions-HartfordSpringfield and San diego has the highest price\n",
    "g = sns.catplot(data=df, y='AvgPrice',kind='bar', x='region')\n",
    "g.fig.set_figwidth(20)\n",
    "g.fig.set_figheight(10)\n",
    "plt.xticks(rotation=90)\n",
    "plt.show()"
   ]
  },
  {
   "cell_type": "code",
   "execution_count": 29,
   "metadata": {},
   "outputs": [
    {
     "data": {
      "text/plain": [
       "<matplotlib.axes._subplots.AxesSubplot at 0x2803d85d7c0>"
      ]
     },
     "execution_count": 29,
     "metadata": {},
     "output_type": "execute_result"
    },
    {
     "data": {
      "image/png": "[encoded data removed]",
      "text/plain": [
       "<Figure size 432x288 with 1 Axes>"
      ]
     },
     "metadata": {
      "needs_background": "light"
     },
     "output_type": "display_data"
    }
   ],
   "source": [
    "#total bags(small bag+large bog +xl bag sold high in 2018 when compared to other years\n",
    "sns.barplot(x=\"year\",y=\"Total Bags\",data=df)"
   ]
  },
  {
   "cell_type": "code",
   "execution_count": 30,
   "metadata": {},
   "outputs": [
    {
     "data": {
      "image/png": "[encoded data removed]",
      "text/plain": [
       "<Figure size 432x288 with 1 Axes>"
      ]
     },
     "metadata": {
      "needs_background": "light"
     },
     "output_type": "display_data"
    }
   ],
   "source": [
    "#Linear increase in both (total bags include small large and xl)\n",
    "x=df['Total Bags']\n",
    "y=df['Total Volume']\n",
    "plt.scatter(x,y)\n",
    "plt.show()"
   ]
  },
  {
   "cell_type": "code",
   "execution_count": 31,
   "metadata": {},
   "outputs": [
    {
     "data": {
      "text/plain": [
       "<matplotlib.axes._subplots.AxesSubplot at 0x28045c8dc40>"
      ]
     },
     "execution_count": 31,
     "metadata": {},
     "output_type": "execute_result"
    },
    {
     "data": {
      "image/png": "[encoded data removed]",
      "text/plain": [
       "<Figure size 432x288 with 1 Axes>"
      ]
     },
     "metadata": {
      "needs_background": "light"
     },
     "output_type": "display_data"
    }
   ],
   "source": [
    "#max between 1,1 to 1.4\n",
    "sns.violinplot(df[\"AvgPrice\"])"
   ]
  },
  {
   "cell_type": "code",
   "execution_count": null,
   "metadata": {},
   "outputs": [],
   "source": [
    "df_x=new.drop(columns=['AvgPrice'])\n",
    "y=pd.DataFrame(new['AvgPrice'])\n",
    "x=pd.DataFrame(df_x)"
   ]
  },
  {
   "cell_type": "code",
   "execution_count": null,
   "metadata": {},
   "outputs": [],
   "source": [
    "from sklearn.preprocessing import StandardScaler\n",
    "sc=StandardScaler()\n",
    "x=sc.fit_transform(x)\n",
    "x=pd.DataFrame(x,columns=df_x.columns)"
   ]
  },
  {
   "cell_type": "code",
   "execution_count": null,
   "metadata": {},
   "outputs": [],
   "source": [
    "from sklearn.model_selection import train_test_split\n",
    "x_train,x_test,y_train,y_test=train_test_split(x,y,test_size=.30,random_state=42)"
   ]
  },
  {
   "cell_type": "code",
   "execution_count": null,
   "metadata": {},
   "outputs": [],
   "source": [
    "print(x_train.shape, '\\t', x_test.shape)\n",
    "print(y_train.shape, '\\t', y_test.shape)"
   ]
  },
  {
   "cell_type": "code",
   "execution_count": null,
   "metadata": {},
   "outputs": [],
   "source": [
    "from sklearn.metrics import mean_squared_error,mean_absolute_error,r2_score\n",
    "from sklearn.linear_model import LinearRegression\n",
    "max_r_score=0\n",
    "for r_state in range(42,100):\n",
    "    reg=linear_model.LinearRegression()\n",
    "    x_train,x_test,y_train,y_test=train_test_split(x,y,test_size=0.20,random_state=r_state)\n",
    "    reg.fit(x_train,y_train)\n",
    "    y_pred=reg.predict(x_test)\n",
    "    r2_scr=r2_score(y_test,y_pred)\n",
    "    if r2_scr>max_r_score:\n",
    "        max_r_score=r2_scr\n",
    "        final_r_state=r_state\n",
    "print(\"max r2 score corresponding to \",final_r_state,\"is\",max_r_score)"
   ]
  },
  {
   "cell_type": "code",
   "execution_count": 42,
   "metadata": {},
   "outputs": [
    {
     "name": "stdout",
     "output_type": "stream",
     "text": [
      "score LinearRegression() is 0.5306769578694861\n",
      "mean abs error 0.5456306308089014\n",
      "mean square error 0.4739527749731721\n",
      "RMSE 0.6884422815117998\n",
      "r2score 0.5305557536523585\n",
      "*********************************************\n",
      "\n",
      "\n",
      "score DecisionTreeRegressor() is 1.0\n",
      "mean abs error 0.37358533630725466\n",
      "mean square error 0.3091002035783716\n",
      "RMSE 0.5559678080414113\n",
      "r2score 0.693840146577969\n",
      "*********************************************\n",
      "\n",
      "\n",
      "score KNeighborsRegressor() is 0.8967293216928117\n",
      "mean abs error 0.29897492205585025\n",
      "mean square error 0.1792689414676335\n",
      "RMSE 0.4234016313946293\n",
      "r2score 0.8224363743295389\n",
      "*********************************************\n",
      "\n",
      "\n",
      "score SVR() is 0.7213654341587216\n",
      "mean abs error 0.41215237320645787\n",
      "mean square error 0.3006655327378071\n",
      "RMSE 0.5483297664159835\n",
      "r2score 0.7021945816715569\n",
      "*********************************************\n",
      "\n",
      "\n",
      "score Lasso() is 0.0\n",
      "mean abs error 0.8222885366234419\n",
      "mean square error 1.0098851675016183\n",
      "RMSE 1.0049304291848358\n",
      "r2score -0.0002785222268066878\n",
      "*********************************************\n",
      "\n",
      "\n",
      "score Ridge() is 0.5306765684930266\n",
      "mean abs error 0.5456344293975084\n",
      "mean square error 0.4739746263331996\n",
      "RMSE 0.6884581514755995\n",
      "r2score 0.5305341101558301\n",
      "*********************************************\n",
      "\n",
      "\n",
      "score ElasticNet() is 0.09963916881194301\n",
      "mean abs error 0.7752256193312239\n",
      "mean square error 0.9114142519731665\n",
      "RMSE 0.9546801830839302\n",
      "r2score 0.09725567773653965\n",
      "*********************************************\n",
      "\n",
      "\n"
     ]
    }
   ],
   "source": [
    "from sklearn.linear_model import LinearRegression,Lasso,Ridge,ElasticNet\n",
    "from sklearn.model_selection import train_test_split\n",
    "from sklearn.svm import SVR\n",
    "from sklearn.tree import DecisionTreeRegressor\n",
    "from sklearn.neighbors import KNeighborsRegressor\n",
    "from sklearn import linear_model\n",
    "model=[LinearRegression(),DecisionTreeRegressor(),KNeighborsRegressor(),SVR(),Lasso(),Ridge(),ElasticNet()]\n",
    "for m in model:\n",
    "    m.fit(x_train,y_train)\n",
    "    print('score',m,\"is\",m.score(x_train,y_train))\n",
    "    predm=m.predict(x_test)\n",
    "    print('mean abs error',mean_absolute_error(y_test,predm))\n",
    "    print('mean square error',mean_squared_error(y_test,predm))\n",
    "    print('RMSE',np.sqrt(mean_squared_error(y_test,predm)))\n",
    "    print(\"r2score\",r2_score(y_test,predm))\n",
    "    print(\"*********************************************\")\n",
    "    print(\"\\n\")"
   ]
  },
  {
   "cell_type": "markdown",
   "metadata": {},
   "source": [
    "#Best algorithm-KNneighborsregressor\n",
    "LinearRegression-40\n",
    "DCT-100 (overfit model)\n",
    "KNN-90\n",
    "SVR-58\n",
    "Lasso-0\n",
    "Ridge-40\n",
    "Elastic-0"
   ]
  },
  {
   "cell_type": "code",
   "execution_count": 43,
   "metadata": {},
   "outputs": [
    {
     "name": "stdout",
     "output_type": "stream",
     "text": [
      "score 0.8967293216928117\n",
      "mean abs error 0.29897492205585025\n",
      "mean square error 0.1792689414676335\n",
      "RMSE 0.4234016313946293\n",
      "r2score 0.8224363743295389\n"
     ]
    }
   ],
   "source": [
    "#using KNN as best model\n",
    "knn=KNeighborsRegressor()\n",
    "knn.fit(x_train,y_train)\n",
    "print(\"score\",knn.score(x_train,y_train))\n",
    "predm=knn.predict(x_test)\n",
    "print('mean abs error',mean_absolute_error(y_test,predm))\n",
    "print('mean square error',mean_squared_error(y_test,predm))\n",
    "print('RMSE',np.sqrt(mean_squared_error(y_test,predm)))\n",
    "print(\"r2score\",r2_score(y_test,predm))"
   ]
  },
  {
   "cell_type": "code",
   "execution_count": 44,
   "metadata": {},
   "outputs": [
    {
     "name": "stdout",
     "output_type": "stream",
     "text": [
      "[-0.01387438  0.26413269  0.43188633  0.28117036 -0.16207097]\n",
      "0.16024880742822128 0.2160600603287305\n"
     ]
    }
   ],
   "source": [
    "from sklearn.model_selection import cross_val_score\n",
    "knnscores=cross_val_score(knn,x,y,cv=5,scoring='r2')\n",
    "print(knnscores)\n",
    "print(knnscores.mean(),knnscores.std())"
   ]
  },
  {
   "cell_type": "code",
   "execution_count": 45,
   "metadata": {},
   "outputs": [
    {
     "name": "stdout",
     "output_type": "stream",
     "text": [
      "0.973895988980648\n",
      "mean abs error 0.29000459229957537\n",
      "mean square error 0.16319705854014885\n",
      "RMSE 0.4039765569190233\n",
      "r2score 0.8383553716783941\n"
     ]
    }
   ],
   "source": [
    "from sklearn.ensemble import RandomForestRegressor\n",
    "rf=RandomForestRegressor(n_estimators=20,random_state=60)\n",
    "rf.fit(x_train,y_train)\n",
    "predrf=rf.predict(x_test)\n",
    "print(rf.score(x_train,y_train))\n",
    "print('mean abs error',mean_absolute_error(y_test,predrf))\n",
    "print('mean square error',mean_squared_error(y_test,predrf))\n",
    "print('RMSE',np.sqrt(mean_squared_error(y_test,predrf)))\n",
    "print(\"r2score\",r2_score(y_test,predrf))"
   ]
  },
  {
   "cell_type": "code",
   "execution_count": null,
   "metadata": {},
   "outputs": [],
   "source": [
    "from sklearn.ensemble import AdaBoostRegressor\n",
    "knn=KNeighborsRegressor()\n",
    "ab=AdaBoostRegressor(base_estimator=knn,n_estimators=20,learning_rate=0.1,random_state=60)\n",
    "ab.fit(x_train,y_train)\n",
    "predab=ab.predict(x_test)\n",
    "print(ab.score(x_train,y_train))\n",
    "print('mean abs error',mean_absolute_error(y_test,predab))\n",
    "print('mean square error',mean_squared_error(y_test,predab))\n",
    "print('RMSE',np.sqrt(mean_squared_error(y_test,predab)))\n",
    "print(\"r2score\",r2_score(y_test,predab))"
   ]
  },
  {
   "cell_type": "markdown",
   "metadata": {},
   "source": [
    "Used Ensemble techniques- used over KNN technique\n",
    "RandomForest-97.4.8\n",
    "**Adaboost-91"
   ]
  },
  {
   "cell_type": "markdown",
   "metadata": {},
   "source": [
    "# Classifier"
   ]
  },
  {
   "cell_type": "code",
   "execution_count": 53,
   "metadata": {},
   "outputs": [],
   "source": [
    "df_x=df_new.drop(columns=['region'])\n",
    "y=pd.DataFrame(df_new['region'])\n",
    "x=pd.DataFrame(df_x)"
   ]
  },
  {
   "cell_type": "code",
   "execution_count": 54,
   "metadata": {},
   "outputs": [],
   "source": [
    "from sklearn.preprocessing import StandardScaler\n",
    "sc=StandardScaler()\n",
    "x=sc.fit_transform(x)\n",
    "x=pd.DataFrame(x,columns=df_x.columns)"
   ]
  },
  {
   "cell_type": "code",
   "execution_count": 55,
   "metadata": {},
   "outputs": [],
   "source": [
    "from sklearn.model_selection import train_test_split\n",
    "x_train,x_test,y_train,y_test=train_test_split(x,y,test_size=.30,random_state=42)"
   ]
  },
  {
   "cell_type": "code",
   "execution_count": 56,
   "metadata": {},
   "outputs": [
    {
     "name": "stdout",
     "output_type": "stream",
     "text": [
      "(12355, 11) \t (5296, 11)\n",
      "(12355, 1) \t (5296, 1)\n"
     ]
    }
   ],
   "source": [
    "print(x_train.shape, '\\t', x_test.shape)\n",
    "print(y_train.shape, '\\t', y_test.shape)"
   ]
  },
  {
   "cell_type": "code",
   "execution_count": 57,
   "metadata": {},
   "outputs": [
    {
     "name": "stdout",
     "output_type": "stream",
     "text": [
      "score DecisionTreeClassifier() is 1.0\n",
      "accuracy score 0.7902190332326284\n",
      "confusion matrix [[75  0  0 ...  0  0  0]\n",
      " [ 0 70  0 ...  0  0  3]\n",
      " [ 0  0 86 ...  0  0  2]\n",
      " ...\n",
      " [ 0  0  0 ... 49  0  0]\n",
      " [ 0  0  0 ...  1 57  0]\n",
      " [ 0  0  0 ...  0  0 63]]\n",
      "classification report               precision    recall  f1-score   support\n",
      "\n",
      "           0       0.77      0.73      0.75       103\n",
      "           1       0.71      0.71      0.71        99\n",
      "           2       0.93      0.86      0.90       100\n",
      "           3       0.82      0.81      0.81       100\n",
      "           4       0.91      0.83      0.87       103\n",
      "           5       0.72      0.75      0.74       105\n",
      "           6       0.95      0.92      0.94        89\n",
      "           7       0.84      0.81      0.83       113\n",
      "           8       0.90      0.91      0.91        94\n",
      "           9       0.78      0.71      0.74       113\n",
      "          10       0.76      0.62      0.68        92\n",
      "          11       0.83      0.85      0.84       113\n",
      "          12       0.86      0.84      0.85       104\n",
      "          13       0.68      0.72      0.70        92\n",
      "          14       0.85      0.75      0.79       111\n",
      "          15       0.92      0.94      0.93        84\n",
      "          16       0.88      0.92      0.90       106\n",
      "          17       0.85      0.77      0.81        99\n",
      "          18       0.83      0.83      0.83       114\n",
      "          19       0.83      0.84      0.84        94\n",
      "          20       0.86      0.80      0.83       107\n",
      "          21       0.57      0.70      0.63        98\n",
      "          22       0.97      0.88      0.92       104\n",
      "          23       0.73      0.75      0.74        93\n",
      "          24       0.58      0.65      0.61        95\n",
      "          25       0.93      0.91      0.92       114\n",
      "          26       0.60      0.73      0.66        97\n",
      "          27       0.73      0.74      0.74       104\n",
      "          28       0.76      0.81      0.78        88\n",
      "          29       0.86      0.88      0.87        94\n",
      "          30       0.84      0.91      0.87       107\n",
      "          31       0.68      0.65      0.66       103\n",
      "          32       0.83      0.87      0.85        89\n",
      "          33       0.70      0.78      0.74       110\n",
      "          34       0.77      0.78      0.78        93\n",
      "          35       0.85      0.92      0.89        92\n",
      "          36       0.65      0.77      0.70        77\n",
      "          37       0.69      0.77      0.73        87\n",
      "          38       0.83      0.74      0.78       108\n",
      "          39       0.71      0.82      0.76        94\n",
      "          40       0.79      0.78      0.78       100\n",
      "          41       0.77      0.76      0.76       113\n",
      "          42       0.85      0.84      0.84       100\n",
      "          43       0.82      0.70      0.76        98\n",
      "          44       0.79      0.76      0.78       114\n",
      "          45       0.91      0.84      0.87        92\n",
      "          46       0.86      0.87      0.87        86\n",
      "          47       0.72      0.68      0.70       118\n",
      "          48       0.66      0.71      0.68        90\n",
      "          49       0.78      0.78      0.78       101\n",
      "          50       0.56      0.53      0.54       100\n",
      "          51       0.98      0.98      0.98        50\n",
      "          52       0.93      0.95      0.94        60\n",
      "          53       0.75      0.68      0.72        92\n",
      "\n",
      "    accuracy                           0.79      5296\n",
      "   macro avg       0.80      0.79      0.79      5296\n",
      "weighted avg       0.79      0.79      0.79      5296\n",
      "\n",
      "*********************************************\n",
      "\n",
      "\n",
      "score KNeighborsClassifier() is 0.7126669364629704\n",
      "accuracy score 0.5609894259818731\n",
      "confusion matrix [[49  1  0 ...  0  0  0]\n",
      " [ 1 56  1 ...  0  0  0]\n",
      " [ 0  0 70 ...  0  0  0]\n",
      " ...\n",
      " [ 0  0  0 ... 50  0  0]\n",
      " [ 0  0  0 ...  0 52  0]\n",
      " [ 1  4  0 ...  0  0 46]]\n",
      "classification report               precision    recall  f1-score   support\n",
      "\n",
      "           0       0.26      0.48      0.34       103\n",
      "           1       0.32      0.57      0.41        99\n",
      "           2       0.59      0.70      0.64       100\n",
      "           3       0.30      0.52      0.38       100\n",
      "           4       0.55      0.64      0.59       103\n",
      "           5       0.43      0.57      0.49       105\n",
      "           6       0.85      0.81      0.83        89\n",
      "           7       0.50      0.50      0.50       113\n",
      "           8       0.88      0.79      0.83        94\n",
      "           9       0.44      0.48      0.46       113\n",
      "          10       0.25      0.45      0.32        92\n",
      "          11       0.65      0.76      0.70       113\n",
      "          12       0.71      0.58      0.64       104\n",
      "          13       0.44      0.48      0.46        92\n",
      "          14       0.43      0.45      0.44       111\n",
      "          15       0.84      0.83      0.84        84\n",
      "          16       0.59      0.54      0.56       106\n",
      "          17       0.51      0.76      0.61        99\n",
      "          18       0.66      0.63      0.65       114\n",
      "          19       0.36      0.43      0.39        94\n",
      "          20       0.46      0.48      0.47       107\n",
      "          21       0.42      0.37      0.39        98\n",
      "          22       0.81      0.81      0.81       104\n",
      "          23       0.47      0.42      0.44        93\n",
      "          24       0.39      0.39      0.39        95\n",
      "          25       0.87      0.83      0.85       114\n",
      "          26       0.47      0.45      0.46        97\n",
      "          27       0.49      0.47      0.48       104\n",
      "          28       0.77      0.68      0.72        88\n",
      "          29       0.92      0.90      0.91        94\n",
      "          30       0.70      0.58      0.64       107\n",
      "          31       0.35      0.36      0.35       103\n",
      "          32       0.56      0.45      0.50        89\n",
      "          33       0.65      0.50      0.56       110\n",
      "          34       0.42      0.53      0.46        93\n",
      "          35       0.74      0.91      0.82        92\n",
      "          36       0.61      0.62      0.62        77\n",
      "          37       0.59      0.51      0.55        87\n",
      "          38       0.59      0.38      0.46       108\n",
      "          39       0.49      0.45      0.47        94\n",
      "          40       0.56      0.50      0.53       100\n",
      "          41       0.77      0.51      0.62       113\n",
      "          42       0.89      0.79      0.84       100\n",
      "          43       0.84      0.55      0.67        98\n",
      "          44       0.68      0.32      0.43       114\n",
      "          45       0.85      0.79      0.82        92\n",
      "          46       0.88      0.62      0.73        86\n",
      "          47       0.59      0.37      0.46       118\n",
      "          48       0.52      0.34      0.41        90\n",
      "          49       0.35      0.31      0.33       101\n",
      "          50       0.35      0.27      0.31       100\n",
      "          51       1.00      1.00      1.00        50\n",
      "          52       0.87      0.87      0.87        60\n",
      "          53       0.67      0.50      0.57        92\n",
      "\n",
      "    accuracy                           0.56      5296\n",
      "   macro avg       0.60      0.57      0.57      5296\n",
      "weighted avg       0.59      0.56      0.57      5296\n",
      "\n",
      "*********************************************\n",
      "\n",
      "\n",
      "score SVC() is 0.42331040064751113\n",
      "accuracy score 0.3827416918429003\n",
      "confusion matrix [[28  0  0 ...  0  0  0]\n",
      " [ 5 43  0 ...  0  0  1]\n",
      " [ 1  0 46 ...  0  0  0]\n",
      " ...\n",
      " [ 0  0  0 ... 49  1  0]\n",
      " [ 0  0  0 ...  1 47  0]\n",
      " [ 5  1  0 ...  0  0 39]]\n",
      "classification report               precision    recall  f1-score   support\n",
      "\n",
      "           0       0.11      0.27      0.15       103\n",
      "           1       0.67      0.43      0.53        99\n",
      "           2       0.96      0.46      0.62       100\n",
      "           3       0.41      0.39      0.40       100\n",
      "           4       0.69      0.41      0.51       103\n",
      "           5       0.32      0.21      0.25       105\n",
      "           6       0.81      0.62      0.70        89\n",
      "           7       0.48      0.12      0.19       113\n",
      "           8       0.40      0.44      0.42        94\n",
      "           9       0.40      0.42      0.41       113\n",
      "          10       0.58      0.21      0.30        92\n",
      "          11       0.41      0.40      0.40       113\n",
      "          12       0.83      0.38      0.52       104\n",
      "          13       0.81      0.38      0.52        92\n",
      "          14       0.88      0.19      0.31       111\n",
      "          15       0.60      0.49      0.54        84\n",
      "          16       0.55      0.21      0.30       106\n",
      "          17       0.28      0.78      0.41        99\n",
      "          18       0.24      0.41      0.30       114\n",
      "          19       0.48      0.23      0.31        94\n",
      "          20       0.67      0.22      0.34       107\n",
      "          21       0.62      0.26      0.36        98\n",
      "          22       1.00      0.46      0.63       104\n",
      "          23       0.57      0.25      0.35        93\n",
      "          24       0.77      0.38      0.51        95\n",
      "          25       0.92      0.49      0.64       114\n",
      "          26       0.36      0.25      0.29        97\n",
      "          27       0.22      0.35      0.27       104\n",
      "          28       0.27      0.65      0.38        88\n",
      "          29       0.90      0.82      0.86        94\n",
      "          30       0.16      0.38      0.23       107\n",
      "          31       0.31      0.05      0.08       103\n",
      "          32       0.17      0.44      0.25        89\n",
      "          33       0.75      0.37      0.50       110\n",
      "          34       0.09      0.70      0.16        93\n",
      "          35       0.22      0.67      0.33        92\n",
      "          36       0.49      0.31      0.38        77\n",
      "          37       0.44      0.30      0.36        87\n",
      "          38       0.50      0.34      0.41       108\n",
      "          39       0.14      0.37      0.20        94\n",
      "          40       0.62      0.40      0.48       100\n",
      "          41       0.79      0.37      0.51       113\n",
      "          42       0.97      0.60      0.74       100\n",
      "          43       0.96      0.28      0.43        98\n",
      "          44       0.81      0.33      0.47       114\n",
      "          45       0.64      0.76      0.70        92\n",
      "          46       0.97      0.35      0.51        86\n",
      "          47       0.00      0.00      0.00       118\n",
      "          48       0.39      0.16      0.22        90\n",
      "          49       0.42      0.25      0.31       101\n",
      "          50       0.36      0.20      0.26       100\n",
      "          51       0.98      0.98      0.98        50\n",
      "          52       0.80      0.78      0.79        60\n",
      "          53       0.70      0.42      0.53        92\n",
      "\n",
      "    accuracy                           0.38      5296\n",
      "   macro avg       0.55      0.40      0.42      5296\n",
      "weighted avg       0.55      0.38      0.41      5296\n",
      "\n",
      "*********************************************\n",
      "\n",
      "\n",
      "score GaussianNB() is 0.3163091865641441\n",
      "accuracy score 0.2983383685800604\n",
      "confusion matrix [[30  0  0 ...  0  0  0]\n",
      " [ 1 22  0 ...  0  0  5]\n",
      " [ 5  0 39 ...  0  0  0]\n",
      " ...\n",
      " [ 0  0  0 ... 50  0  0]\n",
      " [ 0  3  0 ...  3 16  0]\n",
      " [ 8  0  0 ...  0  0  5]]\n",
      "classification report               precision    recall  f1-score   support\n",
      "\n",
      "           0       0.13      0.29      0.18       103\n",
      "           1       0.33      0.22      0.27        99\n",
      "           2       0.71      0.39      0.50       100\n",
      "           3       0.68      0.38      0.49       100\n",
      "           4       0.52      0.30      0.38       103\n",
      "           5       0.41      0.25      0.31       105\n",
      "           6       0.73      0.46      0.57        89\n",
      "           7       0.83      0.17      0.28       113\n",
      "           8       0.80      0.39      0.53        94\n",
      "           9       0.67      0.32      0.43       113\n",
      "          10       0.42      0.15      0.22        92\n",
      "          11       0.56      0.17      0.26       113\n",
      "          12       0.57      0.35      0.43       104\n",
      "          13       0.55      0.39      0.46        92\n",
      "          14       0.92      0.30      0.45       111\n",
      "          15       0.71      0.30      0.42        84\n",
      "          16       0.44      0.37      0.40       106\n",
      "          17       0.53      0.31      0.39        99\n",
      "          18       0.34      0.15      0.21       114\n",
      "          19       0.42      0.23      0.30        94\n",
      "          20       0.46      0.22      0.30       107\n",
      "          21       0.23      0.32      0.26        98\n",
      "          22       0.69      0.37      0.48       104\n",
      "          23       0.24      0.32      0.28        93\n",
      "          24       0.40      0.21      0.28        95\n",
      "          25       0.90      0.38      0.53       114\n",
      "          26       0.26      0.12      0.17        97\n",
      "          27       0.83      0.10      0.17       104\n",
      "          28       0.95      0.41      0.57        88\n",
      "          29       0.95      0.45      0.61        94\n",
      "          30       0.78      0.13      0.22       107\n",
      "          31       0.25      0.07      0.11       103\n",
      "          32       0.57      0.36      0.44        89\n",
      "          33       0.32      0.36      0.34       110\n",
      "          34       0.43      0.13      0.20        93\n",
      "          35       0.57      0.35      0.43        92\n",
      "          36       0.41      0.21      0.28        77\n",
      "          37       0.51      0.30      0.38        87\n",
      "          38       0.29      0.21      0.24       108\n",
      "          39       0.35      0.41      0.38        94\n",
      "          40       0.68      0.39      0.50       100\n",
      "          41       0.52      0.32      0.40       113\n",
      "          42       0.57      0.56      0.56       100\n",
      "          43       0.53      0.23      0.33        98\n",
      "          44       0.57      0.14      0.23       114\n",
      "          45       0.62      0.25      0.36        92\n",
      "          46       0.80      0.28      0.41        86\n",
      "          47       0.10      0.35      0.15       118\n",
      "          48       0.33      0.27      0.29        90\n",
      "          49       0.05      0.88      0.09       101\n",
      "          50       0.24      0.20      0.22       100\n",
      "          51       0.89      1.00      0.94        50\n",
      "          52       0.36      0.27      0.30        60\n",
      "          53       0.28      0.05      0.09        92\n",
      "\n",
      "    accuracy                           0.30      5296\n",
      "   macro avg       0.52      0.31      0.35      5296\n",
      "weighted avg       0.52      0.30      0.34      5296\n",
      "\n",
      "*********************************************\n",
      "\n",
      "\n"
     ]
    }
   ],
   "source": [
    "from sklearn.svm import SVC\n",
    "from sklearn.naive_bayes import MultinomialNB\n",
    "from sklearn.naive_bayes import GaussianNB\n",
    "from sklearn.naive_bayes import MultinomialNB\n",
    "from sklearn.metrics import accuracy_score,confusion_matrix,classification_report\n",
    "from sklearn.tree import DecisionTreeClassifier\n",
    "from sklearn.neighbors import KNeighborsClassifier\n",
    "model=[DecisionTreeClassifier(),KNeighborsClassifier(),SVC(),GaussianNB()]\n",
    "for m in model:\n",
    "    m.fit(x_train,y_train)\n",
    "    print('score',m,\"is\",m.score(x_train,y_train))\n",
    "    predm=m.predict(x_test)\n",
    "    print(\"accuracy score\",accuracy_score(y_test,predm))\n",
    "    print(\"confusion matrix\",confusion_matrix(y_test,predm))\n",
    "    print(\"classification report\",classification_report(y_test,predm))\n",
    "    print(\"*********************************************\")\n",
    "    print(\"\\n\")"
   ]
  },
  {
   "cell_type": "markdown",
   "metadata": {},
   "source": [
    "DTC-100(over fitted)\n",
    "KNN-71.2\n",
    "SVC-42.3\n",
    "Gaussian-31.6\n",
    "Best algorithm-KNN"
   ]
  },
  {
   "cell_type": "code",
   "execution_count": 58,
   "metadata": {},
   "outputs": [
    {
     "name": "stdout",
     "output_type": "stream",
     "text": [
      "score 0.7126669364629704\n",
      "accuracy score 0.5609894259818731\n",
      "confusion matrix [[49  1  0 ...  0  0  0]\n",
      " [ 1 56  1 ...  0  0  0]\n",
      " [ 0  0 70 ...  0  0  0]\n",
      " ...\n",
      " [ 0  0  0 ... 50  0  0]\n",
      " [ 0  0  0 ...  0 52  0]\n",
      " [ 1  4  0 ...  0  0 46]]\n",
      "classification report               precision    recall  f1-score   support\n",
      "\n",
      "           0       0.26      0.48      0.34       103\n",
      "           1       0.32      0.57      0.41        99\n",
      "           2       0.59      0.70      0.64       100\n",
      "           3       0.30      0.52      0.38       100\n",
      "           4       0.55      0.64      0.59       103\n",
      "           5       0.43      0.57      0.49       105\n",
      "           6       0.85      0.81      0.83        89\n",
      "           7       0.50      0.50      0.50       113\n",
      "           8       0.88      0.79      0.83        94\n",
      "           9       0.44      0.48      0.46       113\n",
      "          10       0.25      0.45      0.32        92\n",
      "          11       0.65      0.76      0.70       113\n",
      "          12       0.71      0.58      0.64       104\n",
      "          13       0.44      0.48      0.46        92\n",
      "          14       0.43      0.45      0.44       111\n",
      "          15       0.84      0.83      0.84        84\n",
      "          16       0.59      0.54      0.56       106\n",
      "          17       0.51      0.76      0.61        99\n",
      "          18       0.66      0.63      0.65       114\n",
      "          19       0.36      0.43      0.39        94\n",
      "          20       0.46      0.48      0.47       107\n",
      "          21       0.42      0.37      0.39        98\n",
      "          22       0.81      0.81      0.81       104\n",
      "          23       0.47      0.42      0.44        93\n",
      "          24       0.39      0.39      0.39        95\n",
      "          25       0.87      0.83      0.85       114\n",
      "          26       0.47      0.45      0.46        97\n",
      "          27       0.49      0.47      0.48       104\n",
      "          28       0.77      0.68      0.72        88\n",
      "          29       0.92      0.90      0.91        94\n",
      "          30       0.70      0.58      0.64       107\n",
      "          31       0.35      0.36      0.35       103\n",
      "          32       0.56      0.45      0.50        89\n",
      "          33       0.65      0.50      0.56       110\n",
      "          34       0.42      0.53      0.46        93\n",
      "          35       0.74      0.91      0.82        92\n",
      "          36       0.61      0.62      0.62        77\n",
      "          37       0.59      0.51      0.55        87\n",
      "          38       0.59      0.38      0.46       108\n",
      "          39       0.49      0.45      0.47        94\n",
      "          40       0.56      0.50      0.53       100\n",
      "          41       0.77      0.51      0.62       113\n",
      "          42       0.89      0.79      0.84       100\n",
      "          43       0.84      0.55      0.67        98\n",
      "          44       0.68      0.32      0.43       114\n",
      "          45       0.85      0.79      0.82        92\n",
      "          46       0.88      0.62      0.73        86\n",
      "          47       0.59      0.37      0.46       118\n",
      "          48       0.52      0.34      0.41        90\n",
      "          49       0.35      0.31      0.33       101\n",
      "          50       0.35      0.27      0.31       100\n",
      "          51       1.00      1.00      1.00        50\n",
      "          52       0.87      0.87      0.87        60\n",
      "          53       0.67      0.50      0.57        92\n",
      "\n",
      "    accuracy                           0.56      5296\n",
      "   macro avg       0.60      0.57      0.57      5296\n",
      "weighted avg       0.59      0.56      0.57      5296\n",
      "\n"
     ]
    }
   ],
   "source": [
    "#using KNN as best model\n",
    "knn=KNeighborsClassifier()\n",
    "knn.fit(x_train,y_train)\n",
    "print(\"score\",knn.score(x_train,y_train))\n",
    "predm=knn.predict(x_test)\n",
    "print(\"accuracy score\",accuracy_score(y_test,predm))\n",
    "print(\"confusion matrix\",confusion_matrix(y_test,predm))\n",
    "print(\"classification report\",classification_report(y_test,predm))"
   ]
  },
  {
   "cell_type": "code",
   "execution_count": 48,
   "metadata": {},
   "outputs": [
    {
     "name": "stdout",
     "output_type": "stream",
     "text": [
      "[-0.4897997   0.09481864  0.02437066 -0.18029461]\n",
      "-0.13772625464136506 0.22700237425757916\n"
     ]
    }
   ],
   "source": [
    "from sklearn.model_selection import cross_val_score\n",
    "knnscores=cross_val_score(knn,x,y,cv=4)\n",
    "print(knnscores)\n",
    "print(knnscores.mean(),knnscores.std())"
   ]
  },
  {
   "cell_type": "code",
   "execution_count": 59,
   "metadata": {},
   "outputs": [
    {
     "name": "stdout",
     "output_type": "stream",
     "text": [
      "0.9838931606636989\n",
      "0.8281722054380665\n",
      "[[84  0  0 ...  0  0  0]\n",
      " [ 0 86  0 ...  0  0  0]\n",
      " [ 0  0 98 ...  0  0  0]\n",
      " ...\n",
      " [ 0  0  0 ... 49  0  0]\n",
      " [ 0  0  0 ...  1 56  0]\n",
      " [ 0  0  0 ...  0  0 66]]\n",
      "              precision    recall  f1-score   support\n",
      "\n",
      "           0       0.78      0.82      0.80       103\n",
      "           1       0.70      0.87      0.78        99\n",
      "           2       0.86      0.98      0.92       100\n",
      "           3       0.75      0.83      0.79       100\n",
      "           4       0.88      0.90      0.89       103\n",
      "           5       0.75      0.76      0.75       105\n",
      "           6       0.92      1.00      0.96        89\n",
      "           7       0.83      0.89      0.86       113\n",
      "           8       0.94      0.99      0.96        94\n",
      "           9       0.84      0.77      0.80       113\n",
      "          10       0.73      0.78      0.76        92\n",
      "          11       0.81      0.88      0.84       113\n",
      "          12       0.87      0.86      0.86       104\n",
      "          13       0.73      0.84      0.78        92\n",
      "          14       0.86      0.81      0.83       111\n",
      "          15       0.95      0.94      0.95        84\n",
      "          16       0.86      0.92      0.89       106\n",
      "          17       0.86      0.90      0.88        99\n",
      "          18       0.81      0.82      0.81       114\n",
      "          19       0.86      0.85      0.86        94\n",
      "          20       0.88      0.85      0.86       107\n",
      "          21       0.62      0.69      0.65        98\n",
      "          22       0.92      0.94      0.93       104\n",
      "          23       0.78      0.78      0.78        93\n",
      "          24       0.56      0.65      0.60        95\n",
      "          25       0.94      0.95      0.94       114\n",
      "          26       0.73      0.64      0.68        97\n",
      "          27       0.91      0.78      0.84       104\n",
      "          28       0.78      0.80      0.79        88\n",
      "          29       0.91      0.88      0.90        94\n",
      "          30       0.90      0.90      0.90       107\n",
      "          31       0.63      0.69      0.66       103\n",
      "          32       0.88      0.87      0.87        89\n",
      "          33       0.79      0.85      0.82       110\n",
      "          34       0.89      0.82      0.85        93\n",
      "          35       0.91      0.91      0.91        92\n",
      "          36       0.65      0.66      0.66        77\n",
      "          37       0.81      0.87      0.84        87\n",
      "          38       0.90      0.76      0.82       108\n",
      "          39       0.77      0.83      0.80        94\n",
      "          40       0.89      0.85      0.87       100\n",
      "          41       0.83      0.75      0.79       113\n",
      "          42       0.95      0.90      0.92       100\n",
      "          43       0.95      0.71      0.81        98\n",
      "          44       0.90      0.77      0.83       114\n",
      "          45       0.96      0.92      0.94        92\n",
      "          46       0.93      0.94      0.94        86\n",
      "          47       0.88      0.73      0.80       118\n",
      "          48       0.79      0.81      0.80        90\n",
      "          49       0.81      0.83      0.82       101\n",
      "          50       0.59      0.48      0.53       100\n",
      "          51       0.98      0.98      0.98        50\n",
      "          52       0.95      0.93      0.94        60\n",
      "          53       0.84      0.72      0.77        92\n",
      "\n",
      "    accuracy                           0.83      5296\n",
      "   macro avg       0.83      0.83      0.83      5296\n",
      "weighted avg       0.83      0.83      0.83      5296\n",
      "\n"
     ]
    }
   ],
   "source": [
    "from sklearn.ensemble import RandomForestClassifier\n",
    "rf=RandomForestClassifier(n_estimators=5,random_state=60)\n",
    "rf.fit(x_train,y_train)\n",
    "predrf=rf.predict(x_test)\n",
    "print(rf.score(x_train,y_train))\n",
    "print(accuracy_score(y_test,predrf))\n",
    "print(confusion_matrix(y_test,predrf))\n",
    "print(classification_report(y_test,predrf))"
   ]
  },
  {
   "cell_type": "code",
   "execution_count": 62,
   "metadata": {},
   "outputs": [
    {
     "name": "stdout",
     "output_type": "stream",
     "text": [
      "0.9861594496155403\n",
      "0.03228851963746224\n",
      "[[0 0 0 ... 0 0 0]\n",
      " [0 0 0 ... 0 0 0]\n",
      " [0 0 0 ... 0 0 0]\n",
      " ...\n",
      " [0 0 0 ... 0 0 0]\n",
      " [0 0 0 ... 0 0 0]\n",
      " [0 0 0 ... 0 0 0]]\n",
      "              precision    recall  f1-score   support\n",
      "\n",
      "           0       0.00      0.00      0.00       103\n",
      "           1       0.00      0.00      0.00        99\n",
      "           2       0.00      0.00      0.00       100\n",
      "           3       0.00      0.00      0.00       100\n",
      "           4       0.00      0.00      0.00       103\n",
      "           5       0.00      0.00      0.00       105\n",
      "           6       0.00      0.00      0.00        89\n",
      "           7       0.00      0.00      0.00       113\n",
      "           8       0.00      0.00      0.00        94\n",
      "           9       0.00      0.00      0.00       113\n",
      "          10       0.00      0.00      0.00        92\n",
      "          11       0.00      0.00      0.00       113\n",
      "          12       0.00      0.00      0.00       104\n",
      "          13       0.00      0.00      0.00        92\n",
      "          14       0.00      0.00      0.00       111\n",
      "          15       0.00      0.00      0.00        84\n",
      "          16       0.00      0.00      0.00       106\n",
      "          17       0.00      0.00      0.00        99\n",
      "          18       0.00      0.00      0.00       114\n",
      "          19       0.00      0.00      0.00        94\n",
      "          20       0.00      0.00      0.00       107\n",
      "          21       0.00      0.00      0.00        98\n",
      "          22       0.00      0.00      0.00       104\n",
      "          23       0.00      0.00      0.00        93\n",
      "          24       0.00      0.00      0.00        95\n",
      "          25       0.00      0.00      0.00       114\n",
      "          26       0.00      0.00      0.00        97\n",
      "          27       0.08      0.45      0.14       104\n",
      "          28       0.02      0.01      0.01        88\n",
      "          29       0.00      0.00      0.00        94\n",
      "          30       0.00      0.00      0.00       107\n",
      "          31       0.00      0.00      0.00       103\n",
      "          32       0.00      0.00      0.00        89\n",
      "          33       0.00      0.00      0.00       110\n",
      "          34       0.00      0.00      0.00        93\n",
      "          35       0.09      0.50      0.15        92\n",
      "          36       0.02      1.00      0.04        77\n",
      "          37       0.00      0.00      0.00        87\n",
      "          38       0.00      0.00      0.00       108\n",
      "          39       0.00      0.00      0.00        94\n",
      "          40       0.00      0.00      0.00       100\n",
      "          41       0.00      0.00      0.00       113\n",
      "          42       0.00      0.00      0.00       100\n",
      "          43       0.00      0.00      0.00        98\n",
      "          44       0.00      0.00      0.00       114\n",
      "          45       0.00      0.00      0.00        92\n",
      "          46       0.00      0.00      0.00        86\n",
      "          47       0.00      0.00      0.00       118\n",
      "          48       0.00      0.00      0.00        90\n",
      "          49       0.00      0.00      0.00       101\n",
      "          50       0.00      0.00      0.00       100\n",
      "          51       0.00      0.00      0.00        50\n",
      "          52       0.00      0.00      0.00        60\n",
      "          53       0.00      0.00      0.00        92\n",
      "\n",
      "    accuracy                           0.03      5296\n",
      "   macro avg       0.00      0.04      0.01      5296\n",
      "weighted avg       0.00      0.03      0.01      5296\n",
      "\n"
     ]
    }
   ],
   "source": [
    "from sklearn.ensemble import GradientBoostingClassifier\n",
    "gb=GradientBoostingClassifier()\n",
    "gb=GradientBoostingClassifier(random_state=42)\n",
    "gb.fit(x_train,y_train)\n",
    "predgb=ab.predict(x_test)\n",
    "print(gb.score(x_train,y_train))\n",
    "print(accuracy_score(y_test,predgb))\n",
    "print(confusion_matrix(y_test,predgb))\n",
    "print(classification_report(y_test,predgb))"
   ]
  },
  {
   "cell_type": "code",
   "execution_count": 61,
   "metadata": {},
   "outputs": [
    {
     "name": "stdout",
     "output_type": "stream",
     "text": [
      "0.04046944556859571\n",
      "0.03228851963746224\n",
      "[[0 0 0 ... 0 0 0]\n",
      " [0 0 0 ... 0 0 0]\n",
      " [0 0 0 ... 0 0 0]\n",
      " ...\n",
      " [0 0 0 ... 0 0 0]\n",
      " [0 0 0 ... 0 0 0]\n",
      " [0 0 0 ... 0 0 0]]\n",
      "              precision    recall  f1-score   support\n",
      "\n",
      "           0       0.00      0.00      0.00       103\n",
      "           1       0.00      0.00      0.00        99\n",
      "           2       0.00      0.00      0.00       100\n",
      "           3       0.00      0.00      0.00       100\n",
      "           4       0.00      0.00      0.00       103\n",
      "           5       0.00      0.00      0.00       105\n",
      "           6       0.00      0.00      0.00        89\n",
      "           7       0.00      0.00      0.00       113\n",
      "           8       0.00      0.00      0.00        94\n",
      "           9       0.00      0.00      0.00       113\n",
      "          10       0.00      0.00      0.00        92\n",
      "          11       0.00      0.00      0.00       113\n",
      "          12       0.00      0.00      0.00       104\n",
      "          13       0.00      0.00      0.00        92\n",
      "          14       0.00      0.00      0.00       111\n",
      "          15       0.00      0.00      0.00        84\n",
      "          16       0.00      0.00      0.00       106\n",
      "          17       0.00      0.00      0.00        99\n",
      "          18       0.00      0.00      0.00       114\n",
      "          19       0.00      0.00      0.00        94\n",
      "          20       0.00      0.00      0.00       107\n",
      "          21       0.00      0.00      0.00        98\n",
      "          22       0.00      0.00      0.00       104\n",
      "          23       0.00      0.00      0.00        93\n",
      "          24       0.00      0.00      0.00        95\n",
      "          25       0.00      0.00      0.00       114\n",
      "          26       0.00      0.00      0.00        97\n",
      "          27       0.08      0.45      0.14       104\n",
      "          28       0.02      0.01      0.01        88\n",
      "          29       0.00      0.00      0.00        94\n",
      "          30       0.00      0.00      0.00       107\n",
      "          31       0.00      0.00      0.00       103\n",
      "          32       0.00      0.00      0.00        89\n",
      "          33       0.00      0.00      0.00       110\n",
      "          34       0.00      0.00      0.00        93\n",
      "          35       0.09      0.50      0.15        92\n",
      "          36       0.02      1.00      0.04        77\n",
      "          37       0.00      0.00      0.00        87\n",
      "          38       0.00      0.00      0.00       108\n",
      "          39       0.00      0.00      0.00        94\n",
      "          40       0.00      0.00      0.00       100\n",
      "          41       0.00      0.00      0.00       113\n",
      "          42       0.00      0.00      0.00       100\n",
      "          43       0.00      0.00      0.00        98\n",
      "          44       0.00      0.00      0.00       114\n",
      "          45       0.00      0.00      0.00        92\n",
      "          46       0.00      0.00      0.00        86\n",
      "          47       0.00      0.00      0.00       118\n",
      "          48       0.00      0.00      0.00        90\n",
      "          49       0.00      0.00      0.00       101\n",
      "          50       0.00      0.00      0.00       100\n",
      "          51       0.00      0.00      0.00        50\n",
      "          52       0.00      0.00      0.00        60\n",
      "          53       0.00      0.00      0.00        92\n",
      "\n",
      "    accuracy                           0.03      5296\n",
      "   macro avg       0.00      0.04      0.01      5296\n",
      "weighted avg       0.00      0.03      0.01      5296\n",
      "\n"
     ]
    }
   ],
   "source": [
    "from sklearn.ensemble import AdaBoostClassifier\n",
    "ab=AdaBoostClassifier(n_estimators=20,learning_rate=0.1,random_state=42,algorithm='SAMME')\n",
    "ab.fit(x_train,y_train)\n",
    "predab=ab.predict(x_test)\n",
    "print(ab.score(x_train,y_train))\n",
    "print(accuracy_score(y_test,predab))\n",
    "print(confusion_matrix(y_test,predab))\n",
    "print(classification_report(y_test,predab))"
   ]
  },
  {
   "cell_type": "markdown",
   "metadata": {},
   "source": [
    "RFC-98.3\n",
    "GBC-98.6\n",
    "ADC-40.4"
   ]
  },
  {
   "cell_type": "code",
   "execution_count": null,
   "metadata": {},
   "outputs": [],
   "source": []
  }
 ],
 "metadata": {
  "kernelspec": {
   "display_name": "Python 3",
   "language": "python",
   "name": "python3"
  },
  "language_info": {
   "codemirror_mode": {
    "name": "ipython",
    "version": 3
   },
   "file_extension": ".py",
   "mimetype": "text/x-python",
   "name": "python",
   "nbconvert_exporter": "python",
   "pygments_lexer": "ipython3",
   "version": "3.8.3"
  }
 },
 "nbformat": 4,
 "nbformat_minor": 4
}
