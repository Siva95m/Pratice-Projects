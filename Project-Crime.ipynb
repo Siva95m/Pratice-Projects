{
 "cells": [
  {
   "cell_type": "code",
   "execution_count": 4,
   "metadata": {},
   "outputs": [],
   "source": [
    "import numpy as np\n",
    "import pandas as pd\n",
    "import seaborn as sns\n",
    "import sklearn\n",
    "import matplotlib.pyplot as plt\n",
    "from sklearn.linear_model import LinearRegression\n",
    "from sklearn.metrics import mean_squared_error,mean_absolute_error\n",
    "from sklearn.model_selection import train_test_split"
   ]
  },
  {
   "cell_type": "code",
   "execution_count": 7,
   "metadata": {},
   "outputs": [],
   "source": [
    "df=pd.read_csv('rape.csv')"
   ]
  },
  {
   "cell_type": "code",
   "execution_count": 8,
   "metadata": {},
   "outputs": [
    {
     "data": {
      "text/html": [
       "<div>\n",
       "<style scoped>\n",
       "    .dataframe tbody tr th:only-of-type {\n",
       "        vertical-align: middle;\n",
       "    }\n",
       "\n",
       "    .dataframe tbody tr th {\n",
       "        vertical-align: top;\n",
       "    }\n",
       "\n",
       "    .dataframe thead th {\n",
       "        text-align: right;\n",
       "    }\n",
       "</style>\n",
       "<table border=\"1\" class=\"dataframe\">\n",
       "  <thead>\n",
       "    <tr style=\"text-align: right;\">\n",
       "      <th></th>\n",
       "      <th>Area_Name</th>\n",
       "      <th>Year</th>\n",
       "      <th>Subgroup</th>\n",
       "      <th>Cases_Reported</th>\n",
       "      <th>&gt;50_Yrs</th>\n",
       "      <th>10-14_Yrs</th>\n",
       "      <th>14-18_Yrs</th>\n",
       "      <th>18-30_Yrs</th>\n",
       "      <th>30-50_Yrs</th>\n",
       "      <th>Rape_Total</th>\n",
       "      <th>Upto_10_Yrs</th>\n",
       "    </tr>\n",
       "  </thead>\n",
       "  <tbody>\n",
       "    <tr>\n",
       "      <th>0</th>\n",
       "      <td>Andaman &amp; Nicobar Islands</td>\n",
       "      <td>2001</td>\n",
       "      <td>Total Rape Victims</td>\n",
       "      <td>3</td>\n",
       "      <td>0</td>\n",
       "      <td>0</td>\n",
       "      <td>3</td>\n",
       "      <td>0</td>\n",
       "      <td>0</td>\n",
       "      <td>3</td>\n",
       "      <td>0</td>\n",
       "    </tr>\n",
       "    <tr>\n",
       "      <th>1</th>\n",
       "      <td>Andaman &amp; Nicobar Islands</td>\n",
       "      <td>2001</td>\n",
       "      <td>Victims of Incest Rape</td>\n",
       "      <td>1</td>\n",
       "      <td>0</td>\n",
       "      <td>0</td>\n",
       "      <td>1</td>\n",
       "      <td>0</td>\n",
       "      <td>0</td>\n",
       "      <td>1</td>\n",
       "      <td>0</td>\n",
       "    </tr>\n",
       "    <tr>\n",
       "      <th>2</th>\n",
       "      <td>Andaman &amp; Nicobar Islands</td>\n",
       "      <td>2001</td>\n",
       "      <td>Victims of Other Rape</td>\n",
       "      <td>2</td>\n",
       "      <td>0</td>\n",
       "      <td>0</td>\n",
       "      <td>2</td>\n",
       "      <td>0</td>\n",
       "      <td>0</td>\n",
       "      <td>2</td>\n",
       "      <td>0</td>\n",
       "    </tr>\n",
       "    <tr>\n",
       "      <th>3</th>\n",
       "      <td>Andaman &amp; Nicobar Islands</td>\n",
       "      <td>2002</td>\n",
       "      <td>Total Rape Victims</td>\n",
       "      <td>2</td>\n",
       "      <td>0</td>\n",
       "      <td>0</td>\n",
       "      <td>1</td>\n",
       "      <td>1</td>\n",
       "      <td>0</td>\n",
       "      <td>2</td>\n",
       "      <td>0</td>\n",
       "    </tr>\n",
       "    <tr>\n",
       "      <th>4</th>\n",
       "      <td>Andaman &amp; Nicobar Islands</td>\n",
       "      <td>2002</td>\n",
       "      <td>Victims of Incest Rape</td>\n",
       "      <td>0</td>\n",
       "      <td>0</td>\n",
       "      <td>0</td>\n",
       "      <td>0</td>\n",
       "      <td>0</td>\n",
       "      <td>0</td>\n",
       "      <td>0</td>\n",
       "      <td>0</td>\n",
       "    </tr>\n",
       "    <tr>\n",
       "      <th>...</th>\n",
       "      <td>...</td>\n",
       "      <td>...</td>\n",
       "      <td>...</td>\n",
       "      <td>...</td>\n",
       "      <td>...</td>\n",
       "      <td>...</td>\n",
       "      <td>...</td>\n",
       "      <td>...</td>\n",
       "      <td>...</td>\n",
       "      <td>...</td>\n",
       "      <td>...</td>\n",
       "    </tr>\n",
       "    <tr>\n",
       "      <th>1045</th>\n",
       "      <td>West Bengal</td>\n",
       "      <td>2009</td>\n",
       "      <td>Victims of Incest Rape</td>\n",
       "      <td>3</td>\n",
       "      <td>0</td>\n",
       "      <td>0</td>\n",
       "      <td>1</td>\n",
       "      <td>1</td>\n",
       "      <td>1</td>\n",
       "      <td>3</td>\n",
       "      <td>0</td>\n",
       "    </tr>\n",
       "    <tr>\n",
       "      <th>1046</th>\n",
       "      <td>West Bengal</td>\n",
       "      <td>2009</td>\n",
       "      <td>Victims of Other Rape</td>\n",
       "      <td>2333</td>\n",
       "      <td>0</td>\n",
       "      <td>18</td>\n",
       "      <td>84</td>\n",
       "      <td>1834</td>\n",
       "      <td>391</td>\n",
       "      <td>2333</td>\n",
       "      <td>6</td>\n",
       "    </tr>\n",
       "    <tr>\n",
       "      <th>1047</th>\n",
       "      <td>West Bengal</td>\n",
       "      <td>2010</td>\n",
       "      <td>Total Rape Victims</td>\n",
       "      <td>2311</td>\n",
       "      <td>0</td>\n",
       "      <td>22</td>\n",
       "      <td>51</td>\n",
       "      <td>1779</td>\n",
       "      <td>459</td>\n",
       "      <td>2311</td>\n",
       "      <td>0</td>\n",
       "    </tr>\n",
       "    <tr>\n",
       "      <th>1048</th>\n",
       "      <td>West Bengal</td>\n",
       "      <td>2010</td>\n",
       "      <td>Victims of Incest Rape</td>\n",
       "      <td>4</td>\n",
       "      <td>0</td>\n",
       "      <td>1</td>\n",
       "      <td>0</td>\n",
       "      <td>2</td>\n",
       "      <td>1</td>\n",
       "      <td>4</td>\n",
       "      <td>0</td>\n",
       "    </tr>\n",
       "    <tr>\n",
       "      <th>1049</th>\n",
       "      <td>West Bengal</td>\n",
       "      <td>2010</td>\n",
       "      <td>Victims of Other Rape</td>\n",
       "      <td>2307</td>\n",
       "      <td>0</td>\n",
       "      <td>21</td>\n",
       "      <td>51</td>\n",
       "      <td>1777</td>\n",
       "      <td>458</td>\n",
       "      <td>2307</td>\n",
       "      <td>0</td>\n",
       "    </tr>\n",
       "  </tbody>\n",
       "</table>\n",
       "<p>1050 rows × 11 columns</p>\n",
       "</div>"
      ],
      "text/plain": [
       "                      Area_Name  Year                Subgroup  Cases_Reported  \\\n",
       "0     Andaman & Nicobar Islands  2001      Total Rape Victims               3   \n",
       "1     Andaman & Nicobar Islands  2001  Victims of Incest Rape               1   \n",
       "2     Andaman & Nicobar Islands  2001   Victims of Other Rape               2   \n",
       "3     Andaman & Nicobar Islands  2002      Total Rape Victims               2   \n",
       "4     Andaman & Nicobar Islands  2002  Victims of Incest Rape               0   \n",
       "...                         ...   ...                     ...             ...   \n",
       "1045                West Bengal  2009  Victims of Incest Rape               3   \n",
       "1046                West Bengal  2009   Victims of Other Rape            2333   \n",
       "1047                West Bengal  2010      Total Rape Victims            2311   \n",
       "1048                West Bengal  2010  Victims of Incest Rape               4   \n",
       "1049                West Bengal  2010   Victims of Other Rape            2307   \n",
       "\n",
       "      >50_Yrs  10-14_Yrs  14-18_Yrs  18-30_Yrs  30-50_Yrs  Rape_Total  \\\n",
       "0           0          0          3          0          0           3   \n",
       "1           0          0          1          0          0           1   \n",
       "2           0          0          2          0          0           2   \n",
       "3           0          0          1          1          0           2   \n",
       "4           0          0          0          0          0           0   \n",
       "...       ...        ...        ...        ...        ...         ...   \n",
       "1045        0          0          1          1          1           3   \n",
       "1046        0         18         84       1834        391        2333   \n",
       "1047        0         22         51       1779        459        2311   \n",
       "1048        0          1          0          2          1           4   \n",
       "1049        0         21         51       1777        458        2307   \n",
       "\n",
       "      Upto_10_Yrs  \n",
       "0               0  \n",
       "1               0  \n",
       "2               0  \n",
       "3               0  \n",
       "4               0  \n",
       "...           ...  \n",
       "1045            0  \n",
       "1046            6  \n",
       "1047            0  \n",
       "1048            0  \n",
       "1049            0  \n",
       "\n",
       "[1050 rows x 11 columns]"
      ]
     },
     "execution_count": 8,
     "metadata": {},
     "output_type": "execute_result"
    }
   ],
   "source": [
    "df"
   ]
  },
  {
   "cell_type": "code",
   "execution_count": 9,
   "metadata": {},
   "outputs": [
    {
     "data": {
      "text/html": [
       "<div>\n",
       "<style scoped>\n",
       "    .dataframe tbody tr th:only-of-type {\n",
       "        vertical-align: middle;\n",
       "    }\n",
       "\n",
       "    .dataframe tbody tr th {\n",
       "        vertical-align: top;\n",
       "    }\n",
       "\n",
       "    .dataframe thead th {\n",
       "        text-align: right;\n",
       "    }\n",
       "</style>\n",
       "<table border=\"1\" class=\"dataframe\">\n",
       "  <thead>\n",
       "    <tr style=\"text-align: right;\">\n",
       "      <th></th>\n",
       "      <th>Area_Name</th>\n",
       "      <th>Year</th>\n",
       "      <th>Subgroup</th>\n",
       "      <th>Cases_Reported</th>\n",
       "      <th>&gt;50_Yrs</th>\n",
       "      <th>10-14_Yrs</th>\n",
       "      <th>14-18_Yrs</th>\n",
       "      <th>18-30_Yrs</th>\n",
       "      <th>30-50_Yrs</th>\n",
       "      <th>Rape_Total</th>\n",
       "      <th>Upto_10_Yrs</th>\n",
       "    </tr>\n",
       "  </thead>\n",
       "  <tbody>\n",
       "    <tr>\n",
       "      <th>0</th>\n",
       "      <td>False</td>\n",
       "      <td>False</td>\n",
       "      <td>False</td>\n",
       "      <td>False</td>\n",
       "      <td>False</td>\n",
       "      <td>False</td>\n",
       "      <td>False</td>\n",
       "      <td>False</td>\n",
       "      <td>False</td>\n",
       "      <td>False</td>\n",
       "      <td>False</td>\n",
       "    </tr>\n",
       "    <tr>\n",
       "      <th>1</th>\n",
       "      <td>False</td>\n",
       "      <td>False</td>\n",
       "      <td>False</td>\n",
       "      <td>False</td>\n",
       "      <td>False</td>\n",
       "      <td>False</td>\n",
       "      <td>False</td>\n",
       "      <td>False</td>\n",
       "      <td>False</td>\n",
       "      <td>False</td>\n",
       "      <td>False</td>\n",
       "    </tr>\n",
       "    <tr>\n",
       "      <th>2</th>\n",
       "      <td>False</td>\n",
       "      <td>False</td>\n",
       "      <td>False</td>\n",
       "      <td>False</td>\n",
       "      <td>False</td>\n",
       "      <td>False</td>\n",
       "      <td>False</td>\n",
       "      <td>False</td>\n",
       "      <td>False</td>\n",
       "      <td>False</td>\n",
       "      <td>False</td>\n",
       "    </tr>\n",
       "    <tr>\n",
       "      <th>3</th>\n",
       "      <td>False</td>\n",
       "      <td>False</td>\n",
       "      <td>False</td>\n",
       "      <td>False</td>\n",
       "      <td>False</td>\n",
       "      <td>False</td>\n",
       "      <td>False</td>\n",
       "      <td>False</td>\n",
       "      <td>False</td>\n",
       "      <td>False</td>\n",
       "      <td>False</td>\n",
       "    </tr>\n",
       "    <tr>\n",
       "      <th>4</th>\n",
       "      <td>False</td>\n",
       "      <td>False</td>\n",
       "      <td>False</td>\n",
       "      <td>False</td>\n",
       "      <td>False</td>\n",
       "      <td>False</td>\n",
       "      <td>False</td>\n",
       "      <td>False</td>\n",
       "      <td>False</td>\n",
       "      <td>False</td>\n",
       "      <td>False</td>\n",
       "    </tr>\n",
       "    <tr>\n",
       "      <th>...</th>\n",
       "      <td>...</td>\n",
       "      <td>...</td>\n",
       "      <td>...</td>\n",
       "      <td>...</td>\n",
       "      <td>...</td>\n",
       "      <td>...</td>\n",
       "      <td>...</td>\n",
       "      <td>...</td>\n",
       "      <td>...</td>\n",
       "      <td>...</td>\n",
       "      <td>...</td>\n",
       "    </tr>\n",
       "    <tr>\n",
       "      <th>1045</th>\n",
       "      <td>False</td>\n",
       "      <td>False</td>\n",
       "      <td>False</td>\n",
       "      <td>False</td>\n",
       "      <td>False</td>\n",
       "      <td>False</td>\n",
       "      <td>False</td>\n",
       "      <td>False</td>\n",
       "      <td>False</td>\n",
       "      <td>False</td>\n",
       "      <td>False</td>\n",
       "    </tr>\n",
       "    <tr>\n",
       "      <th>1046</th>\n",
       "      <td>False</td>\n",
       "      <td>False</td>\n",
       "      <td>False</td>\n",
       "      <td>False</td>\n",
       "      <td>False</td>\n",
       "      <td>False</td>\n",
       "      <td>False</td>\n",
       "      <td>False</td>\n",
       "      <td>False</td>\n",
       "      <td>False</td>\n",
       "      <td>False</td>\n",
       "    </tr>\n",
       "    <tr>\n",
       "      <th>1047</th>\n",
       "      <td>False</td>\n",
       "      <td>False</td>\n",
       "      <td>False</td>\n",
       "      <td>False</td>\n",
       "      <td>False</td>\n",
       "      <td>False</td>\n",
       "      <td>False</td>\n",
       "      <td>False</td>\n",
       "      <td>False</td>\n",
       "      <td>False</td>\n",
       "      <td>False</td>\n",
       "    </tr>\n",
       "    <tr>\n",
       "      <th>1048</th>\n",
       "      <td>False</td>\n",
       "      <td>False</td>\n",
       "      <td>False</td>\n",
       "      <td>False</td>\n",
       "      <td>False</td>\n",
       "      <td>False</td>\n",
       "      <td>False</td>\n",
       "      <td>False</td>\n",
       "      <td>False</td>\n",
       "      <td>False</td>\n",
       "      <td>False</td>\n",
       "    </tr>\n",
       "    <tr>\n",
       "      <th>1049</th>\n",
       "      <td>False</td>\n",
       "      <td>False</td>\n",
       "      <td>False</td>\n",
       "      <td>False</td>\n",
       "      <td>False</td>\n",
       "      <td>False</td>\n",
       "      <td>False</td>\n",
       "      <td>False</td>\n",
       "      <td>False</td>\n",
       "      <td>False</td>\n",
       "      <td>False</td>\n",
       "    </tr>\n",
       "  </tbody>\n",
       "</table>\n",
       "<p>1050 rows × 11 columns</p>\n",
       "</div>"
      ],
      "text/plain": [
       "      Area_Name   Year  Subgroup  Cases_Reported  >50_Yrs  10-14_Yrs  \\\n",
       "0         False  False     False           False    False      False   \n",
       "1         False  False     False           False    False      False   \n",
       "2         False  False     False           False    False      False   \n",
       "3         False  False     False           False    False      False   \n",
       "4         False  False     False           False    False      False   \n",
       "...         ...    ...       ...             ...      ...        ...   \n",
       "1045      False  False     False           False    False      False   \n",
       "1046      False  False     False           False    False      False   \n",
       "1047      False  False     False           False    False      False   \n",
       "1048      False  False     False           False    False      False   \n",
       "1049      False  False     False           False    False      False   \n",
       "\n",
       "      14-18_Yrs  18-30_Yrs  30-50_Yrs  Rape_Total  Upto_10_Yrs  \n",
       "0         False      False      False       False        False  \n",
       "1         False      False      False       False        False  \n",
       "2         False      False      False       False        False  \n",
       "3         False      False      False       False        False  \n",
       "4         False      False      False       False        False  \n",
       "...         ...        ...        ...         ...          ...  \n",
       "1045      False      False      False       False        False  \n",
       "1046      False      False      False       False        False  \n",
       "1047      False      False      False       False        False  \n",
       "1048      False      False      False       False        False  \n",
       "1049      False      False      False       False        False  \n",
       "\n",
       "[1050 rows x 11 columns]"
      ]
     },
     "execution_count": 9,
     "metadata": {},
     "output_type": "execute_result"
    }
   ],
   "source": [
    "df.isnull()"
   ]
  },
  {
   "cell_type": "code",
   "execution_count": 10,
   "metadata": {},
   "outputs": [
    {
     "data": {
      "text/plain": [
       "<matplotlib.axes._subplots.AxesSubplot at 0x1aaa75dcfa0>"
      ]
     },
     "execution_count": 10,
     "metadata": {},
     "output_type": "execute_result"
    },
    {
     "data": {
      "image/png": "[encoded data removed]",
      "text/plain": [
       "<Figure size 432x288 with 2 Axes>"
      ]
     },
     "metadata": {
      "needs_background": "light"
     },
     "output_type": "display_data"
    }
   ],
   "source": [
    "#no null value present\n",
    "sns.heatmap(df.isnull())"
   ]
  },
  {
   "cell_type": "code",
   "execution_count": 11,
   "metadata": {},
   "outputs": [
    {
     "data": {
      "text/plain": [
       "<matplotlib.axes._subplots.AxesSubplot at 0x1aaa23f9580>"
      ]
     },
     "execution_count": 11,
     "metadata": {},
     "output_type": "execute_result"
    },
    {
     "data": {
      "image/png": "[encoded data removed]",
      "text/plain": [
       "<Figure size 432x288 with 2 Axes>"
      ]
     },
     "metadata": {
      "needs_background": "light"
     },
     "output_type": "display_data"
    }
   ],
   "source": [
    "dfcor=df.corr()\n",
    "sns.heatmap(dfcor)"
   ]
  },
  {
   "cell_type": "code",
   "execution_count": 12,
   "metadata": {},
   "outputs": [
    {
     "data": {
      "text/html": [
       "<div>\n",
       "<style scoped>\n",
       "    .dataframe tbody tr th:only-of-type {\n",
       "        vertical-align: middle;\n",
       "    }\n",
       "\n",
       "    .dataframe tbody tr th {\n",
       "        vertical-align: top;\n",
       "    }\n",
       "\n",
       "    .dataframe thead th {\n",
       "        text-align: right;\n",
       "    }\n",
       "</style>\n",
       "<table border=\"1\" class=\"dataframe\">\n",
       "  <thead>\n",
       "    <tr style=\"text-align: right;\">\n",
       "      <th></th>\n",
       "      <th>Year</th>\n",
       "      <th>Cases_Reported</th>\n",
       "      <th>&gt;50_Yrs</th>\n",
       "      <th>10-14_Yrs</th>\n",
       "      <th>14-18_Yrs</th>\n",
       "      <th>18-30_Yrs</th>\n",
       "      <th>30-50_Yrs</th>\n",
       "      <th>Rape_Total</th>\n",
       "      <th>Upto_10_Yrs</th>\n",
       "    </tr>\n",
       "  </thead>\n",
       "  <tbody>\n",
       "    <tr>\n",
       "      <th>count</th>\n",
       "      <td>1050.00000</td>\n",
       "      <td>1050.000000</td>\n",
       "      <td>1050.000000</td>\n",
       "      <td>1050.000000</td>\n",
       "      <td>1050.000000</td>\n",
       "      <td>1050.000000</td>\n",
       "      <td>1050.000000</td>\n",
       "      <td>1050.000000</td>\n",
       "      <td>1050.000000</td>\n",
       "    </tr>\n",
       "    <tr>\n",
       "      <th>mean</th>\n",
       "      <td>2005.50000</td>\n",
       "      <td>361.920000</td>\n",
       "      <td>1.866667</td>\n",
       "      <td>23.657143</td>\n",
       "      <td>53.085714</td>\n",
       "      <td>212.937143</td>\n",
       "      <td>60.236190</td>\n",
       "      <td>362.198095</td>\n",
       "      <td>10.415238</td>\n",
       "    </tr>\n",
       "    <tr>\n",
       "      <th>std</th>\n",
       "      <td>2.87365</td>\n",
       "      <td>592.180572</td>\n",
       "      <td>4.640286</td>\n",
       "      <td>50.677418</td>\n",
       "      <td>115.127899</td>\n",
       "      <td>350.135760</td>\n",
       "      <td>118.322713</td>\n",
       "      <td>592.418089</td>\n",
       "      <td>19.533134</td>\n",
       "    </tr>\n",
       "    <tr>\n",
       "      <th>min</th>\n",
       "      <td>2001.00000</td>\n",
       "      <td>0.000000</td>\n",
       "      <td>0.000000</td>\n",
       "      <td>0.000000</td>\n",
       "      <td>0.000000</td>\n",
       "      <td>0.000000</td>\n",
       "      <td>0.000000</td>\n",
       "      <td>0.000000</td>\n",
       "      <td>0.000000</td>\n",
       "    </tr>\n",
       "    <tr>\n",
       "      <th>25%</th>\n",
       "      <td>2003.00000</td>\n",
       "      <td>4.000000</td>\n",
       "      <td>0.000000</td>\n",
       "      <td>0.000000</td>\n",
       "      <td>0.000000</td>\n",
       "      <td>1.000000</td>\n",
       "      <td>0.000000</td>\n",
       "      <td>4.000000</td>\n",
       "      <td>0.000000</td>\n",
       "    </tr>\n",
       "    <tr>\n",
       "      <th>50%</th>\n",
       "      <td>2005.50000</td>\n",
       "      <td>37.000000</td>\n",
       "      <td>0.000000</td>\n",
       "      <td>3.000000</td>\n",
       "      <td>5.000000</td>\n",
       "      <td>15.500000</td>\n",
       "      <td>4.000000</td>\n",
       "      <td>37.000000</td>\n",
       "      <td>2.000000</td>\n",
       "    </tr>\n",
       "    <tr>\n",
       "      <th>75%</th>\n",
       "      <td>2008.00000</td>\n",
       "      <td>527.500000</td>\n",
       "      <td>1.000000</td>\n",
       "      <td>19.000000</td>\n",
       "      <td>42.000000</td>\n",
       "      <td>308.000000</td>\n",
       "      <td>58.750000</td>\n",
       "      <td>531.500000</td>\n",
       "      <td>11.000000</td>\n",
       "    </tr>\n",
       "    <tr>\n",
       "      <th>max</th>\n",
       "      <td>2010.00000</td>\n",
       "      <td>3135.000000</td>\n",
       "      <td>43.000000</td>\n",
       "      <td>416.000000</td>\n",
       "      <td>826.000000</td>\n",
       "      <td>1835.000000</td>\n",
       "      <td>811.000000</td>\n",
       "      <td>3136.000000</td>\n",
       "      <td>131.000000</td>\n",
       "    </tr>\n",
       "  </tbody>\n",
       "</table>\n",
       "</div>"
      ],
      "text/plain": [
       "             Year  Cases_Reported      >50_Yrs    10-14_Yrs    14-18_Yrs  \\\n",
       "count  1050.00000     1050.000000  1050.000000  1050.000000  1050.000000   \n",
       "mean   2005.50000      361.920000     1.866667    23.657143    53.085714   \n",
       "std       2.87365      592.180572     4.640286    50.677418   115.127899   \n",
       "min    2001.00000        0.000000     0.000000     0.000000     0.000000   \n",
       "25%    2003.00000        4.000000     0.000000     0.000000     0.000000   \n",
       "50%    2005.50000       37.000000     0.000000     3.000000     5.000000   \n",
       "75%    2008.00000      527.500000     1.000000    19.000000    42.000000   \n",
       "max    2010.00000     3135.000000    43.000000   416.000000   826.000000   \n",
       "\n",
       "         18-30_Yrs    30-50_Yrs   Rape_Total  Upto_10_Yrs  \n",
       "count  1050.000000  1050.000000  1050.000000  1050.000000  \n",
       "mean    212.937143    60.236190   362.198095    10.415238  \n",
       "std     350.135760   118.322713   592.418089    19.533134  \n",
       "min       0.000000     0.000000     0.000000     0.000000  \n",
       "25%       1.000000     0.000000     4.000000     0.000000  \n",
       "50%      15.500000     4.000000    37.000000     2.000000  \n",
       "75%     308.000000    58.750000   531.500000    11.000000  \n",
       "max    1835.000000   811.000000  3136.000000   131.000000  "
      ]
     },
     "execution_count": 12,
     "metadata": {},
     "output_type": "execute_result"
    }
   ],
   "source": [
    "df.describe()"
   ]
  },
  {
   "cell_type": "code",
   "execution_count": 14,
   "metadata": {},
   "outputs": [],
   "source": [
    "df1=df.drop(['Area_Name','Subgroup'],axis=1)"
   ]
  },
  {
   "cell_type": "code",
   "execution_count": 15,
   "metadata": {},
   "outputs": [
    {
     "data": {
      "text/html": [
       "<div>\n",
       "<style scoped>\n",
       "    .dataframe tbody tr th:only-of-type {\n",
       "        vertical-align: middle;\n",
       "    }\n",
       "\n",
       "    .dataframe tbody tr th {\n",
       "        vertical-align: top;\n",
       "    }\n",
       "\n",
       "    .dataframe thead th {\n",
       "        text-align: right;\n",
       "    }\n",
       "</style>\n",
       "<table border=\"1\" class=\"dataframe\">\n",
       "  <thead>\n",
       "    <tr style=\"text-align: right;\">\n",
       "      <th></th>\n",
       "      <th>Year</th>\n",
       "      <th>Cases_Reported</th>\n",
       "      <th>&gt;50_Yrs</th>\n",
       "      <th>10-14_Yrs</th>\n",
       "      <th>14-18_Yrs</th>\n",
       "      <th>18-30_Yrs</th>\n",
       "      <th>30-50_Yrs</th>\n",
       "      <th>Rape_Total</th>\n",
       "      <th>Upto_10_Yrs</th>\n",
       "    </tr>\n",
       "  </thead>\n",
       "  <tbody>\n",
       "    <tr>\n",
       "      <th>0</th>\n",
       "      <td>2001</td>\n",
       "      <td>3</td>\n",
       "      <td>0</td>\n",
       "      <td>0</td>\n",
       "      <td>3</td>\n",
       "      <td>0</td>\n",
       "      <td>0</td>\n",
       "      <td>3</td>\n",
       "      <td>0</td>\n",
       "    </tr>\n",
       "    <tr>\n",
       "      <th>1</th>\n",
       "      <td>2001</td>\n",
       "      <td>1</td>\n",
       "      <td>0</td>\n",
       "      <td>0</td>\n",
       "      <td>1</td>\n",
       "      <td>0</td>\n",
       "      <td>0</td>\n",
       "      <td>1</td>\n",
       "      <td>0</td>\n",
       "    </tr>\n",
       "    <tr>\n",
       "      <th>2</th>\n",
       "      <td>2001</td>\n",
       "      <td>2</td>\n",
       "      <td>0</td>\n",
       "      <td>0</td>\n",
       "      <td>2</td>\n",
       "      <td>0</td>\n",
       "      <td>0</td>\n",
       "      <td>2</td>\n",
       "      <td>0</td>\n",
       "    </tr>\n",
       "    <tr>\n",
       "      <th>3</th>\n",
       "      <td>2002</td>\n",
       "      <td>2</td>\n",
       "      <td>0</td>\n",
       "      <td>0</td>\n",
       "      <td>1</td>\n",
       "      <td>1</td>\n",
       "      <td>0</td>\n",
       "      <td>2</td>\n",
       "      <td>0</td>\n",
       "    </tr>\n",
       "    <tr>\n",
       "      <th>4</th>\n",
       "      <td>2002</td>\n",
       "      <td>0</td>\n",
       "      <td>0</td>\n",
       "      <td>0</td>\n",
       "      <td>0</td>\n",
       "      <td>0</td>\n",
       "      <td>0</td>\n",
       "      <td>0</td>\n",
       "      <td>0</td>\n",
       "    </tr>\n",
       "    <tr>\n",
       "      <th>...</th>\n",
       "      <td>...</td>\n",
       "      <td>...</td>\n",
       "      <td>...</td>\n",
       "      <td>...</td>\n",
       "      <td>...</td>\n",
       "      <td>...</td>\n",
       "      <td>...</td>\n",
       "      <td>...</td>\n",
       "      <td>...</td>\n",
       "    </tr>\n",
       "    <tr>\n",
       "      <th>1045</th>\n",
       "      <td>2009</td>\n",
       "      <td>3</td>\n",
       "      <td>0</td>\n",
       "      <td>0</td>\n",
       "      <td>1</td>\n",
       "      <td>1</td>\n",
       "      <td>1</td>\n",
       "      <td>3</td>\n",
       "      <td>0</td>\n",
       "    </tr>\n",
       "    <tr>\n",
       "      <th>1046</th>\n",
       "      <td>2009</td>\n",
       "      <td>2333</td>\n",
       "      <td>0</td>\n",
       "      <td>18</td>\n",
       "      <td>84</td>\n",
       "      <td>1834</td>\n",
       "      <td>391</td>\n",
       "      <td>2333</td>\n",
       "      <td>6</td>\n",
       "    </tr>\n",
       "    <tr>\n",
       "      <th>1047</th>\n",
       "      <td>2010</td>\n",
       "      <td>2311</td>\n",
       "      <td>0</td>\n",
       "      <td>22</td>\n",
       "      <td>51</td>\n",
       "      <td>1779</td>\n",
       "      <td>459</td>\n",
       "      <td>2311</td>\n",
       "      <td>0</td>\n",
       "    </tr>\n",
       "    <tr>\n",
       "      <th>1048</th>\n",
       "      <td>2010</td>\n",
       "      <td>4</td>\n",
       "      <td>0</td>\n",
       "      <td>1</td>\n",
       "      <td>0</td>\n",
       "      <td>2</td>\n",
       "      <td>1</td>\n",
       "      <td>4</td>\n",
       "      <td>0</td>\n",
       "    </tr>\n",
       "    <tr>\n",
       "      <th>1049</th>\n",
       "      <td>2010</td>\n",
       "      <td>2307</td>\n",
       "      <td>0</td>\n",
       "      <td>21</td>\n",
       "      <td>51</td>\n",
       "      <td>1777</td>\n",
       "      <td>458</td>\n",
       "      <td>2307</td>\n",
       "      <td>0</td>\n",
       "    </tr>\n",
       "  </tbody>\n",
       "</table>\n",
       "<p>1050 rows × 9 columns</p>\n",
       "</div>"
      ],
      "text/plain": [
       "      Year  Cases_Reported  >50_Yrs  10-14_Yrs  14-18_Yrs  18-30_Yrs  \\\n",
       "0     2001               3        0          0          3          0   \n",
       "1     2001               1        0          0          1          0   \n",
       "2     2001               2        0          0          2          0   \n",
       "3     2002               2        0          0          1          1   \n",
       "4     2002               0        0          0          0          0   \n",
       "...    ...             ...      ...        ...        ...        ...   \n",
       "1045  2009               3        0          0          1          1   \n",
       "1046  2009            2333        0         18         84       1834   \n",
       "1047  2010            2311        0         22         51       1779   \n",
       "1048  2010               4        0          1          0          2   \n",
       "1049  2010            2307        0         21         51       1777   \n",
       "\n",
       "      30-50_Yrs  Rape_Total  Upto_10_Yrs  \n",
       "0             0           3            0  \n",
       "1             0           1            0  \n",
       "2             0           2            0  \n",
       "3             0           2            0  \n",
       "4             0           0            0  \n",
       "...         ...         ...          ...  \n",
       "1045          1           3            0  \n",
       "1046        391        2333            6  \n",
       "1047        459        2311            0  \n",
       "1048          1           4            0  \n",
       "1049        458        2307            0  \n",
       "\n",
       "[1050 rows x 9 columns]"
      ]
     },
     "execution_count": 15,
     "metadata": {},
     "output_type": "execute_result"
    }
   ],
   "source": [
    "df1"
   ]
  },
  {
   "cell_type": "code",
   "execution_count": 17,
   "metadata": {},
   "outputs": [
    {
     "data": {
      "text/plain": [
       "Year                 AxesSubplot(0.125,0.536818;0.110714x0.343182)\n",
       "Cases_Reported    AxesSubplot(0.257857,0.536818;0.110714x0.343182)\n",
       ">50_Yrs           AxesSubplot(0.390714,0.536818;0.110714x0.343182)\n",
       "10-14_Yrs         AxesSubplot(0.523571,0.536818;0.110714x0.343182)\n",
       "14-18_Yrs         AxesSubplot(0.656429,0.536818;0.110714x0.343182)\n",
       "18-30_Yrs         AxesSubplot(0.789286,0.536818;0.110714x0.343182)\n",
       "30-50_Yrs               AxesSubplot(0.125,0.125;0.110714x0.343182)\n",
       "Rape_Total           AxesSubplot(0.257857,0.125;0.110714x0.343182)\n",
       "Upto_10_Yrs          AxesSubplot(0.390714,0.125;0.110714x0.343182)\n",
       "dtype: object"
      ]
     },
     "execution_count": 17,
     "metadata": {},
     "output_type": "execute_result"
    },
    {
     "data": {
      "image/png": "[encoded data removed]",
      "text/plain": [
       "<Figure size 864x864 with 12 Axes>"
      ]
     },
     "metadata": {
      "needs_background": "light"
     },
     "output_type": "display_data"
    }
   ],
   "source": [
    "df.plot(kind='box',subplots=True,layout=(2,6),figsize=(12,12))"
   ]
  },
  {
   "cell_type": "code",
   "execution_count": 18,
   "metadata": {},
   "outputs": [
    {
     "name": "stdout",
     "output_type": "stream",
     "text": [
      "(array([ 108,  110,  111,  111,  113,  113,  117,  119,  141,  143,  180,\n",
      "        182,  192,  194,  195,  197,  204,  204,  206,  206,  207,  209,\n",
      "        285,  288,  290,  291,  293,  486,  488,  570,  570,  570,  570,\n",
      "        570,  570,  570,  572,  572,  572,  572,  572,  572,  572,  573,\n",
      "        573,  573,  573,  573,  573,  575,  575,  575,  575,  575,  576,\n",
      "        576,  576,  576,  576,  576,  578,  578,  578,  578,  578,  579,\n",
      "        579,  579,  579,  579,  579,  581,  581,  581,  581,  581,  581,\n",
      "        582,  582,  582,  582,  582,  582,  582,  582,  584,  584,  584,\n",
      "        584,  584,  584,  584,  584,  585,  585,  585,  585,  585,  587,\n",
      "        587,  587,  587,  587,  588,  588,  588,  588,  588,  588,  588,\n",
      "        590,  590,  590,  590,  590,  590,  590,  591,  591,  591,  591,\n",
      "        591,  591,  591,  591,  593,  593,  593,  593,  593,  593,  593,\n",
      "        594,  594,  594,  594,  594,  594,  594,  596,  596,  596,  596,\n",
      "        596,  596,  596,  597,  597,  597,  597,  597,  597,  599,  599,\n",
      "        599,  599,  599,  599,  600,  600,  602,  602,  606,  606,  608,\n",
      "        608,  609,  609,  611,  611,  612,  612,  614,  614,  615,  615,\n",
      "        617,  617,  618,  620,  621,  621,  623,  623,  624,  626,  627,\n",
      "        627,  629,  629,  852,  854,  867,  869,  960,  962,  981,  983,\n",
      "        984,  986, 1029, 1031, 1032, 1034, 1035, 1037, 1038, 1038, 1040,\n",
      "       1040, 1041, 1041, 1041, 1041, 1043, 1043, 1043, 1043, 1044, 1044,\n",
      "       1044, 1046, 1046, 1046, 1047, 1047, 1047, 1047, 1049, 1049, 1049,\n",
      "       1049], dtype=int64), array([6, 6, 2, 6, 2, 6, 6, 6, 2, 2, 3, 3, 2, 2, 2, 2, 3, 8, 3, 8, 2, 2,\n",
      "       8, 8, 8, 8, 8, 2, 2, 1, 2, 3, 4, 6, 7, 8, 1, 2, 3, 4, 6, 7, 8, 1,\n",
      "       3, 5, 6, 7, 8, 1, 5, 6, 7, 8, 1, 3, 4, 5, 6, 7, 1, 3, 5, 6, 7, 1,\n",
      "       3, 5, 6, 7, 8, 1, 3, 5, 6, 7, 8, 1, 2, 3, 4, 5, 6, 7, 8, 1, 2, 3,\n",
      "       4, 5, 6, 7, 8, 1, 4, 5, 6, 7, 1, 4, 5, 6, 7, 1, 2, 3, 4, 5, 6, 7,\n",
      "       1, 2, 3, 4, 5, 6, 7, 1, 2, 3, 4, 5, 6, 7, 8, 1, 2, 3, 4, 5, 6, 7,\n",
      "       1, 3, 4, 5, 6, 7, 8, 1, 3, 4, 5, 6, 7, 8, 1, 3, 4, 5, 6, 7, 1, 3,\n",
      "       4, 5, 6, 7, 4, 8, 4, 8, 4, 8, 4, 8, 4, 8, 4, 8, 4, 8, 4, 8, 4, 8,\n",
      "       4, 8, 8, 8, 4, 8, 4, 8, 8, 8, 4, 8, 4, 8, 2, 2, 2, 2, 4, 4, 4, 4,\n",
      "       3, 3, 6, 6, 5, 5, 5, 5, 5, 6, 5, 6, 1, 5, 6, 7, 1, 5, 6, 7, 1, 5,\n",
      "       7, 1, 5, 7, 1, 5, 6, 7, 1, 5, 6, 7], dtype=int64))\n"
     ]
    },
    {
     "data": {
      "text/html": [
       "<div>\n",
       "<style scoped>\n",
       "    .dataframe tbody tr th:only-of-type {\n",
       "        vertical-align: middle;\n",
       "    }\n",
       "\n",
       "    .dataframe tbody tr th {\n",
       "        vertical-align: top;\n",
       "    }\n",
       "\n",
       "    .dataframe thead th {\n",
       "        text-align: right;\n",
       "    }\n",
       "</style>\n",
       "<table border=\"1\" class=\"dataframe\">\n",
       "  <thead>\n",
       "    <tr style=\"text-align: right;\">\n",
       "      <th></th>\n",
       "      <th>Year</th>\n",
       "      <th>Cases_Reported</th>\n",
       "      <th>&gt;50_Yrs</th>\n",
       "      <th>10-14_Yrs</th>\n",
       "      <th>14-18_Yrs</th>\n",
       "      <th>18-30_Yrs</th>\n",
       "      <th>30-50_Yrs</th>\n",
       "      <th>Rape_Total</th>\n",
       "      <th>Upto_10_Yrs</th>\n",
       "    </tr>\n",
       "  </thead>\n",
       "  <tbody>\n",
       "    <tr>\n",
       "      <th>0</th>\n",
       "      <td>2001</td>\n",
       "      <td>3</td>\n",
       "      <td>0</td>\n",
       "      <td>0</td>\n",
       "      <td>3</td>\n",
       "      <td>0</td>\n",
       "      <td>0</td>\n",
       "      <td>3</td>\n",
       "      <td>0</td>\n",
       "    </tr>\n",
       "    <tr>\n",
       "      <th>1</th>\n",
       "      <td>2001</td>\n",
       "      <td>1</td>\n",
       "      <td>0</td>\n",
       "      <td>0</td>\n",
       "      <td>1</td>\n",
       "      <td>0</td>\n",
       "      <td>0</td>\n",
       "      <td>1</td>\n",
       "      <td>0</td>\n",
       "    </tr>\n",
       "    <tr>\n",
       "      <th>2</th>\n",
       "      <td>2001</td>\n",
       "      <td>2</td>\n",
       "      <td>0</td>\n",
       "      <td>0</td>\n",
       "      <td>2</td>\n",
       "      <td>0</td>\n",
       "      <td>0</td>\n",
       "      <td>2</td>\n",
       "      <td>0</td>\n",
       "    </tr>\n",
       "    <tr>\n",
       "      <th>3</th>\n",
       "      <td>2002</td>\n",
       "      <td>2</td>\n",
       "      <td>0</td>\n",
       "      <td>0</td>\n",
       "      <td>1</td>\n",
       "      <td>1</td>\n",
       "      <td>0</td>\n",
       "      <td>2</td>\n",
       "      <td>0</td>\n",
       "    </tr>\n",
       "    <tr>\n",
       "      <th>4</th>\n",
       "      <td>2002</td>\n",
       "      <td>0</td>\n",
       "      <td>0</td>\n",
       "      <td>0</td>\n",
       "      <td>0</td>\n",
       "      <td>0</td>\n",
       "      <td>0</td>\n",
       "      <td>0</td>\n",
       "      <td>0</td>\n",
       "    </tr>\n",
       "    <tr>\n",
       "      <th>...</th>\n",
       "      <td>...</td>\n",
       "      <td>...</td>\n",
       "      <td>...</td>\n",
       "      <td>...</td>\n",
       "      <td>...</td>\n",
       "      <td>...</td>\n",
       "      <td>...</td>\n",
       "      <td>...</td>\n",
       "      <td>...</td>\n",
       "    </tr>\n",
       "    <tr>\n",
       "      <th>1036</th>\n",
       "      <td>2006</td>\n",
       "      <td>6</td>\n",
       "      <td>0</td>\n",
       "      <td>0</td>\n",
       "      <td>0</td>\n",
       "      <td>6</td>\n",
       "      <td>0</td>\n",
       "      <td>6</td>\n",
       "      <td>0</td>\n",
       "    </tr>\n",
       "    <tr>\n",
       "      <th>1039</th>\n",
       "      <td>2007</td>\n",
       "      <td>114</td>\n",
       "      <td>0</td>\n",
       "      <td>2</td>\n",
       "      <td>3</td>\n",
       "      <td>81</td>\n",
       "      <td>25</td>\n",
       "      <td>114</td>\n",
       "      <td>3</td>\n",
       "    </tr>\n",
       "    <tr>\n",
       "      <th>1042</th>\n",
       "      <td>2008</td>\n",
       "      <td>9</td>\n",
       "      <td>0</td>\n",
       "      <td>2</td>\n",
       "      <td>1</td>\n",
       "      <td>1</td>\n",
       "      <td>0</td>\n",
       "      <td>9</td>\n",
       "      <td>5</td>\n",
       "    </tr>\n",
       "    <tr>\n",
       "      <th>1045</th>\n",
       "      <td>2009</td>\n",
       "      <td>3</td>\n",
       "      <td>0</td>\n",
       "      <td>0</td>\n",
       "      <td>1</td>\n",
       "      <td>1</td>\n",
       "      <td>1</td>\n",
       "      <td>3</td>\n",
       "      <td>0</td>\n",
       "    </tr>\n",
       "    <tr>\n",
       "      <th>1048</th>\n",
       "      <td>2010</td>\n",
       "      <td>4</td>\n",
       "      <td>0</td>\n",
       "      <td>1</td>\n",
       "      <td>0</td>\n",
       "      <td>2</td>\n",
       "      <td>1</td>\n",
       "      <td>4</td>\n",
       "      <td>0</td>\n",
       "    </tr>\n",
       "  </tbody>\n",
       "</table>\n",
       "<p>963 rows × 9 columns</p>\n",
       "</div>"
      ],
      "text/plain": [
       "      Year  Cases_Reported  >50_Yrs  10-14_Yrs  14-18_Yrs  18-30_Yrs  \\\n",
       "0     2001               3        0          0          3          0   \n",
       "1     2001               1        0          0          1          0   \n",
       "2     2001               2        0          0          2          0   \n",
       "3     2002               2        0          0          1          1   \n",
       "4     2002               0        0          0          0          0   \n",
       "...    ...             ...      ...        ...        ...        ...   \n",
       "1036  2006               6        0          0          0          6   \n",
       "1039  2007             114        0          2          3         81   \n",
       "1042  2008               9        0          2          1          1   \n",
       "1045  2009               3        0          0          1          1   \n",
       "1048  2010               4        0          1          0          2   \n",
       "\n",
       "      30-50_Yrs  Rape_Total  Upto_10_Yrs  \n",
       "0             0           3            0  \n",
       "1             0           1            0  \n",
       "2             0           2            0  \n",
       "3             0           2            0  \n",
       "4             0           0            0  \n",
       "...         ...         ...          ...  \n",
       "1036          0           6            0  \n",
       "1039         25         114            3  \n",
       "1042          0           9            5  \n",
       "1045          1           3            0  \n",
       "1048          1           4            0  \n",
       "\n",
       "[963 rows x 9 columns]"
      ]
     },
     "execution_count": 18,
     "metadata": {},
     "output_type": "execute_result"
    }
   ],
   "source": [
    "from scipy.stats import zscore\n",
    "z=np.abs(zscore(df1))\n",
    "threshold=3\n",
    "print(np.where(z>3))\n",
    "df_new=df1[(z<3).all(axis=1)]\n",
    "df_new"
   ]
  },
  {
   "cell_type": "code",
   "execution_count": 20,
   "metadata": {},
   "outputs": [
    {
     "data": {
      "text/plain": [
       "(963, 9)"
      ]
     },
     "execution_count": 20,
     "metadata": {},
     "output_type": "execute_result"
    }
   ],
   "source": [
    "df_new.shape"
   ]
  },
  {
   "cell_type": "code",
   "execution_count": 21,
   "metadata": {},
   "outputs": [
    {
     "data": {
      "text/plain": [
       "(1050, 11)"
      ]
     },
     "execution_count": 21,
     "metadata": {},
     "output_type": "execute_result"
    }
   ],
   "source": [
    "df.shape"
   ]
  },
  {
   "cell_type": "code",
   "execution_count": 22,
   "metadata": {},
   "outputs": [
    {
     "data": {
      "text/plain": [
       "Year              0.000000\n",
       "Cases_Reported    2.228595\n",
       ">50_Yrs           4.151161\n",
       "10-14_Yrs         3.554447\n",
       "14-18_Yrs         3.327417\n",
       "18-30_Yrs         2.089371\n",
       "30-50_Yrs         2.905033\n",
       "Rape_Total        2.226962\n",
       "Upto_10_Yrs       2.845238\n",
       "dtype: float64"
      ]
     },
     "execution_count": 22,
     "metadata": {},
     "output_type": "execute_result"
    }
   ],
   "source": [
    "df.skew()"
   ]
  },
  {
   "cell_type": "code",
   "execution_count": 56,
   "metadata": {},
   "outputs": [
    {
     "ename": "ValueError",
     "evalue": "The Box-Cox transformation can only be applied to strictly positive data",
     "output_type": "error",
     "traceback": [
      "\u001b[1;31m---------------------------------------------------------------------------\u001b[0m",
      "\u001b[1;31mValueError\u001b[0m                                Traceback (most recent call last)",
      "\u001b[1;32m<ipython-input-56-6c07e80fbdb6>\u001b[0m in \u001b[0;36m<module>\u001b[1;34m\u001b[0m\n\u001b[0;32m      2\u001b[0m \u001b[1;32mimport\u001b[0m \u001b[0mnumpy\u001b[0m \u001b[1;32mas\u001b[0m \u001b[0mnp\u001b[0m\u001b[1;33m\u001b[0m\u001b[1;33m\u001b[0m\u001b[0m\n\u001b[0;32m      3\u001b[0m \u001b[1;32mfrom\u001b[0m \u001b[0msklearn\u001b[0m\u001b[1;33m.\u001b[0m\u001b[0mpreprocessing\u001b[0m \u001b[1;32mimport\u001b[0m \u001b[0mpower_transform\u001b[0m\u001b[1;33m\u001b[0m\u001b[1;33m\u001b[0m\u001b[0m\n\u001b[1;32m----> 4\u001b[1;33m \u001b[0mpt\u001b[0m\u001b[1;33m=\u001b[0m\u001b[0mpower_transform\u001b[0m\u001b[1;33m(\u001b[0m\u001b[0mdf1\u001b[0m\u001b[1;33m,\u001b[0m\u001b[0mmethod\u001b[0m\u001b[1;33m=\u001b[0m\u001b[1;34m'box-cox'\u001b[0m\u001b[1;33m)\u001b[0m\u001b[1;33m\u001b[0m\u001b[1;33m\u001b[0m\u001b[0m\n\u001b[0m\u001b[0;32m      5\u001b[0m \u001b[0mnew\u001b[0m\u001b[1;33m=\u001b[0m\u001b[0mpd\u001b[0m\u001b[1;33m.\u001b[0m\u001b[0mDataFrame\u001b[0m\u001b[1;33m(\u001b[0m\u001b[0mpt\u001b[0m\u001b[1;33m,\u001b[0m\u001b[0mcolumns\u001b[0m\u001b[1;33m=\u001b[0m\u001b[0mdf1\u001b[0m\u001b[1;33m.\u001b[0m\u001b[0mcolumns\u001b[0m\u001b[1;33m)\u001b[0m\u001b[1;31m# converting into dataframe\u001b[0m\u001b[1;33m\u001b[0m\u001b[1;33m\u001b[0m\u001b[0m\n",
      "\u001b[1;32mC:\\ProgramData\\Anaconda3\\lib\\site-packages\\sklearn\\utils\\validation.py\u001b[0m in \u001b[0;36minner_f\u001b[1;34m(*args, **kwargs)\u001b[0m\n\u001b[0;32m     71\u001b[0m                           FutureWarning)\n\u001b[0;32m     72\u001b[0m         \u001b[0mkwargs\u001b[0m\u001b[1;33m.\u001b[0m\u001b[0mupdate\u001b[0m\u001b[1;33m(\u001b[0m\u001b[1;33m{\u001b[0m\u001b[0mk\u001b[0m\u001b[1;33m:\u001b[0m \u001b[0marg\u001b[0m \u001b[1;32mfor\u001b[0m \u001b[0mk\u001b[0m\u001b[1;33m,\u001b[0m \u001b[0marg\u001b[0m \u001b[1;32min\u001b[0m \u001b[0mzip\u001b[0m\u001b[1;33m(\u001b[0m\u001b[0msig\u001b[0m\u001b[1;33m.\u001b[0m\u001b[0mparameters\u001b[0m\u001b[1;33m,\u001b[0m \u001b[0margs\u001b[0m\u001b[1;33m)\u001b[0m\u001b[1;33m}\u001b[0m\u001b[1;33m)\u001b[0m\u001b[1;33m\u001b[0m\u001b[1;33m\u001b[0m\u001b[0m\n\u001b[1;32m---> 73\u001b[1;33m         \u001b[1;32mreturn\u001b[0m \u001b[0mf\u001b[0m\u001b[1;33m(\u001b[0m\u001b[1;33m**\u001b[0m\u001b[0mkwargs\u001b[0m\u001b[1;33m)\u001b[0m\u001b[1;33m\u001b[0m\u001b[1;33m\u001b[0m\u001b[0m\n\u001b[0m\u001b[0;32m     74\u001b[0m     \u001b[1;32mreturn\u001b[0m \u001b[0minner_f\u001b[0m\u001b[1;33m\u001b[0m\u001b[1;33m\u001b[0m\u001b[0m\n\u001b[0;32m     75\u001b[0m \u001b[1;33m\u001b[0m\u001b[0m\n",
      "\u001b[1;32mC:\\ProgramData\\Anaconda3\\lib\\site-packages\\sklearn\\preprocessing\\_data.py\u001b[0m in \u001b[0;36mpower_transform\u001b[1;34m(X, method, standardize, copy)\u001b[0m\n\u001b[0;32m   3136\u001b[0m     \"\"\"\n\u001b[0;32m   3137\u001b[0m     \u001b[0mpt\u001b[0m \u001b[1;33m=\u001b[0m \u001b[0mPowerTransformer\u001b[0m\u001b[1;33m(\u001b[0m\u001b[0mmethod\u001b[0m\u001b[1;33m=\u001b[0m\u001b[0mmethod\u001b[0m\u001b[1;33m,\u001b[0m \u001b[0mstandardize\u001b[0m\u001b[1;33m=\u001b[0m\u001b[0mstandardize\u001b[0m\u001b[1;33m,\u001b[0m \u001b[0mcopy\u001b[0m\u001b[1;33m=\u001b[0m\u001b[0mcopy\u001b[0m\u001b[1;33m)\u001b[0m\u001b[1;33m\u001b[0m\u001b[1;33m\u001b[0m\u001b[0m\n\u001b[1;32m-> 3138\u001b[1;33m     \u001b[1;32mreturn\u001b[0m \u001b[0mpt\u001b[0m\u001b[1;33m.\u001b[0m\u001b[0mfit_transform\u001b[0m\u001b[1;33m(\u001b[0m\u001b[0mX\u001b[0m\u001b[1;33m)\u001b[0m\u001b[1;33m\u001b[0m\u001b[1;33m\u001b[0m\u001b[0m\n\u001b[0m",
      "\u001b[1;32mC:\\ProgramData\\Anaconda3\\lib\\site-packages\\sklearn\\preprocessing\\_data.py\u001b[0m in \u001b[0;36mfit_transform\u001b[1;34m(self, X, y)\u001b[0m\n\u001b[0;32m   2806\u001b[0m \u001b[1;33m\u001b[0m\u001b[0m\n\u001b[0;32m   2807\u001b[0m     \u001b[1;32mdef\u001b[0m \u001b[0mfit_transform\u001b[0m\u001b[1;33m(\u001b[0m\u001b[0mself\u001b[0m\u001b[1;33m,\u001b[0m \u001b[0mX\u001b[0m\u001b[1;33m,\u001b[0m \u001b[0my\u001b[0m\u001b[1;33m=\u001b[0m\u001b[1;32mNone\u001b[0m\u001b[1;33m)\u001b[0m\u001b[1;33m:\u001b[0m\u001b[1;33m\u001b[0m\u001b[1;33m\u001b[0m\u001b[0m\n\u001b[1;32m-> 2808\u001b[1;33m         \u001b[1;32mreturn\u001b[0m \u001b[0mself\u001b[0m\u001b[1;33m.\u001b[0m\u001b[0m_fit\u001b[0m\u001b[1;33m(\u001b[0m\u001b[0mX\u001b[0m\u001b[1;33m,\u001b[0m \u001b[0my\u001b[0m\u001b[1;33m,\u001b[0m \u001b[0mforce_transform\u001b[0m\u001b[1;33m=\u001b[0m\u001b[1;32mTrue\u001b[0m\u001b[1;33m)\u001b[0m\u001b[1;33m\u001b[0m\u001b[1;33m\u001b[0m\u001b[0m\n\u001b[0m\u001b[0;32m   2809\u001b[0m \u001b[1;33m\u001b[0m\u001b[0m\n\u001b[0;32m   2810\u001b[0m     \u001b[1;32mdef\u001b[0m \u001b[0m_fit\u001b[0m\u001b[1;33m(\u001b[0m\u001b[0mself\u001b[0m\u001b[1;33m,\u001b[0m \u001b[0mX\u001b[0m\u001b[1;33m,\u001b[0m \u001b[0my\u001b[0m\u001b[1;33m=\u001b[0m\u001b[1;32mNone\u001b[0m\u001b[1;33m,\u001b[0m \u001b[0mforce_transform\u001b[0m\u001b[1;33m=\u001b[0m\u001b[1;32mFalse\u001b[0m\u001b[1;33m)\u001b[0m\u001b[1;33m:\u001b[0m\u001b[1;33m\u001b[0m\u001b[1;33m\u001b[0m\u001b[0m\n",
      "\u001b[1;32mC:\\ProgramData\\Anaconda3\\lib\\site-packages\\sklearn\\preprocessing\\_data.py\u001b[0m in \u001b[0;36m_fit\u001b[1;34m(self, X, y, force_transform)\u001b[0m\n\u001b[0;32m   2809\u001b[0m \u001b[1;33m\u001b[0m\u001b[0m\n\u001b[0;32m   2810\u001b[0m     \u001b[1;32mdef\u001b[0m \u001b[0m_fit\u001b[0m\u001b[1;33m(\u001b[0m\u001b[0mself\u001b[0m\u001b[1;33m,\u001b[0m \u001b[0mX\u001b[0m\u001b[1;33m,\u001b[0m \u001b[0my\u001b[0m\u001b[1;33m=\u001b[0m\u001b[1;32mNone\u001b[0m\u001b[1;33m,\u001b[0m \u001b[0mforce_transform\u001b[0m\u001b[1;33m=\u001b[0m\u001b[1;32mFalse\u001b[0m\u001b[1;33m)\u001b[0m\u001b[1;33m:\u001b[0m\u001b[1;33m\u001b[0m\u001b[1;33m\u001b[0m\u001b[0m\n\u001b[1;32m-> 2811\u001b[1;33m         X = self._check_input(X, in_fit=True, check_positive=True,\n\u001b[0m\u001b[0;32m   2812\u001b[0m                               check_method=True)\n\u001b[0;32m   2813\u001b[0m \u001b[1;33m\u001b[0m\u001b[0m\n",
      "\u001b[1;32mC:\\ProgramData\\Anaconda3\\lib\\site-packages\\sklearn\\preprocessing\\_data.py\u001b[0m in \u001b[0;36m_check_input\u001b[1;34m(self, X, in_fit, check_positive, check_shape, check_method)\u001b[0m\n\u001b[0;32m   3030\u001b[0m             if (check_positive and self.method == 'box-cox' and\n\u001b[0;32m   3031\u001b[0m                     np.nanmin(X) <= 0):\n\u001b[1;32m-> 3032\u001b[1;33m                 raise ValueError(\"The Box-Cox transformation can only be \"\n\u001b[0m\u001b[0;32m   3033\u001b[0m                                  \"applied to strictly positive data\")\n\u001b[0;32m   3034\u001b[0m \u001b[1;33m\u001b[0m\u001b[0m\n",
      "\u001b[1;31mValueError\u001b[0m: The Box-Cox transformation can only be applied to strictly positive data"
     ]
    }
   ],
   "source": [
    "# remove skewness(not able to apply boxcox and yeo transform)\n",
    "import numpy as np\n",
    "from sklearn.preprocessing import power_transform\n",
    "pt=power_transform(df1,method='box-cox')\n",
    "new=pd.DataFrame(pt,columns=df1.columns)# converting into dataframe"
   ]
  },
  {
   "cell_type": "code",
   "execution_count": 25,
   "metadata": {},
   "outputs": [
    {
     "data": {
      "text/plain": [
       "Year              0.000000\n",
       "Cases_Reported    2.228595\n",
       ">50_Yrs           4.151161\n",
       "10-14_Yrs         3.554447\n",
       "14-18_Yrs         3.327417\n",
       "18-30_Yrs         2.089371\n",
       "30-50_Yrs         2.905033\n",
       "Rape_Total        2.226962\n",
       "Upto_10_Yrs       2.845238\n",
       "dtype: float64"
      ]
     },
     "execution_count": 25,
     "metadata": {},
     "output_type": "execute_result"
    }
   ],
   "source": [
    "df1.skew()"
   ]
  },
  {
   "cell_type": "code",
   "execution_count": 26,
   "metadata": {},
   "outputs": [
    {
     "data": {
      "text/plain": [
       "<matplotlib.axes._subplots.AxesSubplot at 0x1aaa7a0c6d0>"
      ]
     },
     "execution_count": 26,
     "metadata": {},
     "output_type": "execute_result"
    },
    {
     "data": {
      "image/png": "[encoded data removed]",
      "text/plain": [
       "<Figure size 432x288 with 1 Axes>"
      ]
     },
     "metadata": {
      "needs_background": "light"
     },
     "output_type": "display_data"
    }
   ],
   "source": [
    "sns.barplot(x=\"Year\",y=\"Cases_Reported\",data=df)"
   ]
  },
  {
   "cell_type": "code",
   "execution_count": 29,
   "metadata": {},
   "outputs": [
    {
     "data": {
      "text/plain": [
       "<matplotlib.axes._subplots.AxesSubplot at 0x1aaa83de8e0>"
      ]
     },
     "execution_count": 29,
     "metadata": {},
     "output_type": "execute_result"
    },
    {
     "data": {
      "image/png": "[encoded data removed]",
      "text/plain": [
       "<Figure size 432x288 with 1 Axes>"
      ]
     },
     "metadata": {
      "needs_background": "light"
     },
     "output_type": "display_data"
    }
   ],
   "source": [
    "sns.barplot(x=\"Year\",y=\"10-14_Yrs\",data=df)"
   ]
  },
  {
   "cell_type": "code",
   "execution_count": 30,
   "metadata": {},
   "outputs": [
    {
     "data": {
      "text/plain": [
       "<matplotlib.axes._subplots.AxesSubplot at 0x1aaa846edf0>"
      ]
     },
     "execution_count": 30,
     "metadata": {},
     "output_type": "execute_result"
    },
    {
     "data": {
      "image/png": "[encoded data removed]",
      "text/plain": [
       "<Figure size 432x288 with 1 Axes>"
      ]
     },
     "metadata": {
      "needs_background": "light"
     },
     "output_type": "display_data"
    }
   ],
   "source": [
    "sns.barplot(x=\"Year\",y=\"14-18_Yrs\",data=df)"
   ]
  },
  {
   "cell_type": "code",
   "execution_count": 31,
   "metadata": {},
   "outputs": [
    {
     "data": {
      "text/plain": [
       "<matplotlib.axes._subplots.AxesSubplot at 0x1aaa84fb040>"
      ]
     },
     "execution_count": 31,
     "metadata": {},
     "output_type": "execute_result"
    },
    {
     "data": {
      "image/png": "[encoded data removed]",
      "text/plain": [
       "<Figure size 432x288 with 1 Axes>"
      ]
     },
     "metadata": {
      "needs_background": "light"
     },
     "output_type": "display_data"
    }
   ],
   "source": [
    "sns.barplot(x=\"Year\",y=\"18-30_Yrs\",data=df)"
   ]
  },
  {
   "cell_type": "code",
   "execution_count": 32,
   "metadata": {},
   "outputs": [
    {
     "data": {
      "text/plain": [
       "<matplotlib.axes._subplots.AxesSubplot at 0x1aaa855dfd0>"
      ]
     },
     "execution_count": 32,
     "metadata": {},
     "output_type": "execute_result"
    },
    {
     "data": {
      "image/png": "[encoded data removed]",
      "text/plain": [
       "<Figure size 432x288 with 1 Axes>"
      ]
     },
     "metadata": {
      "needs_background": "light"
     },
     "output_type": "display_data"
    }
   ],
   "source": [
    "sns.barplot(x=\"Year\",y=\"30-50_Yrs\",data=df)"
   ]
  },
  {
   "cell_type": "code",
   "execution_count": 48,
   "metadata": {},
   "outputs": [
    {
     "data": {
      "text/plain": [
       "array([[<matplotlib.axes._subplots.AxesSubplot object at 0x000001AAA86194F0>,\n",
       "        <matplotlib.axes._subplots.AxesSubplot object at 0x000001AAA865FF40>,\n",
       "        <matplotlib.axes._subplots.AxesSubplot object at 0x000001AAA8D213D0>],\n",
       "       [<matplotlib.axes._subplots.AxesSubplot object at 0x000001AAA8D4F820>,\n",
       "        <matplotlib.axes._subplots.AxesSubplot object at 0x000001AAA8D7CC70>,\n",
       "        <matplotlib.axes._subplots.AxesSubplot object at 0x000001AAA8DA7160>],\n",
       "       [<matplotlib.axes._subplots.AxesSubplot object at 0x000001AAA8DB3130>,\n",
       "        <matplotlib.axes._subplots.AxesSubplot object at 0x000001AAA8DDAA00>,\n",
       "        <matplotlib.axes._subplots.AxesSubplot object at 0x000001AAA8E398B0>]],\n",
       "      dtype=object)"
      ]
     },
     "execution_count": 48,
     "metadata": {},
     "output_type": "execute_result"
    },
    {
     "data": {
      "image/png": "[encoded data removed]",
      "text/plain": [
       "<Figure size 720x720 with 9 Axes>"
      ]
     },
     "metadata": {
      "needs_background": "light"
     },
     "output_type": "display_data"
    }
   ],
   "source": [
    "df.hist(figsize=(10,10))"
   ]
  },
  {
   "cell_type": "code",
   "execution_count": 50,
   "metadata": {},
   "outputs": [
    {
     "data": {
      "text/plain": [
       "<matplotlib.axes._subplots.AxesSubplot at 0x1aaa7f9df10>"
      ]
     },
     "execution_count": 50,
     "metadata": {},
     "output_type": "execute_result"
    },
    {
     "data": {
      "image/png": "[encoded data removed]",
      "text/plain": [
       "<Figure size 432x288 with 1 Axes>"
      ]
     },
     "metadata": {
      "needs_background": "light"
     },
     "output_type": "display_data"
    }
   ],
   "source": [
    "sns.barplot(x=\"Subgroup\",y=\"Cases_Reported\",data=df)"
   ]
  },
  {
   "cell_type": "code",
   "execution_count": 51,
   "metadata": {},
   "outputs": [
    {
     "data": {
      "text/plain": [
       "<matplotlib.axes._subplots.AxesSubplot at 0x1aaaa138c70>"
      ]
     },
     "execution_count": 51,
     "metadata": {},
     "output_type": "execute_result"
    },
    {
     "data": {
      "image/png": "[encoded data removed]",
      "text/plain": [
       "<Figure size 432x288 with 1 Axes>"
      ]
     },
     "metadata": {
      "needs_background": "light"
     },
     "output_type": "display_data"
    }
   ],
   "source": [
    "sns.barplot(x=\"Subgroup\",y=\">50_Yrs\",data=df)"
   ]
  },
  {
   "cell_type": "code",
   "execution_count": 53,
   "metadata": {},
   "outputs": [
    {
     "data": {
      "text/plain": [
       "<matplotlib.axes._subplots.AxesSubplot at 0x1aaaa18d5e0>"
      ]
     },
     "execution_count": 53,
     "metadata": {},
     "output_type": "execute_result"
    },
    {
     "data": {
      "image/png": "[encoded data removed]",
      "text/plain": [
       "<Figure size 432x288 with 1 Axes>"
      ]
     },
     "metadata": {
      "needs_background": "light"
     },
     "output_type": "display_data"
    }
   ],
   "source": [
    "sns.barplot(x=\"Subgroup\",y=\"10-14_Yrs\",data=df)"
   ]
  },
  {
   "cell_type": "code",
   "execution_count": 33,
   "metadata": {},
   "outputs": [],
   "source": [
    "df2=df1.drop(['Cases_Reported'],axis=1)"
   ]
  },
  {
   "cell_type": "code",
   "execution_count": 34,
   "metadata": {},
   "outputs": [
    {
     "data": {
      "text/html": [
       "<div>\n",
       "<style scoped>\n",
       "    .dataframe tbody tr th:only-of-type {\n",
       "        vertical-align: middle;\n",
       "    }\n",
       "\n",
       "    .dataframe tbody tr th {\n",
       "        vertical-align: top;\n",
       "    }\n",
       "\n",
       "    .dataframe thead th {\n",
       "        text-align: right;\n",
       "    }\n",
       "</style>\n",
       "<table border=\"1\" class=\"dataframe\">\n",
       "  <thead>\n",
       "    <tr style=\"text-align: right;\">\n",
       "      <th></th>\n",
       "      <th>Year</th>\n",
       "      <th>&gt;50_Yrs</th>\n",
       "      <th>10-14_Yrs</th>\n",
       "      <th>14-18_Yrs</th>\n",
       "      <th>18-30_Yrs</th>\n",
       "      <th>30-50_Yrs</th>\n",
       "      <th>Rape_Total</th>\n",
       "      <th>Upto_10_Yrs</th>\n",
       "    </tr>\n",
       "  </thead>\n",
       "  <tbody>\n",
       "    <tr>\n",
       "      <th>0</th>\n",
       "      <td>2001</td>\n",
       "      <td>0</td>\n",
       "      <td>0</td>\n",
       "      <td>3</td>\n",
       "      <td>0</td>\n",
       "      <td>0</td>\n",
       "      <td>3</td>\n",
       "      <td>0</td>\n",
       "    </tr>\n",
       "    <tr>\n",
       "      <th>1</th>\n",
       "      <td>2001</td>\n",
       "      <td>0</td>\n",
       "      <td>0</td>\n",
       "      <td>1</td>\n",
       "      <td>0</td>\n",
       "      <td>0</td>\n",
       "      <td>1</td>\n",
       "      <td>0</td>\n",
       "    </tr>\n",
       "    <tr>\n",
       "      <th>2</th>\n",
       "      <td>2001</td>\n",
       "      <td>0</td>\n",
       "      <td>0</td>\n",
       "      <td>2</td>\n",
       "      <td>0</td>\n",
       "      <td>0</td>\n",
       "      <td>2</td>\n",
       "      <td>0</td>\n",
       "    </tr>\n",
       "    <tr>\n",
       "      <th>3</th>\n",
       "      <td>2002</td>\n",
       "      <td>0</td>\n",
       "      <td>0</td>\n",
       "      <td>1</td>\n",
       "      <td>1</td>\n",
       "      <td>0</td>\n",
       "      <td>2</td>\n",
       "      <td>0</td>\n",
       "    </tr>\n",
       "    <tr>\n",
       "      <th>4</th>\n",
       "      <td>2002</td>\n",
       "      <td>0</td>\n",
       "      <td>0</td>\n",
       "      <td>0</td>\n",
       "      <td>0</td>\n",
       "      <td>0</td>\n",
       "      <td>0</td>\n",
       "      <td>0</td>\n",
       "    </tr>\n",
       "    <tr>\n",
       "      <th>...</th>\n",
       "      <td>...</td>\n",
       "      <td>...</td>\n",
       "      <td>...</td>\n",
       "      <td>...</td>\n",
       "      <td>...</td>\n",
       "      <td>...</td>\n",
       "      <td>...</td>\n",
       "      <td>...</td>\n",
       "    </tr>\n",
       "    <tr>\n",
       "      <th>1045</th>\n",
       "      <td>2009</td>\n",
       "      <td>0</td>\n",
       "      <td>0</td>\n",
       "      <td>1</td>\n",
       "      <td>1</td>\n",
       "      <td>1</td>\n",
       "      <td>3</td>\n",
       "      <td>0</td>\n",
       "    </tr>\n",
       "    <tr>\n",
       "      <th>1046</th>\n",
       "      <td>2009</td>\n",
       "      <td>0</td>\n",
       "      <td>18</td>\n",
       "      <td>84</td>\n",
       "      <td>1834</td>\n",
       "      <td>391</td>\n",
       "      <td>2333</td>\n",
       "      <td>6</td>\n",
       "    </tr>\n",
       "    <tr>\n",
       "      <th>1047</th>\n",
       "      <td>2010</td>\n",
       "      <td>0</td>\n",
       "      <td>22</td>\n",
       "      <td>51</td>\n",
       "      <td>1779</td>\n",
       "      <td>459</td>\n",
       "      <td>2311</td>\n",
       "      <td>0</td>\n",
       "    </tr>\n",
       "    <tr>\n",
       "      <th>1048</th>\n",
       "      <td>2010</td>\n",
       "      <td>0</td>\n",
       "      <td>1</td>\n",
       "      <td>0</td>\n",
       "      <td>2</td>\n",
       "      <td>1</td>\n",
       "      <td>4</td>\n",
       "      <td>0</td>\n",
       "    </tr>\n",
       "    <tr>\n",
       "      <th>1049</th>\n",
       "      <td>2010</td>\n",
       "      <td>0</td>\n",
       "      <td>21</td>\n",
       "      <td>51</td>\n",
       "      <td>1777</td>\n",
       "      <td>458</td>\n",
       "      <td>2307</td>\n",
       "      <td>0</td>\n",
       "    </tr>\n",
       "  </tbody>\n",
       "</table>\n",
       "<p>1050 rows × 8 columns</p>\n",
       "</div>"
      ],
      "text/plain": [
       "      Year  >50_Yrs  10-14_Yrs  14-18_Yrs  18-30_Yrs  30-50_Yrs  Rape_Total  \\\n",
       "0     2001        0          0          3          0          0           3   \n",
       "1     2001        0          0          1          0          0           1   \n",
       "2     2001        0          0          2          0          0           2   \n",
       "3     2002        0          0          1          1          0           2   \n",
       "4     2002        0          0          0          0          0           0   \n",
       "...    ...      ...        ...        ...        ...        ...         ...   \n",
       "1045  2009        0          0          1          1          1           3   \n",
       "1046  2009        0         18         84       1834        391        2333   \n",
       "1047  2010        0         22         51       1779        459        2311   \n",
       "1048  2010        0          1          0          2          1           4   \n",
       "1049  2010        0         21         51       1777        458        2307   \n",
       "\n",
       "      Upto_10_Yrs  \n",
       "0               0  \n",
       "1               0  \n",
       "2               0  \n",
       "3               0  \n",
       "4               0  \n",
       "...           ...  \n",
       "1045            0  \n",
       "1046            6  \n",
       "1047            0  \n",
       "1048            0  \n",
       "1049            0  \n",
       "\n",
       "[1050 rows x 8 columns]"
      ]
     },
     "execution_count": 34,
     "metadata": {},
     "output_type": "execute_result"
    }
   ],
   "source": [
    "df2"
   ]
  },
  {
   "cell_type": "code",
   "execution_count": 35,
   "metadata": {},
   "outputs": [
    {
     "data": {
      "text/html": [
       "<div>\n",
       "<style scoped>\n",
       "    .dataframe tbody tr th:only-of-type {\n",
       "        vertical-align: middle;\n",
       "    }\n",
       "\n",
       "    .dataframe tbody tr th {\n",
       "        vertical-align: top;\n",
       "    }\n",
       "\n",
       "    .dataframe thead th {\n",
       "        text-align: right;\n",
       "    }\n",
       "</style>\n",
       "<table border=\"1\" class=\"dataframe\">\n",
       "  <thead>\n",
       "    <tr style=\"text-align: right;\">\n",
       "      <th></th>\n",
       "      <th>Year</th>\n",
       "      <th>&gt;50_Yrs</th>\n",
       "      <th>10-14_Yrs</th>\n",
       "      <th>14-18_Yrs</th>\n",
       "      <th>18-30_Yrs</th>\n",
       "      <th>30-50_Yrs</th>\n",
       "      <th>Rape_Total</th>\n",
       "      <th>Upto_10_Yrs</th>\n",
       "    </tr>\n",
       "  </thead>\n",
       "  <tbody>\n",
       "    <tr>\n",
       "      <th>0</th>\n",
       "      <td>2001</td>\n",
       "      <td>0</td>\n",
       "      <td>0</td>\n",
       "      <td>3</td>\n",
       "      <td>0</td>\n",
       "      <td>0</td>\n",
       "      <td>3</td>\n",
       "      <td>0</td>\n",
       "    </tr>\n",
       "    <tr>\n",
       "      <th>1</th>\n",
       "      <td>2001</td>\n",
       "      <td>0</td>\n",
       "      <td>0</td>\n",
       "      <td>1</td>\n",
       "      <td>0</td>\n",
       "      <td>0</td>\n",
       "      <td>1</td>\n",
       "      <td>0</td>\n",
       "    </tr>\n",
       "    <tr>\n",
       "      <th>2</th>\n",
       "      <td>2001</td>\n",
       "      <td>0</td>\n",
       "      <td>0</td>\n",
       "      <td>2</td>\n",
       "      <td>0</td>\n",
       "      <td>0</td>\n",
       "      <td>2</td>\n",
       "      <td>0</td>\n",
       "    </tr>\n",
       "    <tr>\n",
       "      <th>3</th>\n",
       "      <td>2002</td>\n",
       "      <td>0</td>\n",
       "      <td>0</td>\n",
       "      <td>1</td>\n",
       "      <td>1</td>\n",
       "      <td>0</td>\n",
       "      <td>2</td>\n",
       "      <td>0</td>\n",
       "    </tr>\n",
       "    <tr>\n",
       "      <th>4</th>\n",
       "      <td>2002</td>\n",
       "      <td>0</td>\n",
       "      <td>0</td>\n",
       "      <td>0</td>\n",
       "      <td>0</td>\n",
       "      <td>0</td>\n",
       "      <td>0</td>\n",
       "      <td>0</td>\n",
       "    </tr>\n",
       "    <tr>\n",
       "      <th>...</th>\n",
       "      <td>...</td>\n",
       "      <td>...</td>\n",
       "      <td>...</td>\n",
       "      <td>...</td>\n",
       "      <td>...</td>\n",
       "      <td>...</td>\n",
       "      <td>...</td>\n",
       "      <td>...</td>\n",
       "    </tr>\n",
       "    <tr>\n",
       "      <th>1045</th>\n",
       "      <td>2009</td>\n",
       "      <td>0</td>\n",
       "      <td>0</td>\n",
       "      <td>1</td>\n",
       "      <td>1</td>\n",
       "      <td>1</td>\n",
       "      <td>3</td>\n",
       "      <td>0</td>\n",
       "    </tr>\n",
       "    <tr>\n",
       "      <th>1046</th>\n",
       "      <td>2009</td>\n",
       "      <td>0</td>\n",
       "      <td>18</td>\n",
       "      <td>84</td>\n",
       "      <td>1834</td>\n",
       "      <td>391</td>\n",
       "      <td>2333</td>\n",
       "      <td>6</td>\n",
       "    </tr>\n",
       "    <tr>\n",
       "      <th>1047</th>\n",
       "      <td>2010</td>\n",
       "      <td>0</td>\n",
       "      <td>22</td>\n",
       "      <td>51</td>\n",
       "      <td>1779</td>\n",
       "      <td>459</td>\n",
       "      <td>2311</td>\n",
       "      <td>0</td>\n",
       "    </tr>\n",
       "    <tr>\n",
       "      <th>1048</th>\n",
       "      <td>2010</td>\n",
       "      <td>0</td>\n",
       "      <td>1</td>\n",
       "      <td>0</td>\n",
       "      <td>2</td>\n",
       "      <td>1</td>\n",
       "      <td>4</td>\n",
       "      <td>0</td>\n",
       "    </tr>\n",
       "    <tr>\n",
       "      <th>1049</th>\n",
       "      <td>2010</td>\n",
       "      <td>0</td>\n",
       "      <td>21</td>\n",
       "      <td>51</td>\n",
       "      <td>1777</td>\n",
       "      <td>458</td>\n",
       "      <td>2307</td>\n",
       "      <td>0</td>\n",
       "    </tr>\n",
       "  </tbody>\n",
       "</table>\n",
       "<p>1050 rows × 8 columns</p>\n",
       "</div>"
      ],
      "text/plain": [
       "      Year  >50_Yrs  10-14_Yrs  14-18_Yrs  18-30_Yrs  30-50_Yrs  Rape_Total  \\\n",
       "0     2001        0          0          3          0          0           3   \n",
       "1     2001        0          0          1          0          0           1   \n",
       "2     2001        0          0          2          0          0           2   \n",
       "3     2002        0          0          1          1          0           2   \n",
       "4     2002        0          0          0          0          0           0   \n",
       "...    ...      ...        ...        ...        ...        ...         ...   \n",
       "1045  2009        0          0          1          1          1           3   \n",
       "1046  2009        0         18         84       1834        391        2333   \n",
       "1047  2010        0         22         51       1779        459        2311   \n",
       "1048  2010        0          1          0          2          1           4   \n",
       "1049  2010        0         21         51       1777        458        2307   \n",
       "\n",
       "      Upto_10_Yrs  \n",
       "0               0  \n",
       "1               0  \n",
       "2               0  \n",
       "3               0  \n",
       "4               0  \n",
       "...           ...  \n",
       "1045            0  \n",
       "1046            6  \n",
       "1047            0  \n",
       "1048            0  \n",
       "1049            0  \n",
       "\n",
       "[1050 rows x 8 columns]"
      ]
     },
     "execution_count": 35,
     "metadata": {},
     "output_type": "execute_result"
    }
   ],
   "source": [
    "x=df2.iloc[ :,:]\n",
    "x"
   ]
  },
  {
   "cell_type": "code",
   "execution_count": 36,
   "metadata": {},
   "outputs": [
    {
     "data": {
      "text/plain": [
       "0          3\n",
       "1          1\n",
       "2          2\n",
       "3          2\n",
       "4          0\n",
       "        ... \n",
       "1045       3\n",
       "1046    2333\n",
       "1047    2311\n",
       "1048       4\n",
       "1049    2307\n",
       "Name: Cases_Reported, Length: 1050, dtype: int64"
      ]
     },
     "execution_count": 36,
     "metadata": {},
     "output_type": "execute_result"
    }
   ],
   "source": [
    "y=df.iloc[ :,3]\n",
    "y"
   ]
  },
  {
   "cell_type": "code",
   "execution_count": 37,
   "metadata": {},
   "outputs": [],
   "source": [
    "x_train,x_test,y_train,y_test=train_test_split(x,y,test_size=0.30,random_state=42)"
   ]
  },
  {
   "cell_type": "code",
   "execution_count": 38,
   "metadata": {},
   "outputs": [
    {
     "data": {
      "text/plain": [
       "LinearRegression()"
      ]
     },
     "execution_count": 38,
     "metadata": {},
     "output_type": "execute_result"
    }
   ],
   "source": [
    "lm=LinearRegression()\n",
    "lm.fit(x_train,y_train)"
   ]
  },
  {
   "cell_type": "code",
   "execution_count": 39,
   "metadata": {},
   "outputs": [
    {
     "data": {
      "text/plain": [
       "array([-0.01977634,  0.15182077,  0.17275475,  0.14811325,  0.15051361,\n",
       "        0.15069908,  0.84967246,  0.07577101])"
      ]
     },
     "execution_count": 39,
     "metadata": {},
     "output_type": "execute_result"
    }
   ],
   "source": [
    "lm.coef_"
   ]
  },
  {
   "cell_type": "code",
   "execution_count": 40,
   "metadata": {},
   "outputs": [
    {
     "data": {
      "text/plain": [
       "39.696063361613994"
      ]
     },
     "execution_count": 40,
     "metadata": {},
     "output_type": "execute_result"
    }
   ],
   "source": [
    "lm.intercept_"
   ]
  },
  {
   "cell_type": "code",
   "execution_count": 41,
   "metadata": {},
   "outputs": [
    {
     "data": {
      "text/plain": [
       "0.9999972576397498"
      ]
     },
     "execution_count": 41,
     "metadata": {},
     "output_type": "execute_result"
    }
   ],
   "source": [
    "lm.score(x_train,y_train)"
   ]
  },
  {
   "cell_type": "code",
   "execution_count": 42,
   "metadata": {},
   "outputs": [],
   "source": [
    "pred=lm.predict(x_test)"
   ]
  },
  {
   "cell_type": "code",
   "execution_count": 43,
   "metadata": {},
   "outputs": [
    {
     "name": "stdout",
     "output_type": "stream",
     "text": [
      "predict result [ 4.00335536e+00  1.41265583e+02  2.88130279e+02  1.49686207e+01\n",
      "  4.16883162e+00 -1.48293324e-02  9.81908162e+02  1.89131661e+02\n",
      "  1.23203520e+03  8.26722113e+01  4.44996905e-02  7.31820967e+01\n",
      "  1.69483406e+01  2.19706006e+01  1.92132219e+02  1.03828713e-01\n",
      "  1.46600673e+03  2.92153264e+02  1.88215976e+01  1.89785929e+01\n",
      "  1.03828713e-01  3.20113905e+01  9.85542204e-01  5.17851520e+02\n",
      "  2.85080211e+03  1.36228333e+03  5.80108923e+02  6.42760315e-02\n",
      "  3.04348509e+02  6.32179558e+01  1.30234091e+03  1.22886511e+02\n",
      "  2.83436939e+02  1.02490942e+00  1.15582863e+03  1.48946200e+01\n",
      "  6.42760315e-02  3.18228893e+01  1.76305074e+03  3.00262237e+01\n",
      "  4.94700858e-03  6.42760315e-02  7.31820967e+01  3.74784696e+01\n",
      "  2.47233496e-02  9.91044492e+02  5.89444811e+01  6.98309982e+02\n",
      "  3.96878887e+00  5.31315136e+02  3.04524336e+00  3.66178333e+01\n",
      "  1.79885199e+01  6.14462669e+00  1.23767217e+02  3.59069596e+01\n",
      "  6.99664803e+00  6.30162971e+01  2.07990196e+01  1.39501669e+03\n",
      "  1.98440248e+01  2.09081938e+02  3.96613859e+02  1.34980736e+03\n",
      "  6.42760315e-02  2.33168938e+01  4.13174374e+00  8.40523725e-02\n",
      " -5.43820144e-02  2.47233496e-02  1.80719062e+01  5.15771049e+02\n",
      "  3.65994542e+02  5.13282381e+02  2.91951603e+03  2.67213609e+02\n",
      "  1.91072075e+02  6.11752037e+00  1.09909721e+02  1.41167374e+01\n",
      " -5.43820144e-02  4.08523203e+00  3.13347948e+02  1.08423844e+00\n",
      "  1.55649274e+02  2.10980190e+01  2.37030929e+02  3.88419492e+00\n",
      "  4.04967117e+00  1.09545114e+03  4.79400629e+01  4.44996905e-02\n",
      "  7.02159603e+00  2.09873630e+01  4.79401914e+02  5.46007999e+02\n",
      "  1.68238060e+01 -5.43820144e-02  1.00513307e+00  7.05473085e+02\n",
      "  1.01500945e+03  8.69518066e+02  2.10426529e+00  1.21085882e+01\n",
      "  1.18837681e+03  1.19930276e+01  1.41032328e+02  1.43129256e+03\n",
      "  1.00273272e+00  4.89200492e+02  9.09982579e+02  4.94700858e-03\n",
      "  2.10180049e+00  3.73837232e+02  3.07068308e+01  1.03828713e-01\n",
      "  9.59170150e+02  7.68251991e+02  2.47233496e-02  9.87102252e+02\n",
      "  1.12625593e+00  3.20710885e+02  1.50707636e+03  8.40523725e-02\n",
      "  2.89004880e+01  4.54974038e+02 -5.43820144e-02 -3.46056734e-02\n",
      "  3.81046255e+01  4.05541886e+00 -1.48293324e-02  1.50672525e+01\n",
      "  2.33322226e+03  4.83782179e+02  1.50188896e+03 -5.43820144e-02\n",
      "  1.08125779e+02  3.70195035e+01  2.04980144e+00  8.00188474e+00\n",
      "  2.18472918e+01  3.09671969e+01  2.47233496e-02  8.40523725e-02\n",
      "  1.50565831e+01  4.04044324e+00  5.68895209e+02  1.00273272e+00\n",
      "  1.76497397e+03  1.48283834e+03  2.73814957e+03  1.00403681e+01\n",
      "  2.58654936e+01  5.81565819e+02  3.00262237e+01  1.95427776e+01\n",
      "  5.48425396e+02  5.20627535e+01  9.30390478e-01  5.12124350e+02\n",
      "  4.97668524e+02  2.89940806e+03  2.11917647e+00  3.98856521e+00\n",
      "  2.89127438e+00  3.98636472e+02  1.23605054e-01  3.57335610e+01\n",
      "  8.40523725e-02  1.23828691e+03  2.10357161e+01  1.60721827e+01\n",
      "  1.20876892e+02  1.40698895e+02  2.88416861e+03  2.87052695e+03\n",
      "  3.18228893e+01  1.13843849e+02  8.90578493e+01  6.00372749e+00\n",
      "  1.56110671e+03  2.01501292e+01  2.10154939e+01  8.04131640e+00\n",
      "  4.55996466e+02  1.88961547e+01  1.20942360e+01  4.99021952e+01\n",
      "  1.96096574e+00  8.88093208e+02  2.00615382e+01 -3.46056734e-02\n",
      "  3.49331892e+01  7.09030381e+02  9.16846306e+02  4.47860469e+02\n",
      "  1.94118940e+00  8.40523725e-02  2.35127434e+02  3.73409190e+02\n",
      "  1.23605054e-01  1.02052094e+02  1.95774379e+03  1.69594132e+02\n",
      "  6.30771094e+02  1.03828713e-01  6.20941088e+02  2.45005916e+02\n",
      "  3.47871354e+01  9.90638986e+02  4.44996905e-02  6.02855447e+00\n",
      "  4.89790724e+00  2.01010359e+02  1.40864905e+03  3.31280868e+01\n",
      "  1.56043750e+03  6.89523619e+02  8.09730954e+02  2.11627642e+01\n",
      "  7.52927959e+02  3.98692176e+01  2.47233496e-02  7.73120792e+02\n",
      "  2.83369502e+02  1.14107490e+02  6.42760315e-02  6.32977750e+02\n",
      "  1.79316531e+01  3.96746658e+02  1.98215982e+01  1.97820455e+01\n",
      "  8.10375340e+01  4.84180250e+02  9.55123272e+02  7.97988972e+01\n",
      "  1.43628678e+03  4.91093581e+02  5.98198922e+02  7.33852329e+01\n",
      "  7.11549155e+00  1.59697197e+02  1.79928826e+01  3.70956750e+01\n",
      "  2.47233496e-02  8.00416407e+00  8.40523725e-02  1.78816901e+01\n",
      "  9.00022980e+02  4.04967117e+00  1.99174164e+01  1.61337964e+01\n",
      "  3.96330028e+00  5.66627083e+02  2.07385214e+01  6.02300143e+00\n",
      "  1.22527441e+03  1.20910267e+01  2.93897511e+00  4.66694869e+02\n",
      "  3.11661568e+03  2.81140366e+03  2.37942207e+01  1.88348528e+01\n",
      "  4.92829643e+00  1.06206174e+00  4.93366400e+00  1.05109093e+03\n",
      "  3.23279522e+02  1.32874799e+03  2.77779466e+01  3.81046255e+01\n",
      "  1.97449199e+00  2.03807178e+01  2.06729844e+00  2.79429063e+00\n",
      "  9.39352920e+02  7.06576396e+00 -3.46056734e-02  2.17958713e+02\n",
      "  1.10420025e+00  2.88163727e+02  3.01065722e+03  1.21571680e+03\n",
      "  1.06206174e+00  2.61518074e+03  1.93076202e+00  4.21227760e+01\n",
      "  1.01066167e+01  1.00111833e+03  2.38480915e+01  4.94700858e-03\n",
      "  9.75040219e+02  8.92707829e+00  1.41196174e+03  3.07950755e+02\n",
      "  3.70321642e+01  5.89444811e+01  1.60418554e+01 -1.48293324e-02\n",
      "  6.03555640e+02  4.94700858e-03 -5.43820144e-02  1.00513307e+00\n",
      "  1.23605054e-01  1.95074667e+01  2.11917647e+00  2.10180049e+00\n",
      "  7.62118559e+02  1.23056956e+03  1.90875876e+01  1.98572827e+00\n",
      "  8.40523725e-02  3.10438691e+00  1.03828713e-01]\n"
     ]
    }
   ],
   "source": [
    "print(\"predict result\",pred)"
   ]
  },
  {
   "cell_type": "code",
   "execution_count": 44,
   "metadata": {},
   "outputs": [
    {
     "name": "stdout",
     "output_type": "stream",
     "text": [
      "actual result 352      4\n",
      "689    141\n",
      "485    288\n",
      "388     15\n",
      "31       4\n",
      "      ... \n",
      "97      19\n",
      "832      2\n",
      "787      0\n",
      "424      3\n",
      "934      0\n",
      "Name: Cases_Reported, Length: 315, dtype: int64\n"
     ]
    }
   ],
   "source": [
    "print(\"actual result\",y_test)"
   ]
  },
  {
   "cell_type": "code",
   "execution_count": 45,
   "metadata": {},
   "outputs": [
    {
     "name": "stdout",
     "output_type": "stream",
     "text": [
      "mean abs error 0.45029059349741335\n",
      "mean square error 1.026493775196698\n",
      "RMSE 1.0131602909691526\n"
     ]
    }
   ],
   "source": [
    "print('mean abs error',mean_absolute_error(y_test,pred))\n",
    "print('mean square error',mean_squared_error(y_test,pred))\n",
    "print('RMSE',np.sqrt(mean_squared_error(y_test,pred)))"
   ]
  },
  {
   "cell_type": "code",
   "execution_count": 46,
   "metadata": {},
   "outputs": [
    {
     "name": "stdout",
     "output_type": "stream",
     "text": [
      "0.9999974704669072\n"
     ]
    }
   ],
   "source": [
    "from sklearn.metrics import r2_score\n",
    "print(r2_score(y_test,pred))"
   ]
  },
  {
   "cell_type": "code",
   "execution_count": 47,
   "metadata": {},
   "outputs": [
    {
     "name": "stdout",
     "output_type": "stream",
     "text": [
      "[0.99999876 0.9999798  0.99999697 0.99998554 0.99999658]\n",
      "0.9999915307322615 7.495475332938792e-06\n"
     ]
    }
   ],
   "source": [
    "from sklearn.model_selection import cross_val_score\n",
    "scores=cross_val_score(LinearRegression(),x,y,cv=5)\n",
    "print(scores)\n",
    "print(scores.mean(),scores.std())"
   ]
  },
  {
   "cell_type": "code",
   "execution_count": null,
   "metadata": {},
   "outputs": [],
   "source": []
  }
 ],
 "metadata": {
  "kernelspec": {
   "display_name": "Python 3",
   "language": "python",
   "name": "python3"
  },
  "language_info": {
   "codemirror_mode": {
    "name": "ipython",
    "version": 3
   },
   "file_extension": ".py",
   "mimetype": "text/x-python",
   "name": "python",
   "nbconvert_exporter": "python",
   "pygments_lexer": "ipython3",
   "version": "3.8.3"
  }
 },
 "nbformat": 4,
 "nbformat_minor": 4
}
